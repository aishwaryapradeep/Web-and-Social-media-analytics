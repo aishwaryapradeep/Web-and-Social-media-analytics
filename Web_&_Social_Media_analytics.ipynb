{
  "nbformat": 4,
  "nbformat_minor": 0,
  "metadata": {
    "colab": {
      "provenance": []
    },
    "kernelspec": {
      "name": "python3",
      "display_name": "Python 3"
    },
    "language_info": {
      "name": "python"
    }
  },
  "cells": [
    {
      "cell_type": "markdown",
      "source": [
        "# **CAPSTONE PROJECT - WEB AND SOCIAL MEDIA ANALYTICS**"
      ],
      "metadata": {
        "id": "hfSOFEjtQJNS"
      }
    },
    {
      "cell_type": "markdown",
      "source": [
        "## **Problem Statement**\n",
        "\n",
        "Let's say your client is a US-based mobile device maker that only recently joined the market. Being a newcomer to the market, they wish to comprehend their rivals and the preferences of their customers in order to tailor their plans. To strengthen their brand, give customers features that are most valuable, and reduce the supply-demand imbalance, they wish to make adjustments to their marketing methods. Their goal is to boost both their brand's value and market share.\n",
        "\n",
        "Assume that this mobile phone manufacturer has contacted you as a data analytics supplier. To assist them in achieving their goal, they want you to give them some important insights into the mobile phone sector.Their objective is to develop a new product optimally and create some marketing strategies."
      ],
      "metadata": {
        "id": "8TezG9p5RSxW"
      }
    },
    {
      "cell_type": "markdown",
      "source": [
        "**Mounting Google Drive with Colab**"
      ],
      "metadata": {
        "id": "Gou3-pX3RvC-"
      }
    },
    {
      "cell_type": "code",
      "execution_count": 102,
      "metadata": {
        "colab": {
          "base_uri": "https://localhost:8080/"
        },
        "id": "DHM8kuTkM-lA",
        "outputId": "a9a198fc-fef2-45d1-b49c-5204c3843df6"
      },
      "outputs": [
        {
          "output_type": "stream",
          "name": "stdout",
          "text": [
            "Drive already mounted at /content/drive; to attempt to forcibly remount, call drive.mount(\"/content/drive\", force_remount=True).\n"
          ]
        }
      ],
      "source": [
        "from google.colab import drive\n",
        "drive.mount('/content/drive')"
      ]
    },
    {
      "cell_type": "markdown",
      "source": [
        "**Checking the files in Google drive under Web_and_social_media_analytics folder**"
      ],
      "metadata": {
        "id": "IP2bZ6SdSieY"
      }
    },
    {
      "cell_type": "code",
      "source": [
        "!ls drive/'MyDrive/Web_and_social_media_analytics'/"
      ],
      "metadata": {
        "colab": {
          "base_uri": "https://localhost:8080/"
        },
        "id": "0M3jk_6mQGU-",
        "outputId": "8515679b-e172-405c-fdd2-eae59ea80e9e"
      },
      "execution_count": 103,
      "outputs": [
        {
          "output_type": "stream",
          "name": "stdout",
          "text": [
            "'Brands and Asins.csv'\t\t\t    phone_data_final.csv\n",
            " Cell_Phones_and_Accessories_5.csv\t    phone_reviews.csv\n",
            " meta_Cell_Phones_and_Accessories.json\t    positive_corpus.xlsx\n",
            " meta_Cell_Phones_and_Accessories.json.gz   pos_words.txt\n",
            " negative_corpus.xlsx\t\t\t    review_sentiment.csv\n",
            " neg_words.txt\t\t\t\t    stop_words_long.txt\n"
          ]
        }
      ]
    },
    {
      "cell_type": "markdown",
      "source": [
        "### **Importing Libraries**"
      ],
      "metadata": {
        "id": "ROBMYbKJTGBT"
      }
    },
    {
      "cell_type": "code",
      "source": [
        "import pandas as pd\n",
        "import numpy as np\n",
        "import gzip\n",
        "import shutil\n",
        "import json\n",
        "from datetime import datetime, timedelta\n",
        "from nltk.corpus import stopwords\n",
        "from nltk.stem import PorterStemmer\n",
        "from nltk.stem import WordNetLemmatizer\n",
        "import nltk\n",
        "import re\n",
        "import string\n",
        "from nltk import word_tokenize, bigrams, FreqDist\n",
        "from sklearn.model_selection  import train_test_split\n",
        "from sklearn.naive_bayes import MultinomialNB\n",
        "from sklearn import metrics\n",
        "import networkx as nx"
      ],
      "metadata": {
        "id": "c7t4A7ZFSqMd"
      },
      "execution_count": 104,
      "outputs": []
    },
    {
      "cell_type": "code",
      "source": [
        "#importing necessary visualisation libraries\n",
        "import torch\n",
        "from tqdm.notebook import tqdm\n",
        "import matplotlib.pyplot as plt\n",
        "import seaborn as sns\n",
        "from wordcloud import WordCloud, STOPWORDS\n",
        "from sklearn.feature_extraction.text import CountVectorizer\n",
        "from textblob import TextBlob"
      ],
      "metadata": {
        "id": "lnk3xc5sDA8p"
      },
      "execution_count": 105,
      "outputs": []
    },
    {
      "cell_type": "markdown",
      "source": [
        "###**Reading the Data**\n",
        "\n",
        "1. Phone data as the .csv file: Contains the consumer activity information\n",
        "2. Phone metadata as zipped .json file: This data contains the product information and is independent of the consumer/reviewer activity and includes description, price, sales-rank, brand info, and co-purchasing links etc."
      ],
      "metadata": {
        "id": "wCi-LycGTXCS"
      }
    },
    {
      "cell_type": "code",
      "source": [
        "#Path to the meta data zip file 'meta_cell_phones_and_Accessories' is the folder name under 'My Drive/Web_and_social_media_analytics'\n",
        "path1 = '/content/drive/MyDrive/Web_and_social_media_analytics/meta_Cell_Phones_and_Accessories.json.gz'\n",
        "\n",
        "# Path to meta data .json file\n",
        "path2 = '/content/drive/MyDrive/meta_Cell_Phones_and_Accessories.json'\n",
        "\n",
        "# Unzipping the meta data file\n",
        "with gzip.open(path1, 'rb') as f_in:\n",
        "    with open(path2, 'wb') as f_out:\n",
        "        shutil.copyfileobj(f_in, f_out)"
      ],
      "metadata": {
        "id": "qhNha5QgSqJ5"
      },
      "execution_count": 106,
      "outputs": []
    },
    {
      "cell_type": "code",
      "source": [
        "# Reading the unzipped meta data into a Python list. The result will be a list of dictionaries.\n",
        "\n",
        "phonemetadata = []\n",
        "\n",
        "# Reading the dictionaries in the json file and appending it to the list phonemetadata[]\n",
        "with open(path2, 'r') as file:\n",
        "    for line in file:\n",
        "        phonemetadata.append(json.loads(line))"
      ],
      "metadata": {
        "id": "JLYSvxv8SqHF"
      },
      "execution_count": 107,
      "outputs": []
    },
    {
      "cell_type": "code",
      "source": [
        "# Number of entries in the phonemetadata list\n",
        "len(phonemetadata)"
      ],
      "metadata": {
        "colab": {
          "base_uri": "https://localhost:8080/"
        },
        "id": "uSByv7SVSqEI",
        "outputId": "65f301af-e2e0-4983-caea-4c1e0b9f867b"
      },
      "execution_count": 108,
      "outputs": [
        {
          "output_type": "execute_result",
          "data": {
            "text/plain": [
              "590071"
            ]
          },
          "metadata": {},
          "execution_count": 108
        }
      ]
    },
    {
      "cell_type": "code",
      "source": [
        "#Converting the list phonemetadata into a data frame\n",
        "meta=pd.DataFrame(phonemetadata)\n",
        "\n",
        "#Creating new .csv file for meta\n",
        "meta.to_csv('/content/drive/MyDrive/meta.csv', escapechar='\\\\')"
      ],
      "metadata": {
        "id": "S3CHYebhSp-_"
      },
      "execution_count": 109,
      "outputs": []
    },
    {
      "cell_type": "code",
      "source": [
        "#reading meta.csv file\n",
        "meta=pd.read_csv('/content/drive/MyDrive/meta.csv')"
      ],
      "metadata": {
        "colab": {
          "base_uri": "https://localhost:8080/"
        },
        "id": "dquW20RfSp0U",
        "outputId": "bc8805fe-329d-4640-9fa0-da280e098230"
      },
      "execution_count": 110,
      "outputs": [
        {
          "output_type": "stream",
          "name": "stderr",
          "text": [
            "<ipython-input-110-d5c9e9542def>:2: DtypeWarning: Columns (4,8) have mixed types. Specify dtype option on import or set low_memory=False.\n",
            "  meta=pd.read_csv('/content/drive/MyDrive/meta.csv')\n"
          ]
        }
      ]
    },
    {
      "cell_type": "code",
      "source": [
        "#Reading the .csv file of the phone data into a dataframe\n",
        "\n",
        "phonedata = pd.read_csv('/content/drive/MyDrive/Web_and_social_media_analytics/Cell_Phones_and_Accessories_5.csv')"
      ],
      "metadata": {
        "colab": {
          "base_uri": "https://localhost:8080/"
        },
        "id": "qdgadzG0a8Fn",
        "outputId": "5102dc20-89b4-4d36-bbe0-c8f5e0907c39"
      },
      "execution_count": 111,
      "outputs": [
        {
          "output_type": "stream",
          "name": "stderr",
          "text": [
            "<ipython-input-111-bddf93f219e0>:3: DtypeWarning: Columns (9) have mixed types. Specify dtype option on import or set low_memory=False.\n",
            "  phonedata = pd.read_csv('/content/drive/MyDrive/Web_and_social_media_analytics/Cell_Phones_and_Accessories_5.csv')\n"
          ]
        }
      ]
    },
    {
      "cell_type": "code",
      "source": [
        "phonedata.head(5)"
      ],
      "metadata": {
        "colab": {
          "base_uri": "https://localhost:8080/",
          "height": 652
        },
        "id": "KEp7cj8Ia8DB",
        "outputId": "29f04507-4c38-4cf7-da5b-2542cecc3d92"
      },
      "execution_count": 112,
      "outputs": [
        {
          "output_type": "execute_result",
          "data": {
            "text/plain": [
              "   overall  verified      reviewerID        asin                 style  \\\n",
              "0      5.0      True  A24E3SXTC62LJI  7508492919  {'Color:': ' Bling'}   \n",
              "1      5.0      True  A269FLZCB4GIPV  7508492919                   NaN   \n",
              "2      3.0      True   AB6CHQWHZW4TV  7508492919                   NaN   \n",
              "3      2.0      True   A1M117A53LEI8  7508492919                   NaN   \n",
              "4      4.0      True  A272DUT8M88ZS8  7508492919                   NaN   \n",
              "\n",
              "       reviewerName                                         reviewText  \\\n",
              "0  Claudia Valdivia  Looks even better in person. Be careful to not...   \n",
              "1       sarah ponce  When you don't want to spend a whole lot of ca...   \n",
              "2               Kai  so the case came on time, i love the design. I...   \n",
              "3   Sharon Williams  DON'T CARE FOR IT.  GAVE IT AS A GIFT AND THEY...   \n",
              "4   Bella Rodriguez  I liked it because it was cute, but the studs ...   \n",
              "\n",
              "                               summary  unixReviewTime vote image  \\\n",
              "0  Can't stop won't stop looking at it      1407110400  NaN   NaN   \n",
              "1                                    1      1392163200  NaN   NaN   \n",
              "2                             Its okay      1391817600  NaN   NaN   \n",
              "3                                 CASE      1391472000  NaN   NaN   \n",
              "4                                Cute!      1391385600  NaN   NaN   \n",
              "\n",
              "  review_sentiment  \n",
              "0         POSITIVE  \n",
              "1         POSITIVE  \n",
              "2         NEGATIVE  \n",
              "3         POSITIVE  \n",
              "4         POSITIVE  "
            ],
            "text/html": [
              "\n",
              "\n",
              "  <div id=\"df-accf541e-1064-40de-93b7-7c65b29a8adc\">\n",
              "    <div class=\"colab-df-container\">\n",
              "      <div>\n",
              "<style scoped>\n",
              "    .dataframe tbody tr th:only-of-type {\n",
              "        vertical-align: middle;\n",
              "    }\n",
              "\n",
              "    .dataframe tbody tr th {\n",
              "        vertical-align: top;\n",
              "    }\n",
              "\n",
              "    .dataframe thead th {\n",
              "        text-align: right;\n",
              "    }\n",
              "</style>\n",
              "<table border=\"1\" class=\"dataframe\">\n",
              "  <thead>\n",
              "    <tr style=\"text-align: right;\">\n",
              "      <th></th>\n",
              "      <th>overall</th>\n",
              "      <th>verified</th>\n",
              "      <th>reviewerID</th>\n",
              "      <th>asin</th>\n",
              "      <th>style</th>\n",
              "      <th>reviewerName</th>\n",
              "      <th>reviewText</th>\n",
              "      <th>summary</th>\n",
              "      <th>unixReviewTime</th>\n",
              "      <th>vote</th>\n",
              "      <th>image</th>\n",
              "      <th>review_sentiment</th>\n",
              "    </tr>\n",
              "  </thead>\n",
              "  <tbody>\n",
              "    <tr>\n",
              "      <th>0</th>\n",
              "      <td>5.0</td>\n",
              "      <td>True</td>\n",
              "      <td>A24E3SXTC62LJI</td>\n",
              "      <td>7508492919</td>\n",
              "      <td>{'Color:': ' Bling'}</td>\n",
              "      <td>Claudia Valdivia</td>\n",
              "      <td>Looks even better in person. Be careful to not...</td>\n",
              "      <td>Can't stop won't stop looking at it</td>\n",
              "      <td>1407110400</td>\n",
              "      <td>NaN</td>\n",
              "      <td>NaN</td>\n",
              "      <td>POSITIVE</td>\n",
              "    </tr>\n",
              "    <tr>\n",
              "      <th>1</th>\n",
              "      <td>5.0</td>\n",
              "      <td>True</td>\n",
              "      <td>A269FLZCB4GIPV</td>\n",
              "      <td>7508492919</td>\n",
              "      <td>NaN</td>\n",
              "      <td>sarah ponce</td>\n",
              "      <td>When you don't want to spend a whole lot of ca...</td>\n",
              "      <td>1</td>\n",
              "      <td>1392163200</td>\n",
              "      <td>NaN</td>\n",
              "      <td>NaN</td>\n",
              "      <td>POSITIVE</td>\n",
              "    </tr>\n",
              "    <tr>\n",
              "      <th>2</th>\n",
              "      <td>3.0</td>\n",
              "      <td>True</td>\n",
              "      <td>AB6CHQWHZW4TV</td>\n",
              "      <td>7508492919</td>\n",
              "      <td>NaN</td>\n",
              "      <td>Kai</td>\n",
              "      <td>so the case came on time, i love the design. I...</td>\n",
              "      <td>Its okay</td>\n",
              "      <td>1391817600</td>\n",
              "      <td>NaN</td>\n",
              "      <td>NaN</td>\n",
              "      <td>NEGATIVE</td>\n",
              "    </tr>\n",
              "    <tr>\n",
              "      <th>3</th>\n",
              "      <td>2.0</td>\n",
              "      <td>True</td>\n",
              "      <td>A1M117A53LEI8</td>\n",
              "      <td>7508492919</td>\n",
              "      <td>NaN</td>\n",
              "      <td>Sharon Williams</td>\n",
              "      <td>DON'T CARE FOR IT.  GAVE IT AS A GIFT AND THEY...</td>\n",
              "      <td>CASE</td>\n",
              "      <td>1391472000</td>\n",
              "      <td>NaN</td>\n",
              "      <td>NaN</td>\n",
              "      <td>POSITIVE</td>\n",
              "    </tr>\n",
              "    <tr>\n",
              "      <th>4</th>\n",
              "      <td>4.0</td>\n",
              "      <td>True</td>\n",
              "      <td>A272DUT8M88ZS8</td>\n",
              "      <td>7508492919</td>\n",
              "      <td>NaN</td>\n",
              "      <td>Bella Rodriguez</td>\n",
              "      <td>I liked it because it was cute, but the studs ...</td>\n",
              "      <td>Cute!</td>\n",
              "      <td>1391385600</td>\n",
              "      <td>NaN</td>\n",
              "      <td>NaN</td>\n",
              "      <td>POSITIVE</td>\n",
              "    </tr>\n",
              "  </tbody>\n",
              "</table>\n",
              "</div>\n",
              "      <button class=\"colab-df-convert\" onclick=\"convertToInteractive('df-accf541e-1064-40de-93b7-7c65b29a8adc')\"\n",
              "              title=\"Convert this dataframe to an interactive table.\"\n",
              "              style=\"display:none;\">\n",
              "\n",
              "  <svg xmlns=\"http://www.w3.org/2000/svg\" height=\"24px\"viewBox=\"0 0 24 24\"\n",
              "       width=\"24px\">\n",
              "    <path d=\"M0 0h24v24H0V0z\" fill=\"none\"/>\n",
              "    <path d=\"M18.56 5.44l.94 2.06.94-2.06 2.06-.94-2.06-.94-.94-2.06-.94 2.06-2.06.94zm-11 1L8.5 8.5l.94-2.06 2.06-.94-2.06-.94L8.5 2.5l-.94 2.06-2.06.94zm10 10l.94 2.06.94-2.06 2.06-.94-2.06-.94-.94-2.06-.94 2.06-2.06.94z\"/><path d=\"M17.41 7.96l-1.37-1.37c-.4-.4-.92-.59-1.43-.59-.52 0-1.04.2-1.43.59L10.3 9.45l-7.72 7.72c-.78.78-.78 2.05 0 2.83L4 21.41c.39.39.9.59 1.41.59.51 0 1.02-.2 1.41-.59l7.78-7.78 2.81-2.81c.8-.78.8-2.07 0-2.86zM5.41 20L4 18.59l7.72-7.72 1.47 1.35L5.41 20z\"/>\n",
              "  </svg>\n",
              "      </button>\n",
              "\n",
              "\n",
              "\n",
              "    <div id=\"df-0da0814f-693c-4815-bcde-f938e0691c08\">\n",
              "      <button class=\"colab-df-quickchart\" onclick=\"quickchart('df-0da0814f-693c-4815-bcde-f938e0691c08')\"\n",
              "              title=\"Suggest charts.\"\n",
              "              style=\"display:none;\">\n",
              "\n",
              "<svg xmlns=\"http://www.w3.org/2000/svg\" height=\"24px\"viewBox=\"0 0 24 24\"\n",
              "     width=\"24px\">\n",
              "    <g>\n",
              "        <path d=\"M19 3H5c-1.1 0-2 .9-2 2v14c0 1.1.9 2 2 2h14c1.1 0 2-.9 2-2V5c0-1.1-.9-2-2-2zM9 17H7v-7h2v7zm4 0h-2V7h2v10zm4 0h-2v-4h2v4z\"/>\n",
              "    </g>\n",
              "</svg>\n",
              "      </button>\n",
              "    </div>\n",
              "\n",
              "<style>\n",
              "  .colab-df-quickchart {\n",
              "    background-color: #E8F0FE;\n",
              "    border: none;\n",
              "    border-radius: 50%;\n",
              "    cursor: pointer;\n",
              "    display: none;\n",
              "    fill: #1967D2;\n",
              "    height: 32px;\n",
              "    padding: 0 0 0 0;\n",
              "    width: 32px;\n",
              "  }\n",
              "\n",
              "  .colab-df-quickchart:hover {\n",
              "    background-color: #E2EBFA;\n",
              "    box-shadow: 0px 1px 2px rgba(60, 64, 67, 0.3), 0px 1px 3px 1px rgba(60, 64, 67, 0.15);\n",
              "    fill: #174EA6;\n",
              "  }\n",
              "\n",
              "  [theme=dark] .colab-df-quickchart {\n",
              "    background-color: #3B4455;\n",
              "    fill: #D2E3FC;\n",
              "  }\n",
              "\n",
              "  [theme=dark] .colab-df-quickchart:hover {\n",
              "    background-color: #434B5C;\n",
              "    box-shadow: 0px 1px 3px 1px rgba(0, 0, 0, 0.15);\n",
              "    filter: drop-shadow(0px 1px 2px rgba(0, 0, 0, 0.3));\n",
              "    fill: #FFFFFF;\n",
              "  }\n",
              "</style>\n",
              "\n",
              "    <script>\n",
              "      async function quickchart(key) {\n",
              "        const containerElement = document.querySelector('#' + key);\n",
              "        const charts = await google.colab.kernel.invokeFunction(\n",
              "            'suggestCharts', [key], {});\n",
              "      }\n",
              "    </script>\n",
              "\n",
              "      <script>\n",
              "\n",
              "function displayQuickchartButton(domScope) {\n",
              "  let quickchartButtonEl =\n",
              "    domScope.querySelector('#df-0da0814f-693c-4815-bcde-f938e0691c08 button.colab-df-quickchart');\n",
              "  quickchartButtonEl.style.display =\n",
              "    google.colab.kernel.accessAllowed ? 'block' : 'none';\n",
              "}\n",
              "\n",
              "        displayQuickchartButton(document);\n",
              "      </script>\n",
              "      <style>\n",
              "    .colab-df-container {\n",
              "      display:flex;\n",
              "      flex-wrap:wrap;\n",
              "      gap: 12px;\n",
              "    }\n",
              "\n",
              "    .colab-df-convert {\n",
              "      background-color: #E8F0FE;\n",
              "      border: none;\n",
              "      border-radius: 50%;\n",
              "      cursor: pointer;\n",
              "      display: none;\n",
              "      fill: #1967D2;\n",
              "      height: 32px;\n",
              "      padding: 0 0 0 0;\n",
              "      width: 32px;\n",
              "    }\n",
              "\n",
              "    .colab-df-convert:hover {\n",
              "      background-color: #E2EBFA;\n",
              "      box-shadow: 0px 1px 2px rgba(60, 64, 67, 0.3), 0px 1px 3px 1px rgba(60, 64, 67, 0.15);\n",
              "      fill: #174EA6;\n",
              "    }\n",
              "\n",
              "    [theme=dark] .colab-df-convert {\n",
              "      background-color: #3B4455;\n",
              "      fill: #D2E3FC;\n",
              "    }\n",
              "\n",
              "    [theme=dark] .colab-df-convert:hover {\n",
              "      background-color: #434B5C;\n",
              "      box-shadow: 0px 1px 3px 1px rgba(0, 0, 0, 0.15);\n",
              "      filter: drop-shadow(0px 1px 2px rgba(0, 0, 0, 0.3));\n",
              "      fill: #FFFFFF;\n",
              "    }\n",
              "  </style>\n",
              "\n",
              "      <script>\n",
              "        const buttonEl =\n",
              "          document.querySelector('#df-accf541e-1064-40de-93b7-7c65b29a8adc button.colab-df-convert');\n",
              "        buttonEl.style.display =\n",
              "          google.colab.kernel.accessAllowed ? 'block' : 'none';\n",
              "\n",
              "        async function convertToInteractive(key) {\n",
              "          const element = document.querySelector('#df-accf541e-1064-40de-93b7-7c65b29a8adc');\n",
              "          const dataTable =\n",
              "            await google.colab.kernel.invokeFunction('convertToInteractive',\n",
              "                                                     [key], {});\n",
              "          if (!dataTable) return;\n",
              "\n",
              "          const docLinkHtml = 'Like what you see? Visit the ' +\n",
              "            '<a target=\"_blank\" href=https://colab.research.google.com/notebooks/data_table.ipynb>data table notebook</a>'\n",
              "            + ' to learn more about interactive tables.';\n",
              "          element.innerHTML = '';\n",
              "          dataTable['output_type'] = 'display_data';\n",
              "          await google.colab.output.renderOutput(dataTable, element);\n",
              "          const docLink = document.createElement('div');\n",
              "          docLink.innerHTML = docLinkHtml;\n",
              "          element.appendChild(docLink);\n",
              "        }\n",
              "      </script>\n",
              "    </div>\n",
              "  </div>\n"
            ]
          },
          "metadata": {},
          "execution_count": 112
        }
      ]
    },
    {
      "cell_type": "markdown",
      "source": [
        "### **Data Pre-Processing**"
      ],
      "metadata": {
        "id": "d3FCVqyGbhYz"
      }
    },
    {
      "cell_type": "code",
      "source": [
        "#Transforming unixReview time to date time format in phone data\n",
        "phonedata['DateTime'] = phonedata['unixReviewTime'].apply(lambda d: (datetime.fromtimestamp(d) - timedelta(hours=2)).strftime('%d-%m-%Y'))"
      ],
      "metadata": {
        "id": "r08_A3wga8Aj"
      },
      "execution_count": 113,
      "outputs": []
    },
    {
      "cell_type": "code",
      "source": [
        "phonedata.head(5)"
      ],
      "metadata": {
        "colab": {
          "base_uri": "https://localhost:8080/",
          "height": 652
        },
        "id": "Hmarhhl3a791",
        "outputId": "d01865a3-df2d-4ed9-ff7e-5dbe63638277"
      },
      "execution_count": 114,
      "outputs": [
        {
          "output_type": "execute_result",
          "data": {
            "text/plain": [
              "   overall  verified      reviewerID        asin                 style  \\\n",
              "0      5.0      True  A24E3SXTC62LJI  7508492919  {'Color:': ' Bling'}   \n",
              "1      5.0      True  A269FLZCB4GIPV  7508492919                   NaN   \n",
              "2      3.0      True   AB6CHQWHZW4TV  7508492919                   NaN   \n",
              "3      2.0      True   A1M117A53LEI8  7508492919                   NaN   \n",
              "4      4.0      True  A272DUT8M88ZS8  7508492919                   NaN   \n",
              "\n",
              "       reviewerName                                         reviewText  \\\n",
              "0  Claudia Valdivia  Looks even better in person. Be careful to not...   \n",
              "1       sarah ponce  When you don't want to spend a whole lot of ca...   \n",
              "2               Kai  so the case came on time, i love the design. I...   \n",
              "3   Sharon Williams  DON'T CARE FOR IT.  GAVE IT AS A GIFT AND THEY...   \n",
              "4   Bella Rodriguez  I liked it because it was cute, but the studs ...   \n",
              "\n",
              "                               summary  unixReviewTime vote image  \\\n",
              "0  Can't stop won't stop looking at it      1407110400  NaN   NaN   \n",
              "1                                    1      1392163200  NaN   NaN   \n",
              "2                             Its okay      1391817600  NaN   NaN   \n",
              "3                                 CASE      1391472000  NaN   NaN   \n",
              "4                                Cute!      1391385600  NaN   NaN   \n",
              "\n",
              "  review_sentiment    DateTime  \n",
              "0         POSITIVE  03-08-2014  \n",
              "1         POSITIVE  11-02-2014  \n",
              "2         NEGATIVE  07-02-2014  \n",
              "3         POSITIVE  03-02-2014  \n",
              "4         POSITIVE  02-02-2014  "
            ],
            "text/html": [
              "\n",
              "\n",
              "  <div id=\"df-592f7ecb-656d-47b7-81bf-513502f34069\">\n",
              "    <div class=\"colab-df-container\">\n",
              "      <div>\n",
              "<style scoped>\n",
              "    .dataframe tbody tr th:only-of-type {\n",
              "        vertical-align: middle;\n",
              "    }\n",
              "\n",
              "    .dataframe tbody tr th {\n",
              "        vertical-align: top;\n",
              "    }\n",
              "\n",
              "    .dataframe thead th {\n",
              "        text-align: right;\n",
              "    }\n",
              "</style>\n",
              "<table border=\"1\" class=\"dataframe\">\n",
              "  <thead>\n",
              "    <tr style=\"text-align: right;\">\n",
              "      <th></th>\n",
              "      <th>overall</th>\n",
              "      <th>verified</th>\n",
              "      <th>reviewerID</th>\n",
              "      <th>asin</th>\n",
              "      <th>style</th>\n",
              "      <th>reviewerName</th>\n",
              "      <th>reviewText</th>\n",
              "      <th>summary</th>\n",
              "      <th>unixReviewTime</th>\n",
              "      <th>vote</th>\n",
              "      <th>image</th>\n",
              "      <th>review_sentiment</th>\n",
              "      <th>DateTime</th>\n",
              "    </tr>\n",
              "  </thead>\n",
              "  <tbody>\n",
              "    <tr>\n",
              "      <th>0</th>\n",
              "      <td>5.0</td>\n",
              "      <td>True</td>\n",
              "      <td>A24E3SXTC62LJI</td>\n",
              "      <td>7508492919</td>\n",
              "      <td>{'Color:': ' Bling'}</td>\n",
              "      <td>Claudia Valdivia</td>\n",
              "      <td>Looks even better in person. Be careful to not...</td>\n",
              "      <td>Can't stop won't stop looking at it</td>\n",
              "      <td>1407110400</td>\n",
              "      <td>NaN</td>\n",
              "      <td>NaN</td>\n",
              "      <td>POSITIVE</td>\n",
              "      <td>03-08-2014</td>\n",
              "    </tr>\n",
              "    <tr>\n",
              "      <th>1</th>\n",
              "      <td>5.0</td>\n",
              "      <td>True</td>\n",
              "      <td>A269FLZCB4GIPV</td>\n",
              "      <td>7508492919</td>\n",
              "      <td>NaN</td>\n",
              "      <td>sarah ponce</td>\n",
              "      <td>When you don't want to spend a whole lot of ca...</td>\n",
              "      <td>1</td>\n",
              "      <td>1392163200</td>\n",
              "      <td>NaN</td>\n",
              "      <td>NaN</td>\n",
              "      <td>POSITIVE</td>\n",
              "      <td>11-02-2014</td>\n",
              "    </tr>\n",
              "    <tr>\n",
              "      <th>2</th>\n",
              "      <td>3.0</td>\n",
              "      <td>True</td>\n",
              "      <td>AB6CHQWHZW4TV</td>\n",
              "      <td>7508492919</td>\n",
              "      <td>NaN</td>\n",
              "      <td>Kai</td>\n",
              "      <td>so the case came on time, i love the design. I...</td>\n",
              "      <td>Its okay</td>\n",
              "      <td>1391817600</td>\n",
              "      <td>NaN</td>\n",
              "      <td>NaN</td>\n",
              "      <td>NEGATIVE</td>\n",
              "      <td>07-02-2014</td>\n",
              "    </tr>\n",
              "    <tr>\n",
              "      <th>3</th>\n",
              "      <td>2.0</td>\n",
              "      <td>True</td>\n",
              "      <td>A1M117A53LEI8</td>\n",
              "      <td>7508492919</td>\n",
              "      <td>NaN</td>\n",
              "      <td>Sharon Williams</td>\n",
              "      <td>DON'T CARE FOR IT.  GAVE IT AS A GIFT AND THEY...</td>\n",
              "      <td>CASE</td>\n",
              "      <td>1391472000</td>\n",
              "      <td>NaN</td>\n",
              "      <td>NaN</td>\n",
              "      <td>POSITIVE</td>\n",
              "      <td>03-02-2014</td>\n",
              "    </tr>\n",
              "    <tr>\n",
              "      <th>4</th>\n",
              "      <td>4.0</td>\n",
              "      <td>True</td>\n",
              "      <td>A272DUT8M88ZS8</td>\n",
              "      <td>7508492919</td>\n",
              "      <td>NaN</td>\n",
              "      <td>Bella Rodriguez</td>\n",
              "      <td>I liked it because it was cute, but the studs ...</td>\n",
              "      <td>Cute!</td>\n",
              "      <td>1391385600</td>\n",
              "      <td>NaN</td>\n",
              "      <td>NaN</td>\n",
              "      <td>POSITIVE</td>\n",
              "      <td>02-02-2014</td>\n",
              "    </tr>\n",
              "  </tbody>\n",
              "</table>\n",
              "</div>\n",
              "      <button class=\"colab-df-convert\" onclick=\"convertToInteractive('df-592f7ecb-656d-47b7-81bf-513502f34069')\"\n",
              "              title=\"Convert this dataframe to an interactive table.\"\n",
              "              style=\"display:none;\">\n",
              "\n",
              "  <svg xmlns=\"http://www.w3.org/2000/svg\" height=\"24px\"viewBox=\"0 0 24 24\"\n",
              "       width=\"24px\">\n",
              "    <path d=\"M0 0h24v24H0V0z\" fill=\"none\"/>\n",
              "    <path d=\"M18.56 5.44l.94 2.06.94-2.06 2.06-.94-2.06-.94-.94-2.06-.94 2.06-2.06.94zm-11 1L8.5 8.5l.94-2.06 2.06-.94-2.06-.94L8.5 2.5l-.94 2.06-2.06.94zm10 10l.94 2.06.94-2.06 2.06-.94-2.06-.94-.94-2.06-.94 2.06-2.06.94z\"/><path d=\"M17.41 7.96l-1.37-1.37c-.4-.4-.92-.59-1.43-.59-.52 0-1.04.2-1.43.59L10.3 9.45l-7.72 7.72c-.78.78-.78 2.05 0 2.83L4 21.41c.39.39.9.59 1.41.59.51 0 1.02-.2 1.41-.59l7.78-7.78 2.81-2.81c.8-.78.8-2.07 0-2.86zM5.41 20L4 18.59l7.72-7.72 1.47 1.35L5.41 20z\"/>\n",
              "  </svg>\n",
              "      </button>\n",
              "\n",
              "\n",
              "\n",
              "    <div id=\"df-8d38d090-7493-4a98-9fbb-fc2118ca47f6\">\n",
              "      <button class=\"colab-df-quickchart\" onclick=\"quickchart('df-8d38d090-7493-4a98-9fbb-fc2118ca47f6')\"\n",
              "              title=\"Suggest charts.\"\n",
              "              style=\"display:none;\">\n",
              "\n",
              "<svg xmlns=\"http://www.w3.org/2000/svg\" height=\"24px\"viewBox=\"0 0 24 24\"\n",
              "     width=\"24px\">\n",
              "    <g>\n",
              "        <path d=\"M19 3H5c-1.1 0-2 .9-2 2v14c0 1.1.9 2 2 2h14c1.1 0 2-.9 2-2V5c0-1.1-.9-2-2-2zM9 17H7v-7h2v7zm4 0h-2V7h2v10zm4 0h-2v-4h2v4z\"/>\n",
              "    </g>\n",
              "</svg>\n",
              "      </button>\n",
              "    </div>\n",
              "\n",
              "<style>\n",
              "  .colab-df-quickchart {\n",
              "    background-color: #E8F0FE;\n",
              "    border: none;\n",
              "    border-radius: 50%;\n",
              "    cursor: pointer;\n",
              "    display: none;\n",
              "    fill: #1967D2;\n",
              "    height: 32px;\n",
              "    padding: 0 0 0 0;\n",
              "    width: 32px;\n",
              "  }\n",
              "\n",
              "  .colab-df-quickchart:hover {\n",
              "    background-color: #E2EBFA;\n",
              "    box-shadow: 0px 1px 2px rgba(60, 64, 67, 0.3), 0px 1px 3px 1px rgba(60, 64, 67, 0.15);\n",
              "    fill: #174EA6;\n",
              "  }\n",
              "\n",
              "  [theme=dark] .colab-df-quickchart {\n",
              "    background-color: #3B4455;\n",
              "    fill: #D2E3FC;\n",
              "  }\n",
              "\n",
              "  [theme=dark] .colab-df-quickchart:hover {\n",
              "    background-color: #434B5C;\n",
              "    box-shadow: 0px 1px 3px 1px rgba(0, 0, 0, 0.15);\n",
              "    filter: drop-shadow(0px 1px 2px rgba(0, 0, 0, 0.3));\n",
              "    fill: #FFFFFF;\n",
              "  }\n",
              "</style>\n",
              "\n",
              "    <script>\n",
              "      async function quickchart(key) {\n",
              "        const containerElement = document.querySelector('#' + key);\n",
              "        const charts = await google.colab.kernel.invokeFunction(\n",
              "            'suggestCharts', [key], {});\n",
              "      }\n",
              "    </script>\n",
              "\n",
              "      <script>\n",
              "\n",
              "function displayQuickchartButton(domScope) {\n",
              "  let quickchartButtonEl =\n",
              "    domScope.querySelector('#df-8d38d090-7493-4a98-9fbb-fc2118ca47f6 button.colab-df-quickchart');\n",
              "  quickchartButtonEl.style.display =\n",
              "    google.colab.kernel.accessAllowed ? 'block' : 'none';\n",
              "}\n",
              "\n",
              "        displayQuickchartButton(document);\n",
              "      </script>\n",
              "      <style>\n",
              "    .colab-df-container {\n",
              "      display:flex;\n",
              "      flex-wrap:wrap;\n",
              "      gap: 12px;\n",
              "    }\n",
              "\n",
              "    .colab-df-convert {\n",
              "      background-color: #E8F0FE;\n",
              "      border: none;\n",
              "      border-radius: 50%;\n",
              "      cursor: pointer;\n",
              "      display: none;\n",
              "      fill: #1967D2;\n",
              "      height: 32px;\n",
              "      padding: 0 0 0 0;\n",
              "      width: 32px;\n",
              "    }\n",
              "\n",
              "    .colab-df-convert:hover {\n",
              "      background-color: #E2EBFA;\n",
              "      box-shadow: 0px 1px 2px rgba(60, 64, 67, 0.3), 0px 1px 3px 1px rgba(60, 64, 67, 0.15);\n",
              "      fill: #174EA6;\n",
              "    }\n",
              "\n",
              "    [theme=dark] .colab-df-convert {\n",
              "      background-color: #3B4455;\n",
              "      fill: #D2E3FC;\n",
              "    }\n",
              "\n",
              "    [theme=dark] .colab-df-convert:hover {\n",
              "      background-color: #434B5C;\n",
              "      box-shadow: 0px 1px 3px 1px rgba(0, 0, 0, 0.15);\n",
              "      filter: drop-shadow(0px 1px 2px rgba(0, 0, 0, 0.3));\n",
              "      fill: #FFFFFF;\n",
              "    }\n",
              "  </style>\n",
              "\n",
              "      <script>\n",
              "        const buttonEl =\n",
              "          document.querySelector('#df-592f7ecb-656d-47b7-81bf-513502f34069 button.colab-df-convert');\n",
              "        buttonEl.style.display =\n",
              "          google.colab.kernel.accessAllowed ? 'block' : 'none';\n",
              "\n",
              "        async function convertToInteractive(key) {\n",
              "          const element = document.querySelector('#df-592f7ecb-656d-47b7-81bf-513502f34069');\n",
              "          const dataTable =\n",
              "            await google.colab.kernel.invokeFunction('convertToInteractive',\n",
              "                                                     [key], {});\n",
              "          if (!dataTable) return;\n",
              "\n",
              "          const docLinkHtml = 'Like what you see? Visit the ' +\n",
              "            '<a target=\"_blank\" href=https://colab.research.google.com/notebooks/data_table.ipynb>data table notebook</a>'\n",
              "            + ' to learn more about interactive tables.';\n",
              "          element.innerHTML = '';\n",
              "          dataTable['output_type'] = 'display_data';\n",
              "          await google.colab.output.renderOutput(dataTable, element);\n",
              "          const docLink = document.createElement('div');\n",
              "          docLink.innerHTML = docLinkHtml;\n",
              "          element.appendChild(docLink);\n",
              "        }\n",
              "      </script>\n",
              "    </div>\n",
              "  </div>\n"
            ]
          },
          "metadata": {},
          "execution_count": 114
        }
      ]
    },
    {
      "cell_type": "code",
      "source": [
        "#Shape of phonedata\n",
        "phonedata.shape"
      ],
      "metadata": {
        "colab": {
          "base_uri": "https://localhost:8080/"
        },
        "id": "uZ6kW1O-a74e",
        "outputId": "c38f1e1d-0aac-426a-a7b8-3f231a4fe4a8"
      },
      "execution_count": 115,
      "outputs": [
        {
          "output_type": "execute_result",
          "data": {
            "text/plain": [
              "(1128437, 13)"
            ]
          },
          "metadata": {},
          "execution_count": 115
        }
      ]
    },
    {
      "cell_type": "code",
      "source": [
        "#Checking phonedata info\n",
        "phonedata.info()"
      ],
      "metadata": {
        "colab": {
          "base_uri": "https://localhost:8080/"
        },
        "id": "VDTi1mrya7t6",
        "outputId": "42eb2df3-9e24-4ce7-adb8-7664ca06481e"
      },
      "execution_count": 116,
      "outputs": [
        {
          "output_type": "stream",
          "name": "stdout",
          "text": [
            "<class 'pandas.core.frame.DataFrame'>\n",
            "RangeIndex: 1128437 entries, 0 to 1128436\n",
            "Data columns (total 13 columns):\n",
            " #   Column            Non-Null Count    Dtype  \n",
            "---  ------            --------------    -----  \n",
            " 0   overall           1128437 non-null  float64\n",
            " 1   verified          1128437 non-null  bool   \n",
            " 2   reviewerID        1128437 non-null  object \n",
            " 3   asin              1128437 non-null  object \n",
            " 4   style             605241 non-null   object \n",
            " 5   reviewerName      1128281 non-null  object \n",
            " 6   reviewText        1127669 non-null  object \n",
            " 7   summary           1127912 non-null  object \n",
            " 8   unixReviewTime    1128437 non-null  int64  \n",
            " 9   vote              92034 non-null    object \n",
            " 10  image             27107 non-null    object \n",
            " 11  review_sentiment  1128437 non-null  object \n",
            " 12  DateTime          1128437 non-null  object \n",
            "dtypes: bool(1), float64(1), int64(1), object(10)\n",
            "memory usage: 104.4+ MB\n"
          ]
        }
      ]
    },
    {
      "cell_type": "code",
      "source": [
        "#Checking null values in phonedata\n",
        "phonedata.isnull().sum()"
      ],
      "metadata": {
        "colab": {
          "base_uri": "https://localhost:8080/"
        },
        "id": "wBtTcIP4dt9R",
        "outputId": "cffa6662-a8f2-4569-b690-876bc5610d6b"
      },
      "execution_count": 117,
      "outputs": [
        {
          "output_type": "execute_result",
          "data": {
            "text/plain": [
              "overall                   0\n",
              "verified                  0\n",
              "reviewerID                0\n",
              "asin                      0\n",
              "style                523196\n",
              "reviewerName            156\n",
              "reviewText              768\n",
              "summary                 525\n",
              "unixReviewTime            0\n",
              "vote                1036403\n",
              "image               1101330\n",
              "review_sentiment          0\n",
              "DateTime                  0\n",
              "dtype: int64"
            ]
          },
          "metadata": {},
          "execution_count": 117
        }
      ]
    },
    {
      "cell_type": "code",
      "source": [
        "#Dropping columns which have extreme number of null values. Also dropping unixReviewTime\n",
        "phonedata.drop(['vote','image','unixReviewTime'], axis = 1, inplace = True)"
      ],
      "metadata": {
        "id": "N0F7xJTJdtqO"
      },
      "execution_count": 118,
      "outputs": []
    },
    {
      "cell_type": "code",
      "source": [
        "#Deleting rows where style is null\n",
        "phonedata=phonedata[~phonedata['style'].isnull()]"
      ],
      "metadata": {
        "id": "U4NxjAyWdtny"
      },
      "execution_count": 119,
      "outputs": []
    },
    {
      "cell_type": "code",
      "source": [
        "phonedata.isnull().sum()"
      ],
      "metadata": {
        "colab": {
          "base_uri": "https://localhost:8080/"
        },
        "id": "jzXTS5NUdtlM",
        "outputId": "f97a991a-fd0c-4d30-8465-ecd63c683c6f"
      },
      "execution_count": 120,
      "outputs": [
        {
          "output_type": "execute_result",
          "data": {
            "text/plain": [
              "overall               0\n",
              "verified              0\n",
              "reviewerID            0\n",
              "asin                  0\n",
              "style                 0\n",
              "reviewerName         80\n",
              "reviewText          435\n",
              "summary             322\n",
              "review_sentiment      0\n",
              "DateTime              0\n",
              "dtype: int64"
            ]
          },
          "metadata": {},
          "execution_count": 120
        }
      ]
    },
    {
      "cell_type": "code",
      "source": [
        "#Checking current shape of phonedata\n",
        "phonedata.shape"
      ],
      "metadata": {
        "colab": {
          "base_uri": "https://localhost:8080/"
        },
        "id": "KOGcnmupdtid",
        "outputId": "a45521bb-d439-447c-e5a3-dcb85dc548cf"
      },
      "execution_count": 121,
      "outputs": [
        {
          "output_type": "execute_result",
          "data": {
            "text/plain": [
              "(605241, 10)"
            ]
          },
          "metadata": {},
          "execution_count": 121
        }
      ]
    },
    {
      "cell_type": "code",
      "source": [
        "#Describing phonedata\n",
        "phonedata.describe()"
      ],
      "metadata": {
        "colab": {
          "base_uri": "https://localhost:8080/",
          "height": 300
        },
        "id": "Q5auxm1_dtfj",
        "outputId": "aec19515-8aff-4dc1-af32-8df9dbf2e89b"
      },
      "execution_count": 122,
      "outputs": [
        {
          "output_type": "execute_result",
          "data": {
            "text/plain": [
              "             overall\n",
              "count  605241.000000\n",
              "mean        4.257537\n",
              "std         1.198782\n",
              "min         1.000000\n",
              "25%         4.000000\n",
              "50%         5.000000\n",
              "75%         5.000000\n",
              "max         5.000000"
            ],
            "text/html": [
              "\n",
              "\n",
              "  <div id=\"df-4100fa29-7e3a-49c8-8957-7167d47fc2e3\">\n",
              "    <div class=\"colab-df-container\">\n",
              "      <div>\n",
              "<style scoped>\n",
              "    .dataframe tbody tr th:only-of-type {\n",
              "        vertical-align: middle;\n",
              "    }\n",
              "\n",
              "    .dataframe tbody tr th {\n",
              "        vertical-align: top;\n",
              "    }\n",
              "\n",
              "    .dataframe thead th {\n",
              "        text-align: right;\n",
              "    }\n",
              "</style>\n",
              "<table border=\"1\" class=\"dataframe\">\n",
              "  <thead>\n",
              "    <tr style=\"text-align: right;\">\n",
              "      <th></th>\n",
              "      <th>overall</th>\n",
              "    </tr>\n",
              "  </thead>\n",
              "  <tbody>\n",
              "    <tr>\n",
              "      <th>count</th>\n",
              "      <td>605241.000000</td>\n",
              "    </tr>\n",
              "    <tr>\n",
              "      <th>mean</th>\n",
              "      <td>4.257537</td>\n",
              "    </tr>\n",
              "    <tr>\n",
              "      <th>std</th>\n",
              "      <td>1.198782</td>\n",
              "    </tr>\n",
              "    <tr>\n",
              "      <th>min</th>\n",
              "      <td>1.000000</td>\n",
              "    </tr>\n",
              "    <tr>\n",
              "      <th>25%</th>\n",
              "      <td>4.000000</td>\n",
              "    </tr>\n",
              "    <tr>\n",
              "      <th>50%</th>\n",
              "      <td>5.000000</td>\n",
              "    </tr>\n",
              "    <tr>\n",
              "      <th>75%</th>\n",
              "      <td>5.000000</td>\n",
              "    </tr>\n",
              "    <tr>\n",
              "      <th>max</th>\n",
              "      <td>5.000000</td>\n",
              "    </tr>\n",
              "  </tbody>\n",
              "</table>\n",
              "</div>\n",
              "      <button class=\"colab-df-convert\" onclick=\"convertToInteractive('df-4100fa29-7e3a-49c8-8957-7167d47fc2e3')\"\n",
              "              title=\"Convert this dataframe to an interactive table.\"\n",
              "              style=\"display:none;\">\n",
              "\n",
              "  <svg xmlns=\"http://www.w3.org/2000/svg\" height=\"24px\"viewBox=\"0 0 24 24\"\n",
              "       width=\"24px\">\n",
              "    <path d=\"M0 0h24v24H0V0z\" fill=\"none\"/>\n",
              "    <path d=\"M18.56 5.44l.94 2.06.94-2.06 2.06-.94-2.06-.94-.94-2.06-.94 2.06-2.06.94zm-11 1L8.5 8.5l.94-2.06 2.06-.94-2.06-.94L8.5 2.5l-.94 2.06-2.06.94zm10 10l.94 2.06.94-2.06 2.06-.94-2.06-.94-.94-2.06-.94 2.06-2.06.94z\"/><path d=\"M17.41 7.96l-1.37-1.37c-.4-.4-.92-.59-1.43-.59-.52 0-1.04.2-1.43.59L10.3 9.45l-7.72 7.72c-.78.78-.78 2.05 0 2.83L4 21.41c.39.39.9.59 1.41.59.51 0 1.02-.2 1.41-.59l7.78-7.78 2.81-2.81c.8-.78.8-2.07 0-2.86zM5.41 20L4 18.59l7.72-7.72 1.47 1.35L5.41 20z\"/>\n",
              "  </svg>\n",
              "      </button>\n",
              "\n",
              "\n",
              "\n",
              "    <div id=\"df-4e97486e-9616-4d56-8539-f68ded03e2b3\">\n",
              "      <button class=\"colab-df-quickchart\" onclick=\"quickchart('df-4e97486e-9616-4d56-8539-f68ded03e2b3')\"\n",
              "              title=\"Suggest charts.\"\n",
              "              style=\"display:none;\">\n",
              "\n",
              "<svg xmlns=\"http://www.w3.org/2000/svg\" height=\"24px\"viewBox=\"0 0 24 24\"\n",
              "     width=\"24px\">\n",
              "    <g>\n",
              "        <path d=\"M19 3H5c-1.1 0-2 .9-2 2v14c0 1.1.9 2 2 2h14c1.1 0 2-.9 2-2V5c0-1.1-.9-2-2-2zM9 17H7v-7h2v7zm4 0h-2V7h2v10zm4 0h-2v-4h2v4z\"/>\n",
              "    </g>\n",
              "</svg>\n",
              "      </button>\n",
              "    </div>\n",
              "\n",
              "<style>\n",
              "  .colab-df-quickchart {\n",
              "    background-color: #E8F0FE;\n",
              "    border: none;\n",
              "    border-radius: 50%;\n",
              "    cursor: pointer;\n",
              "    display: none;\n",
              "    fill: #1967D2;\n",
              "    height: 32px;\n",
              "    padding: 0 0 0 0;\n",
              "    width: 32px;\n",
              "  }\n",
              "\n",
              "  .colab-df-quickchart:hover {\n",
              "    background-color: #E2EBFA;\n",
              "    box-shadow: 0px 1px 2px rgba(60, 64, 67, 0.3), 0px 1px 3px 1px rgba(60, 64, 67, 0.15);\n",
              "    fill: #174EA6;\n",
              "  }\n",
              "\n",
              "  [theme=dark] .colab-df-quickchart {\n",
              "    background-color: #3B4455;\n",
              "    fill: #D2E3FC;\n",
              "  }\n",
              "\n",
              "  [theme=dark] .colab-df-quickchart:hover {\n",
              "    background-color: #434B5C;\n",
              "    box-shadow: 0px 1px 3px 1px rgba(0, 0, 0, 0.15);\n",
              "    filter: drop-shadow(0px 1px 2px rgba(0, 0, 0, 0.3));\n",
              "    fill: #FFFFFF;\n",
              "  }\n",
              "</style>\n",
              "\n",
              "    <script>\n",
              "      async function quickchart(key) {\n",
              "        const containerElement = document.querySelector('#' + key);\n",
              "        const charts = await google.colab.kernel.invokeFunction(\n",
              "            'suggestCharts', [key], {});\n",
              "      }\n",
              "    </script>\n",
              "\n",
              "      <script>\n",
              "\n",
              "function displayQuickchartButton(domScope) {\n",
              "  let quickchartButtonEl =\n",
              "    domScope.querySelector('#df-4e97486e-9616-4d56-8539-f68ded03e2b3 button.colab-df-quickchart');\n",
              "  quickchartButtonEl.style.display =\n",
              "    google.colab.kernel.accessAllowed ? 'block' : 'none';\n",
              "}\n",
              "\n",
              "        displayQuickchartButton(document);\n",
              "      </script>\n",
              "      <style>\n",
              "    .colab-df-container {\n",
              "      display:flex;\n",
              "      flex-wrap:wrap;\n",
              "      gap: 12px;\n",
              "    }\n",
              "\n",
              "    .colab-df-convert {\n",
              "      background-color: #E8F0FE;\n",
              "      border: none;\n",
              "      border-radius: 50%;\n",
              "      cursor: pointer;\n",
              "      display: none;\n",
              "      fill: #1967D2;\n",
              "      height: 32px;\n",
              "      padding: 0 0 0 0;\n",
              "      width: 32px;\n",
              "    }\n",
              "\n",
              "    .colab-df-convert:hover {\n",
              "      background-color: #E2EBFA;\n",
              "      box-shadow: 0px 1px 2px rgba(60, 64, 67, 0.3), 0px 1px 3px 1px rgba(60, 64, 67, 0.15);\n",
              "      fill: #174EA6;\n",
              "    }\n",
              "\n",
              "    [theme=dark] .colab-df-convert {\n",
              "      background-color: #3B4455;\n",
              "      fill: #D2E3FC;\n",
              "    }\n",
              "\n",
              "    [theme=dark] .colab-df-convert:hover {\n",
              "      background-color: #434B5C;\n",
              "      box-shadow: 0px 1px 3px 1px rgba(0, 0, 0, 0.15);\n",
              "      filter: drop-shadow(0px 1px 2px rgba(0, 0, 0, 0.3));\n",
              "      fill: #FFFFFF;\n",
              "    }\n",
              "  </style>\n",
              "\n",
              "      <script>\n",
              "        const buttonEl =\n",
              "          document.querySelector('#df-4100fa29-7e3a-49c8-8957-7167d47fc2e3 button.colab-df-convert');\n",
              "        buttonEl.style.display =\n",
              "          google.colab.kernel.accessAllowed ? 'block' : 'none';\n",
              "\n",
              "        async function convertToInteractive(key) {\n",
              "          const element = document.querySelector('#df-4100fa29-7e3a-49c8-8957-7167d47fc2e3');\n",
              "          const dataTable =\n",
              "            await google.colab.kernel.invokeFunction('convertToInteractive',\n",
              "                                                     [key], {});\n",
              "          if (!dataTable) return;\n",
              "\n",
              "          const docLinkHtml = 'Like what you see? Visit the ' +\n",
              "            '<a target=\"_blank\" href=https://colab.research.google.com/notebooks/data_table.ipynb>data table notebook</a>'\n",
              "            + ' to learn more about interactive tables.';\n",
              "          element.innerHTML = '';\n",
              "          dataTable['output_type'] = 'display_data';\n",
              "          await google.colab.output.renderOutput(dataTable, element);\n",
              "          const docLink = document.createElement('div');\n",
              "          docLink.innerHTML = docLinkHtml;\n",
              "          element.appendChild(docLink);\n",
              "        }\n",
              "      </script>\n",
              "    </div>\n",
              "  </div>\n"
            ]
          },
          "metadata": {},
          "execution_count": 122
        }
      ]
    },
    {
      "cell_type": "code",
      "source": [
        "meta.head(5)"
      ],
      "metadata": {
        "colab": {
          "base_uri": "https://localhost:8080/",
          "height": 704
        },
        "id": "DJNyJhROdtc-",
        "outputId": "d5babf63-ebc2-4706-8cc3-eda071e5d7ce"
      },
      "execution_count": 123,
      "outputs": [
        {
          "output_type": "execute_result",
          "data": {
            "text/plain": [
              "   Unnamed: 0                                           category tech1  \\\n",
              "0           0  ['Cell Phones & Accessories', 'Accessories', '...   NaN   \n",
              "1           1  ['Cell Phones & Accessories', 'Accessories', '...   NaN   \n",
              "2           2  ['Cell Phones & Accessories', 'Cases, Holsters...   NaN   \n",
              "3           3  ['Cell Phones & Accessories', 'Cases, Holsters...   NaN   \n",
              "4           4  ['Cell Phones & Accessories', 'Cases, Holsters...   NaN   \n",
              "\n",
              "                                         description  fit  \\\n",
              "0                                                 []  NaN   \n",
              "1                                                 []  NaN   \n",
              "2  ['New items to give you a new good mood, welco...  NaN   \n",
              "3  ['A brand-new, unused, unopened, undamaged ite...  NaN   \n",
              "4  ['A brand-new, unused, unopened, undamaged ite...  NaN   \n",
              "\n",
              "                                               title also_buy image tech2  \\\n",
              "0                     Trollies Sing a Long Party VHS       []    []   NaN   \n",
              "1                                        La Pura VHS       []    []   NaN   \n",
              "2  Leopard Thanksgiving Easter PC Black Case for ...       []    []   NaN   \n",
              "3  Puppies Faceplate Hard Case Protector for Net1...       []    []   NaN   \n",
              "4  White Wolf Faceplate Protector Hard Case for S...       []    []   NaN   \n",
              "\n",
              "               brand                                            feature  \\\n",
              "0                NaN                                                 []   \n",
              "1    Maribel Guardia                                                 []   \n",
              "2                NaN                                                 []   \n",
              "3         Live2Pedal  ['Protect your phone with style through this A...   \n",
              "4  wirelessoutletusa  ['Protect your phone with style through this A...   \n",
              "\n",
              "                                                rank also_view  \\\n",
              "0                           557,379 in Movies & TV (        []   \n",
              "1                         1,024,449 in Movies & TV (        []   \n",
              "2                               5,315,017 in Books (        []   \n",
              "3  ['>#6,368,825 in Cell Phones & Accessories (Se...        []   \n",
              "4  ['>#2,672,454 in Cell Phones & Accessories (Se...        []   \n",
              "\n",
              "                                             details  \\\n",
              "0                           {'ASIN: ': '6303195164'}   \n",
              "1                           {'ASIN: ': '630524412X'}   \n",
              "2  {'Publisher:': 'juduiou', 'ASIN:': '6310200240...   \n",
              "3                                                 {}   \n",
              "4                                                 {}   \n",
              "\n",
              "                    main_cat similar_item date price        asin  \n",
              "0                Movies & TV          NaN  NaN   NaN  6303195164  \n",
              "1                Movies & TV          NaN  NaN   NaN  630524412X  \n",
              "2                      Books          NaN  NaN   NaN  6310200240  \n",
              "3  Cell Phones & Accessories          NaN  NaN   NaN  6786501710  \n",
              "4  Cell Phones & Accessories          NaN  NaN   NaN  6786501273  "
            ],
            "text/html": [
              "\n",
              "\n",
              "  <div id=\"df-e1d53fc4-d58f-4407-83ee-e3836a5e7548\">\n",
              "    <div class=\"colab-df-container\">\n",
              "      <div>\n",
              "<style scoped>\n",
              "    .dataframe tbody tr th:only-of-type {\n",
              "        vertical-align: middle;\n",
              "    }\n",
              "\n",
              "    .dataframe tbody tr th {\n",
              "        vertical-align: top;\n",
              "    }\n",
              "\n",
              "    .dataframe thead th {\n",
              "        text-align: right;\n",
              "    }\n",
              "</style>\n",
              "<table border=\"1\" class=\"dataframe\">\n",
              "  <thead>\n",
              "    <tr style=\"text-align: right;\">\n",
              "      <th></th>\n",
              "      <th>Unnamed: 0</th>\n",
              "      <th>category</th>\n",
              "      <th>tech1</th>\n",
              "      <th>description</th>\n",
              "      <th>fit</th>\n",
              "      <th>title</th>\n",
              "      <th>also_buy</th>\n",
              "      <th>image</th>\n",
              "      <th>tech2</th>\n",
              "      <th>brand</th>\n",
              "      <th>feature</th>\n",
              "      <th>rank</th>\n",
              "      <th>also_view</th>\n",
              "      <th>details</th>\n",
              "      <th>main_cat</th>\n",
              "      <th>similar_item</th>\n",
              "      <th>date</th>\n",
              "      <th>price</th>\n",
              "      <th>asin</th>\n",
              "    </tr>\n",
              "  </thead>\n",
              "  <tbody>\n",
              "    <tr>\n",
              "      <th>0</th>\n",
              "      <td>0</td>\n",
              "      <td>['Cell Phones &amp; Accessories', 'Accessories', '...</td>\n",
              "      <td>NaN</td>\n",
              "      <td>[]</td>\n",
              "      <td>NaN</td>\n",
              "      <td>Trollies Sing a Long Party VHS</td>\n",
              "      <td>[]</td>\n",
              "      <td>[]</td>\n",
              "      <td>NaN</td>\n",
              "      <td>NaN</td>\n",
              "      <td>[]</td>\n",
              "      <td>557,379 in Movies &amp; TV (</td>\n",
              "      <td>[]</td>\n",
              "      <td>{'ASIN: ': '6303195164'}</td>\n",
              "      <td>Movies &amp; TV</td>\n",
              "      <td>NaN</td>\n",
              "      <td>NaN</td>\n",
              "      <td>NaN</td>\n",
              "      <td>6303195164</td>\n",
              "    </tr>\n",
              "    <tr>\n",
              "      <th>1</th>\n",
              "      <td>1</td>\n",
              "      <td>['Cell Phones &amp; Accessories', 'Accessories', '...</td>\n",
              "      <td>NaN</td>\n",
              "      <td>[]</td>\n",
              "      <td>NaN</td>\n",
              "      <td>La Pura VHS</td>\n",
              "      <td>[]</td>\n",
              "      <td>[]</td>\n",
              "      <td>NaN</td>\n",
              "      <td>Maribel Guardia</td>\n",
              "      <td>[]</td>\n",
              "      <td>1,024,449 in Movies &amp; TV (</td>\n",
              "      <td>[]</td>\n",
              "      <td>{'ASIN: ': '630524412X'}</td>\n",
              "      <td>Movies &amp; TV</td>\n",
              "      <td>NaN</td>\n",
              "      <td>NaN</td>\n",
              "      <td>NaN</td>\n",
              "      <td>630524412X</td>\n",
              "    </tr>\n",
              "    <tr>\n",
              "      <th>2</th>\n",
              "      <td>2</td>\n",
              "      <td>['Cell Phones &amp; Accessories', 'Cases, Holsters...</td>\n",
              "      <td>NaN</td>\n",
              "      <td>['New items to give you a new good mood, welco...</td>\n",
              "      <td>NaN</td>\n",
              "      <td>Leopard Thanksgiving Easter PC Black Case for ...</td>\n",
              "      <td>[]</td>\n",
              "      <td>[]</td>\n",
              "      <td>NaN</td>\n",
              "      <td>NaN</td>\n",
              "      <td>[]</td>\n",
              "      <td>5,315,017 in Books (</td>\n",
              "      <td>[]</td>\n",
              "      <td>{'Publisher:': 'juduiou', 'ASIN:': '6310200240...</td>\n",
              "      <td>Books</td>\n",
              "      <td>NaN</td>\n",
              "      <td>NaN</td>\n",
              "      <td>NaN</td>\n",
              "      <td>6310200240</td>\n",
              "    </tr>\n",
              "    <tr>\n",
              "      <th>3</th>\n",
              "      <td>3</td>\n",
              "      <td>['Cell Phones &amp; Accessories', 'Cases, Holsters...</td>\n",
              "      <td>NaN</td>\n",
              "      <td>['A brand-new, unused, unopened, undamaged ite...</td>\n",
              "      <td>NaN</td>\n",
              "      <td>Puppies Faceplate Hard Case Protector for Net1...</td>\n",
              "      <td>[]</td>\n",
              "      <td>[]</td>\n",
              "      <td>NaN</td>\n",
              "      <td>Live2Pedal</td>\n",
              "      <td>['Protect your phone with style through this A...</td>\n",
              "      <td>['&gt;#6,368,825 in Cell Phones &amp; Accessories (Se...</td>\n",
              "      <td>[]</td>\n",
              "      <td>{}</td>\n",
              "      <td>Cell Phones &amp; Accessories</td>\n",
              "      <td>NaN</td>\n",
              "      <td>NaN</td>\n",
              "      <td>NaN</td>\n",
              "      <td>6786501710</td>\n",
              "    </tr>\n",
              "    <tr>\n",
              "      <th>4</th>\n",
              "      <td>4</td>\n",
              "      <td>['Cell Phones &amp; Accessories', 'Cases, Holsters...</td>\n",
              "      <td>NaN</td>\n",
              "      <td>['A brand-new, unused, unopened, undamaged ite...</td>\n",
              "      <td>NaN</td>\n",
              "      <td>White Wolf Faceplate Protector Hard Case for S...</td>\n",
              "      <td>[]</td>\n",
              "      <td>[]</td>\n",
              "      <td>NaN</td>\n",
              "      <td>wirelessoutletusa</td>\n",
              "      <td>['Protect your phone with style through this A...</td>\n",
              "      <td>['&gt;#2,672,454 in Cell Phones &amp; Accessories (Se...</td>\n",
              "      <td>[]</td>\n",
              "      <td>{}</td>\n",
              "      <td>Cell Phones &amp; Accessories</td>\n",
              "      <td>NaN</td>\n",
              "      <td>NaN</td>\n",
              "      <td>NaN</td>\n",
              "      <td>6786501273</td>\n",
              "    </tr>\n",
              "  </tbody>\n",
              "</table>\n",
              "</div>\n",
              "      <button class=\"colab-df-convert\" onclick=\"convertToInteractive('df-e1d53fc4-d58f-4407-83ee-e3836a5e7548')\"\n",
              "              title=\"Convert this dataframe to an interactive table.\"\n",
              "              style=\"display:none;\">\n",
              "\n",
              "  <svg xmlns=\"http://www.w3.org/2000/svg\" height=\"24px\"viewBox=\"0 0 24 24\"\n",
              "       width=\"24px\">\n",
              "    <path d=\"M0 0h24v24H0V0z\" fill=\"none\"/>\n",
              "    <path d=\"M18.56 5.44l.94 2.06.94-2.06 2.06-.94-2.06-.94-.94-2.06-.94 2.06-2.06.94zm-11 1L8.5 8.5l.94-2.06 2.06-.94-2.06-.94L8.5 2.5l-.94 2.06-2.06.94zm10 10l.94 2.06.94-2.06 2.06-.94-2.06-.94-.94-2.06-.94 2.06-2.06.94z\"/><path d=\"M17.41 7.96l-1.37-1.37c-.4-.4-.92-.59-1.43-.59-.52 0-1.04.2-1.43.59L10.3 9.45l-7.72 7.72c-.78.78-.78 2.05 0 2.83L4 21.41c.39.39.9.59 1.41.59.51 0 1.02-.2 1.41-.59l7.78-7.78 2.81-2.81c.8-.78.8-2.07 0-2.86zM5.41 20L4 18.59l7.72-7.72 1.47 1.35L5.41 20z\"/>\n",
              "  </svg>\n",
              "      </button>\n",
              "\n",
              "\n",
              "\n",
              "    <div id=\"df-85e343ee-9b4b-4d10-a95c-9aef3f697932\">\n",
              "      <button class=\"colab-df-quickchart\" onclick=\"quickchart('df-85e343ee-9b4b-4d10-a95c-9aef3f697932')\"\n",
              "              title=\"Suggest charts.\"\n",
              "              style=\"display:none;\">\n",
              "\n",
              "<svg xmlns=\"http://www.w3.org/2000/svg\" height=\"24px\"viewBox=\"0 0 24 24\"\n",
              "     width=\"24px\">\n",
              "    <g>\n",
              "        <path d=\"M19 3H5c-1.1 0-2 .9-2 2v14c0 1.1.9 2 2 2h14c1.1 0 2-.9 2-2V5c0-1.1-.9-2-2-2zM9 17H7v-7h2v7zm4 0h-2V7h2v10zm4 0h-2v-4h2v4z\"/>\n",
              "    </g>\n",
              "</svg>\n",
              "      </button>\n",
              "    </div>\n",
              "\n",
              "<style>\n",
              "  .colab-df-quickchart {\n",
              "    background-color: #E8F0FE;\n",
              "    border: none;\n",
              "    border-radius: 50%;\n",
              "    cursor: pointer;\n",
              "    display: none;\n",
              "    fill: #1967D2;\n",
              "    height: 32px;\n",
              "    padding: 0 0 0 0;\n",
              "    width: 32px;\n",
              "  }\n",
              "\n",
              "  .colab-df-quickchart:hover {\n",
              "    background-color: #E2EBFA;\n",
              "    box-shadow: 0px 1px 2px rgba(60, 64, 67, 0.3), 0px 1px 3px 1px rgba(60, 64, 67, 0.15);\n",
              "    fill: #174EA6;\n",
              "  }\n",
              "\n",
              "  [theme=dark] .colab-df-quickchart {\n",
              "    background-color: #3B4455;\n",
              "    fill: #D2E3FC;\n",
              "  }\n",
              "\n",
              "  [theme=dark] .colab-df-quickchart:hover {\n",
              "    background-color: #434B5C;\n",
              "    box-shadow: 0px 1px 3px 1px rgba(0, 0, 0, 0.15);\n",
              "    filter: drop-shadow(0px 1px 2px rgba(0, 0, 0, 0.3));\n",
              "    fill: #FFFFFF;\n",
              "  }\n",
              "</style>\n",
              "\n",
              "    <script>\n",
              "      async function quickchart(key) {\n",
              "        const containerElement = document.querySelector('#' + key);\n",
              "        const charts = await google.colab.kernel.invokeFunction(\n",
              "            'suggestCharts', [key], {});\n",
              "      }\n",
              "    </script>\n",
              "\n",
              "      <script>\n",
              "\n",
              "function displayQuickchartButton(domScope) {\n",
              "  let quickchartButtonEl =\n",
              "    domScope.querySelector('#df-85e343ee-9b4b-4d10-a95c-9aef3f697932 button.colab-df-quickchart');\n",
              "  quickchartButtonEl.style.display =\n",
              "    google.colab.kernel.accessAllowed ? 'block' : 'none';\n",
              "}\n",
              "\n",
              "        displayQuickchartButton(document);\n",
              "      </script>\n",
              "      <style>\n",
              "    .colab-df-container {\n",
              "      display:flex;\n",
              "      flex-wrap:wrap;\n",
              "      gap: 12px;\n",
              "    }\n",
              "\n",
              "    .colab-df-convert {\n",
              "      background-color: #E8F0FE;\n",
              "      border: none;\n",
              "      border-radius: 50%;\n",
              "      cursor: pointer;\n",
              "      display: none;\n",
              "      fill: #1967D2;\n",
              "      height: 32px;\n",
              "      padding: 0 0 0 0;\n",
              "      width: 32px;\n",
              "    }\n",
              "\n",
              "    .colab-df-convert:hover {\n",
              "      background-color: #E2EBFA;\n",
              "      box-shadow: 0px 1px 2px rgba(60, 64, 67, 0.3), 0px 1px 3px 1px rgba(60, 64, 67, 0.15);\n",
              "      fill: #174EA6;\n",
              "    }\n",
              "\n",
              "    [theme=dark] .colab-df-convert {\n",
              "      background-color: #3B4455;\n",
              "      fill: #D2E3FC;\n",
              "    }\n",
              "\n",
              "    [theme=dark] .colab-df-convert:hover {\n",
              "      background-color: #434B5C;\n",
              "      box-shadow: 0px 1px 3px 1px rgba(0, 0, 0, 0.15);\n",
              "      filter: drop-shadow(0px 1px 2px rgba(0, 0, 0, 0.3));\n",
              "      fill: #FFFFFF;\n",
              "    }\n",
              "  </style>\n",
              "\n",
              "      <script>\n",
              "        const buttonEl =\n",
              "          document.querySelector('#df-e1d53fc4-d58f-4407-83ee-e3836a5e7548 button.colab-df-convert');\n",
              "        buttonEl.style.display =\n",
              "          google.colab.kernel.accessAllowed ? 'block' : 'none';\n",
              "\n",
              "        async function convertToInteractive(key) {\n",
              "          const element = document.querySelector('#df-e1d53fc4-d58f-4407-83ee-e3836a5e7548');\n",
              "          const dataTable =\n",
              "            await google.colab.kernel.invokeFunction('convertToInteractive',\n",
              "                                                     [key], {});\n",
              "          if (!dataTable) return;\n",
              "\n",
              "          const docLinkHtml = 'Like what you see? Visit the ' +\n",
              "            '<a target=\"_blank\" href=https://colab.research.google.com/notebooks/data_table.ipynb>data table notebook</a>'\n",
              "            + ' to learn more about interactive tables.';\n",
              "          element.innerHTML = '';\n",
              "          dataTable['output_type'] = 'display_data';\n",
              "          await google.colab.output.renderOutput(dataTable, element);\n",
              "          const docLink = document.createElement('div');\n",
              "          docLink.innerHTML = docLinkHtml;\n",
              "          element.appendChild(docLink);\n",
              "        }\n",
              "      </script>\n",
              "    </div>\n",
              "  </div>\n"
            ]
          },
          "metadata": {},
          "execution_count": 123
        }
      ]
    },
    {
      "cell_type": "code",
      "source": [
        "#Checking meta info\n",
        "meta.info()"
      ],
      "metadata": {
        "colab": {
          "base_uri": "https://localhost:8080/"
        },
        "id": "Vs0qDu0WfDVQ",
        "outputId": "bdbbc6cc-900d-4cd0-8198-026a8dec813f"
      },
      "execution_count": 124,
      "outputs": [
        {
          "output_type": "stream",
          "name": "stdout",
          "text": [
            "<class 'pandas.core.frame.DataFrame'>\n",
            "RangeIndex: 590071 entries, 0 to 590070\n",
            "Data columns (total 19 columns):\n",
            " #   Column        Non-Null Count   Dtype \n",
            "---  ------        --------------   ----- \n",
            " 0   Unnamed: 0    590071 non-null  int64 \n",
            " 1   category      590071 non-null  object\n",
            " 2   tech1         6585 non-null    object\n",
            " 3   description   590071 non-null  object\n",
            " 4   fit           43 non-null      object\n",
            " 5   title         590062 non-null  object\n",
            " 6   also_buy      590071 non-null  object\n",
            " 7   image         590071 non-null  object\n",
            " 8   tech2         231 non-null     object\n",
            " 9   brand         577311 non-null  object\n",
            " 10  feature       590071 non-null  object\n",
            " 11  rank          590071 non-null  object\n",
            " 12  also_view     590071 non-null  object\n",
            " 13  details       590071 non-null  object\n",
            " 14  main_cat      586685 non-null  object\n",
            " 15  similar_item  50931 non-null   object\n",
            " 16  date          45880 non-null   object\n",
            " 17  price         127564 non-null  object\n",
            " 18  asin          590071 non-null  object\n",
            "dtypes: int64(1), object(18)\n",
            "memory usage: 85.5+ MB\n"
          ]
        }
      ]
    },
    {
      "cell_type": "code",
      "source": [
        "#Checking meta shape\n",
        "meta.shape"
      ],
      "metadata": {
        "colab": {
          "base_uri": "https://localhost:8080/"
        },
        "id": "z64Y0vXyfDSf",
        "outputId": "1f73553e-0c73-4d0c-f202-315c5882ac6a"
      },
      "execution_count": 125,
      "outputs": [
        {
          "output_type": "execute_result",
          "data": {
            "text/plain": [
              "(590071, 19)"
            ]
          },
          "metadata": {},
          "execution_count": 125
        }
      ]
    },
    {
      "cell_type": "code",
      "source": [
        "#Describing meta\n",
        "meta.describe()"
      ],
      "metadata": {
        "colab": {
          "base_uri": "https://localhost:8080/",
          "height": 300
        },
        "id": "mV_hdfwIfDQL",
        "outputId": "408f56e1-e5c0-423c-ffd3-8c1775a8fa32"
      },
      "execution_count": 126,
      "outputs": [
        {
          "output_type": "execute_result",
          "data": {
            "text/plain": [
              "          Unnamed: 0\n",
              "count  590071.000000\n",
              "mean   295035.000000\n",
              "std    170338.969683\n",
              "min         0.000000\n",
              "25%    147517.500000\n",
              "50%    295035.000000\n",
              "75%    442552.500000\n",
              "max    590070.000000"
            ],
            "text/html": [
              "\n",
              "\n",
              "  <div id=\"df-02810cad-df59-4224-83c1-d3a502a7fd18\">\n",
              "    <div class=\"colab-df-container\">\n",
              "      <div>\n",
              "<style scoped>\n",
              "    .dataframe tbody tr th:only-of-type {\n",
              "        vertical-align: middle;\n",
              "    }\n",
              "\n",
              "    .dataframe tbody tr th {\n",
              "        vertical-align: top;\n",
              "    }\n",
              "\n",
              "    .dataframe thead th {\n",
              "        text-align: right;\n",
              "    }\n",
              "</style>\n",
              "<table border=\"1\" class=\"dataframe\">\n",
              "  <thead>\n",
              "    <tr style=\"text-align: right;\">\n",
              "      <th></th>\n",
              "      <th>Unnamed: 0</th>\n",
              "    </tr>\n",
              "  </thead>\n",
              "  <tbody>\n",
              "    <tr>\n",
              "      <th>count</th>\n",
              "      <td>590071.000000</td>\n",
              "    </tr>\n",
              "    <tr>\n",
              "      <th>mean</th>\n",
              "      <td>295035.000000</td>\n",
              "    </tr>\n",
              "    <tr>\n",
              "      <th>std</th>\n",
              "      <td>170338.969683</td>\n",
              "    </tr>\n",
              "    <tr>\n",
              "      <th>min</th>\n",
              "      <td>0.000000</td>\n",
              "    </tr>\n",
              "    <tr>\n",
              "      <th>25%</th>\n",
              "      <td>147517.500000</td>\n",
              "    </tr>\n",
              "    <tr>\n",
              "      <th>50%</th>\n",
              "      <td>295035.000000</td>\n",
              "    </tr>\n",
              "    <tr>\n",
              "      <th>75%</th>\n",
              "      <td>442552.500000</td>\n",
              "    </tr>\n",
              "    <tr>\n",
              "      <th>max</th>\n",
              "      <td>590070.000000</td>\n",
              "    </tr>\n",
              "  </tbody>\n",
              "</table>\n",
              "</div>\n",
              "      <button class=\"colab-df-convert\" onclick=\"convertToInteractive('df-02810cad-df59-4224-83c1-d3a502a7fd18')\"\n",
              "              title=\"Convert this dataframe to an interactive table.\"\n",
              "              style=\"display:none;\">\n",
              "\n",
              "  <svg xmlns=\"http://www.w3.org/2000/svg\" height=\"24px\"viewBox=\"0 0 24 24\"\n",
              "       width=\"24px\">\n",
              "    <path d=\"M0 0h24v24H0V0z\" fill=\"none\"/>\n",
              "    <path d=\"M18.56 5.44l.94 2.06.94-2.06 2.06-.94-2.06-.94-.94-2.06-.94 2.06-2.06.94zm-11 1L8.5 8.5l.94-2.06 2.06-.94-2.06-.94L8.5 2.5l-.94 2.06-2.06.94zm10 10l.94 2.06.94-2.06 2.06-.94-2.06-.94-.94-2.06-.94 2.06-2.06.94z\"/><path d=\"M17.41 7.96l-1.37-1.37c-.4-.4-.92-.59-1.43-.59-.52 0-1.04.2-1.43.59L10.3 9.45l-7.72 7.72c-.78.78-.78 2.05 0 2.83L4 21.41c.39.39.9.59 1.41.59.51 0 1.02-.2 1.41-.59l7.78-7.78 2.81-2.81c.8-.78.8-2.07 0-2.86zM5.41 20L4 18.59l7.72-7.72 1.47 1.35L5.41 20z\"/>\n",
              "  </svg>\n",
              "      </button>\n",
              "\n",
              "\n",
              "\n",
              "    <div id=\"df-f4746a8e-b187-449e-a8e3-727dbe9ecfc4\">\n",
              "      <button class=\"colab-df-quickchart\" onclick=\"quickchart('df-f4746a8e-b187-449e-a8e3-727dbe9ecfc4')\"\n",
              "              title=\"Suggest charts.\"\n",
              "              style=\"display:none;\">\n",
              "\n",
              "<svg xmlns=\"http://www.w3.org/2000/svg\" height=\"24px\"viewBox=\"0 0 24 24\"\n",
              "     width=\"24px\">\n",
              "    <g>\n",
              "        <path d=\"M19 3H5c-1.1 0-2 .9-2 2v14c0 1.1.9 2 2 2h14c1.1 0 2-.9 2-2V5c0-1.1-.9-2-2-2zM9 17H7v-7h2v7zm4 0h-2V7h2v10zm4 0h-2v-4h2v4z\"/>\n",
              "    </g>\n",
              "</svg>\n",
              "      </button>\n",
              "    </div>\n",
              "\n",
              "<style>\n",
              "  .colab-df-quickchart {\n",
              "    background-color: #E8F0FE;\n",
              "    border: none;\n",
              "    border-radius: 50%;\n",
              "    cursor: pointer;\n",
              "    display: none;\n",
              "    fill: #1967D2;\n",
              "    height: 32px;\n",
              "    padding: 0 0 0 0;\n",
              "    width: 32px;\n",
              "  }\n",
              "\n",
              "  .colab-df-quickchart:hover {\n",
              "    background-color: #E2EBFA;\n",
              "    box-shadow: 0px 1px 2px rgba(60, 64, 67, 0.3), 0px 1px 3px 1px rgba(60, 64, 67, 0.15);\n",
              "    fill: #174EA6;\n",
              "  }\n",
              "\n",
              "  [theme=dark] .colab-df-quickchart {\n",
              "    background-color: #3B4455;\n",
              "    fill: #D2E3FC;\n",
              "  }\n",
              "\n",
              "  [theme=dark] .colab-df-quickchart:hover {\n",
              "    background-color: #434B5C;\n",
              "    box-shadow: 0px 1px 3px 1px rgba(0, 0, 0, 0.15);\n",
              "    filter: drop-shadow(0px 1px 2px rgba(0, 0, 0, 0.3));\n",
              "    fill: #FFFFFF;\n",
              "  }\n",
              "</style>\n",
              "\n",
              "    <script>\n",
              "      async function quickchart(key) {\n",
              "        const containerElement = document.querySelector('#' + key);\n",
              "        const charts = await google.colab.kernel.invokeFunction(\n",
              "            'suggestCharts', [key], {});\n",
              "      }\n",
              "    </script>\n",
              "\n",
              "      <script>\n",
              "\n",
              "function displayQuickchartButton(domScope) {\n",
              "  let quickchartButtonEl =\n",
              "    domScope.querySelector('#df-f4746a8e-b187-449e-a8e3-727dbe9ecfc4 button.colab-df-quickchart');\n",
              "  quickchartButtonEl.style.display =\n",
              "    google.colab.kernel.accessAllowed ? 'block' : 'none';\n",
              "}\n",
              "\n",
              "        displayQuickchartButton(document);\n",
              "      </script>\n",
              "      <style>\n",
              "    .colab-df-container {\n",
              "      display:flex;\n",
              "      flex-wrap:wrap;\n",
              "      gap: 12px;\n",
              "    }\n",
              "\n",
              "    .colab-df-convert {\n",
              "      background-color: #E8F0FE;\n",
              "      border: none;\n",
              "      border-radius: 50%;\n",
              "      cursor: pointer;\n",
              "      display: none;\n",
              "      fill: #1967D2;\n",
              "      height: 32px;\n",
              "      padding: 0 0 0 0;\n",
              "      width: 32px;\n",
              "    }\n",
              "\n",
              "    .colab-df-convert:hover {\n",
              "      background-color: #E2EBFA;\n",
              "      box-shadow: 0px 1px 2px rgba(60, 64, 67, 0.3), 0px 1px 3px 1px rgba(60, 64, 67, 0.15);\n",
              "      fill: #174EA6;\n",
              "    }\n",
              "\n",
              "    [theme=dark] .colab-df-convert {\n",
              "      background-color: #3B4455;\n",
              "      fill: #D2E3FC;\n",
              "    }\n",
              "\n",
              "    [theme=dark] .colab-df-convert:hover {\n",
              "      background-color: #434B5C;\n",
              "      box-shadow: 0px 1px 3px 1px rgba(0, 0, 0, 0.15);\n",
              "      filter: drop-shadow(0px 1px 2px rgba(0, 0, 0, 0.3));\n",
              "      fill: #FFFFFF;\n",
              "    }\n",
              "  </style>\n",
              "\n",
              "      <script>\n",
              "        const buttonEl =\n",
              "          document.querySelector('#df-02810cad-df59-4224-83c1-d3a502a7fd18 button.colab-df-convert');\n",
              "        buttonEl.style.display =\n",
              "          google.colab.kernel.accessAllowed ? 'block' : 'none';\n",
              "\n",
              "        async function convertToInteractive(key) {\n",
              "          const element = document.querySelector('#df-02810cad-df59-4224-83c1-d3a502a7fd18');\n",
              "          const dataTable =\n",
              "            await google.colab.kernel.invokeFunction('convertToInteractive',\n",
              "                                                     [key], {});\n",
              "          if (!dataTable) return;\n",
              "\n",
              "          const docLinkHtml = 'Like what you see? Visit the ' +\n",
              "            '<a target=\"_blank\" href=https://colab.research.google.com/notebooks/data_table.ipynb>data table notebook</a>'\n",
              "            + ' to learn more about interactive tables.';\n",
              "          element.innerHTML = '';\n",
              "          dataTable['output_type'] = 'display_data';\n",
              "          await google.colab.output.renderOutput(dataTable, element);\n",
              "          const docLink = document.createElement('div');\n",
              "          docLink.innerHTML = docLinkHtml;\n",
              "          element.appendChild(docLink);\n",
              "        }\n",
              "      </script>\n",
              "    </div>\n",
              "  </div>\n"
            ]
          },
          "metadata": {},
          "execution_count": 126
        }
      ]
    },
    {
      "cell_type": "code",
      "source": [
        "#Checking null values in meta\n",
        "meta.isnull().sum()"
      ],
      "metadata": {
        "colab": {
          "base_uri": "https://localhost:8080/"
        },
        "id": "z0XEsOWQfDNf",
        "outputId": "916a46c0-6116-4039-c8ca-fe1b94bf5e06"
      },
      "execution_count": 127,
      "outputs": [
        {
          "output_type": "execute_result",
          "data": {
            "text/plain": [
              "Unnamed: 0           0\n",
              "category             0\n",
              "tech1           583486\n",
              "description          0\n",
              "fit             590028\n",
              "title                9\n",
              "also_buy             0\n",
              "image                0\n",
              "tech2           589840\n",
              "brand            12760\n",
              "feature              0\n",
              "rank                 0\n",
              "also_view            0\n",
              "details              0\n",
              "main_cat          3386\n",
              "similar_item    539140\n",
              "date            544191\n",
              "price           462507\n",
              "asin                 0\n",
              "dtype: int64"
            ]
          },
          "metadata": {},
          "execution_count": 127
        }
      ]
    },
    {
      "cell_type": "code",
      "source": [
        "#Dropping columns with extremely high null values\n",
        "meta.drop(['tech1','tech2','fit','date'], axis = 1, inplace = True)"
      ],
      "metadata": {
        "id": "aO1gnM4VfDLF"
      },
      "execution_count": 128,
      "outputs": []
    },
    {
      "cell_type": "code",
      "source": [
        "#Dropping duplicates in ASIN\n",
        "meta.drop_duplicates(subset='asin',inplace=True)"
      ],
      "metadata": {
        "id": "4nQqOy1rfDIg"
      },
      "execution_count": 129,
      "outputs": []
    },
    {
      "cell_type": "code",
      "source": [
        "#Deleting rows where brand is null\n",
        "meta=meta[~meta['brand'].isna()]"
      ],
      "metadata": {
        "id": "Wm8Y1plyfDFq"
      },
      "execution_count": 130,
      "outputs": []
    },
    {
      "cell_type": "code",
      "source": [
        "#Impute null where price having descriptive text\n",
        "meta['price']=[np.nan if len(str(x))>15 else x for x in meta['price']]"
      ],
      "metadata": {
        "id": "xMa4OuEiUvfp"
      },
      "execution_count": 131,
      "outputs": []
    },
    {
      "cell_type": "code",
      "source": [
        "#Deleting rows where price is null\n",
        "meta=meta[~meta['price'].isna()]"
      ],
      "metadata": {
        "id": "tp8arm9wfC9t"
      },
      "execution_count": 132,
      "outputs": []
    },
    {
      "cell_type": "code",
      "source": [
        "#Deleting rows where similar_item is null\n",
        "meta=meta[~meta['similar_item'].isna()]"
      ],
      "metadata": {
        "id": "w08FW2puiHqz"
      },
      "execution_count": 133,
      "outputs": []
    },
    {
      "cell_type": "code",
      "source": [
        "meta.isnull().sum()"
      ],
      "metadata": {
        "colab": {
          "base_uri": "https://localhost:8080/"
        },
        "id": "UlZy4krOiHoB",
        "outputId": "a7447b3e-fece-4bbd-98ab-13da1c3a99fa"
      },
      "execution_count": 134,
      "outputs": [
        {
          "output_type": "execute_result",
          "data": {
            "text/plain": [
              "Unnamed: 0       0\n",
              "category         0\n",
              "description      0\n",
              "title            0\n",
              "also_buy         0\n",
              "image            0\n",
              "brand            0\n",
              "feature          0\n",
              "rank             0\n",
              "also_view        0\n",
              "details          0\n",
              "main_cat        37\n",
              "similar_item     0\n",
              "price            0\n",
              "asin             0\n",
              "dtype: int64"
            ]
          },
          "metadata": {},
          "execution_count": 134
        }
      ]
    },
    {
      "cell_type": "code",
      "source": [
        "#Dropping rows where catogory doesn't have Cell Phone\n",
        "substring_to_search = \"\\'Cell Phones\\'\"\n",
        "meta = meta[meta['category'].str.contains(substring_to_search, case=False, na=False)]\n",
        "#meta['category'] = meta['category'].apply(lambda x: x[1] if isinstance(x, list) and len(x) > 1 else None)"
      ],
      "metadata": {
        "id": "xoxNkuxPrC3h"
      },
      "execution_count": 135,
      "outputs": []
    },
    {
      "cell_type": "code",
      "source": [
        "meta.shape"
      ],
      "metadata": {
        "colab": {
          "base_uri": "https://localhost:8080/"
        },
        "id": "23g4zuBhrZDK",
        "outputId": "946c7d5e-75b2-413f-9d1b-7b88f66e1ef7"
      },
      "execution_count": 136,
      "outputs": [
        {
          "output_type": "execute_result",
          "data": {
            "text/plain": [
              "(1305, 15)"
            ]
          },
          "metadata": {},
          "execution_count": 136
        }
      ]
    },
    {
      "cell_type": "code",
      "source": [
        "meta.head(5)"
      ],
      "metadata": {
        "colab": {
          "base_uri": "https://localhost:8080/",
          "height": 704
        },
        "id": "6ZvVqaEyrsAx",
        "outputId": "49a27974-e4b3-4f9b-fdd6-a79be22287c1"
      },
      "execution_count": 137,
      "outputs": [
        {
          "output_type": "execute_result",
          "data": {
            "text/plain": [
              "      Unnamed: 0                                           category  \\\n",
              "4018        4018  ['Cell Phones & Accessories', 'Cell Phones', '...   \n",
              "4130        4130  ['Cell Phones & Accessories', 'Cell Phones', '...   \n",
              "4148        4148  ['Cell Phones & Accessories', 'Cell Phones', '...   \n",
              "4170        4170  ['Cell Phones & Accessories', 'Cell Phones', '...   \n",
              "5767        5767  ['Cell Phones & Accessories', 'Cell Phones', '...   \n",
              "\n",
              "                                            description  \\\n",
              "4018  ['The Nokia 1100 phone lets you conduct busine...   \n",
              "4130  ['Like new in box great looking phone get it b...   \n",
              "4148  ['The sleek VX8300 is built for serious mobile...   \n",
              "4170  [\"The Moto Razr V3 is expertly crafted to deli...   \n",
              "5767  ['GSM/EDGE coverage (900/1800/1900 MHz))\\\\n\\\\n...   \n",
              "\n",
              "                                                  title  \\\n",
              "4018                                Unlocked Nokia 1100   \n",
              "4130  Motorola Moto Q - Smartphone - CDMA2000 1X - b...   \n",
              "4148  Verizon or PagePlus LG VX8300 Great Condition ...   \n",
              "4170  Motorola RAZR V3 Unlocked Phone with Camera, V...   \n",
              "5767  Nokia 6300 Unlocked Triband Camera Business Phone   \n",
              "\n",
              "                                               also_buy  \\\n",
              "4018                       ['B00095MR5W', 'B00R25GJJW']   \n",
              "4130                                                 []   \n",
              "4148  ['B000HHIUOE', 'B0021KAD3Q', 'B000SCGYKK', 'B0...   \n",
              "4170                                                 []   \n",
              "5767                                     ['B002LSHZPM']   \n",
              "\n",
              "                                                  image     brand  \\\n",
              "4018  ['https://images-na.ssl-images-amazon.com/imag...     Nokia   \n",
              "4130  ['https://images-na.ssl-images-amazon.com/imag...  Motorola   \n",
              "4148  ['https://images-na.ssl-images-amazon.com/imag...        LG   \n",
              "4170  ['https://images-na.ssl-images-amazon.com/imag...  Motorola   \n",
              "5767  ['https://images-na.ssl-images-amazon.com/imag...     Nokia   \n",
              "\n",
              "                                                feature  \\\n",
              "4018                            ['Unlocked Nokia 1100']   \n",
              "4130                                                 []   \n",
              "4148  ['This product has been carefully audited and ...   \n",
              "4170  ['This unlocked cell phone is compatible with ...   \n",
              "5767  ['Nokia 6300 - Silver black (Unlocked) Mobile ...   \n",
              "\n",
              "                                                   rank  \\\n",
              "4018  ['>#510,212 in Cell Phones & Accessories (See ...   \n",
              "4130  ['>#503,104 in Cell Phones & Accessories (See ...   \n",
              "4148  ['>#149,915 in Cell Phones & Accessories (See ...   \n",
              "4170  ['>#335,739 in Cell Phones & Accessories (See ...   \n",
              "5767  ['>#456,762 in Cell Phones & Accessories (See ...   \n",
              "\n",
              "                                              also_view details  \\\n",
              "4018  ['B075FL4H89', 'B0757B64H2', 'B0757BT4C8', 'B0...      {}   \n",
              "4130  ['B014VM1CYU', 'B00O5EU7TQ', 'B00NSRC4Y2', 'B0...      {}   \n",
              "4148                                                 []      {}   \n",
              "4170  ['B0009FCAJA', 'B0016JDBYG', 'B002UHS0UI', 'B0...      {}   \n",
              "5767  ['B075FL4H89', 'B0757B64H2', 'B0172EEAQQ', 'B0...      {}   \n",
              "\n",
              "                       main_cat  \\\n",
              "4018  Cell Phones & Accessories   \n",
              "4130  Cell Phones & Accessories   \n",
              "4148  Cell Phones & Accessories   \n",
              "4170  Cell Phones & Accessories   \n",
              "5767  Cell Phones & Accessories   \n",
              "\n",
              "                                           similar_item    price        asin  \n",
              "4018   class=\"a-bordered a-horizontal-stripes  a-spa...   $40.08  B000FJ1XWA  \n",
              "4130   class=\"a-bordered a-horizontal-stripes  a-spa...   $17.99  B000FYU4SO  \n",
              "4148   class=\"a-bordered a-horizontal-stripes  a-spa...   $27.57  B000G2TLIO  \n",
              "4170   class=\"a-bordered a-horizontal-stripes  a-spa...  $105.99  B000G7LZCO  \n",
              "5767   class=\"a-bordered a-horizontal-stripes  a-spa...   $40.08  B000MXF2IK  "
            ],
            "text/html": [
              "\n",
              "\n",
              "  <div id=\"df-44613ba8-a68e-4cdb-acb7-ac5b3b3eb90f\">\n",
              "    <div class=\"colab-df-container\">\n",
              "      <div>\n",
              "<style scoped>\n",
              "    .dataframe tbody tr th:only-of-type {\n",
              "        vertical-align: middle;\n",
              "    }\n",
              "\n",
              "    .dataframe tbody tr th {\n",
              "        vertical-align: top;\n",
              "    }\n",
              "\n",
              "    .dataframe thead th {\n",
              "        text-align: right;\n",
              "    }\n",
              "</style>\n",
              "<table border=\"1\" class=\"dataframe\">\n",
              "  <thead>\n",
              "    <tr style=\"text-align: right;\">\n",
              "      <th></th>\n",
              "      <th>Unnamed: 0</th>\n",
              "      <th>category</th>\n",
              "      <th>description</th>\n",
              "      <th>title</th>\n",
              "      <th>also_buy</th>\n",
              "      <th>image</th>\n",
              "      <th>brand</th>\n",
              "      <th>feature</th>\n",
              "      <th>rank</th>\n",
              "      <th>also_view</th>\n",
              "      <th>details</th>\n",
              "      <th>main_cat</th>\n",
              "      <th>similar_item</th>\n",
              "      <th>price</th>\n",
              "      <th>asin</th>\n",
              "    </tr>\n",
              "  </thead>\n",
              "  <tbody>\n",
              "    <tr>\n",
              "      <th>4018</th>\n",
              "      <td>4018</td>\n",
              "      <td>['Cell Phones &amp; Accessories', 'Cell Phones', '...</td>\n",
              "      <td>['The Nokia 1100 phone lets you conduct busine...</td>\n",
              "      <td>Unlocked Nokia 1100</td>\n",
              "      <td>['B00095MR5W', 'B00R25GJJW']</td>\n",
              "      <td>['https://images-na.ssl-images-amazon.com/imag...</td>\n",
              "      <td>Nokia</td>\n",
              "      <td>['Unlocked Nokia 1100']</td>\n",
              "      <td>['&gt;#510,212 in Cell Phones &amp; Accessories (See ...</td>\n",
              "      <td>['B075FL4H89', 'B0757B64H2', 'B0757BT4C8', 'B0...</td>\n",
              "      <td>{}</td>\n",
              "      <td>Cell Phones &amp; Accessories</td>\n",
              "      <td>class=\"a-bordered a-horizontal-stripes  a-spa...</td>\n",
              "      <td>$40.08</td>\n",
              "      <td>B000FJ1XWA</td>\n",
              "    </tr>\n",
              "    <tr>\n",
              "      <th>4130</th>\n",
              "      <td>4130</td>\n",
              "      <td>['Cell Phones &amp; Accessories', 'Cell Phones', '...</td>\n",
              "      <td>['Like new in box great looking phone get it b...</td>\n",
              "      <td>Motorola Moto Q - Smartphone - CDMA2000 1X - b...</td>\n",
              "      <td>[]</td>\n",
              "      <td>['https://images-na.ssl-images-amazon.com/imag...</td>\n",
              "      <td>Motorola</td>\n",
              "      <td>[]</td>\n",
              "      <td>['&gt;#503,104 in Cell Phones &amp; Accessories (See ...</td>\n",
              "      <td>['B014VM1CYU', 'B00O5EU7TQ', 'B00NSRC4Y2', 'B0...</td>\n",
              "      <td>{}</td>\n",
              "      <td>Cell Phones &amp; Accessories</td>\n",
              "      <td>class=\"a-bordered a-horizontal-stripes  a-spa...</td>\n",
              "      <td>$17.99</td>\n",
              "      <td>B000FYU4SO</td>\n",
              "    </tr>\n",
              "    <tr>\n",
              "      <th>4148</th>\n",
              "      <td>4148</td>\n",
              "      <td>['Cell Phones &amp; Accessories', 'Cell Phones', '...</td>\n",
              "      <td>['The sleek VX8300 is built for serious mobile...</td>\n",
              "      <td>Verizon or PagePlus LG VX8300 Great Condition ...</td>\n",
              "      <td>['B000HHIUOE', 'B0021KAD3Q', 'B000SCGYKK', 'B0...</td>\n",
              "      <td>['https://images-na.ssl-images-amazon.com/imag...</td>\n",
              "      <td>LG</td>\n",
              "      <td>['This product has been carefully audited and ...</td>\n",
              "      <td>['&gt;#149,915 in Cell Phones &amp; Accessories (See ...</td>\n",
              "      <td>[]</td>\n",
              "      <td>{}</td>\n",
              "      <td>Cell Phones &amp; Accessories</td>\n",
              "      <td>class=\"a-bordered a-horizontal-stripes  a-spa...</td>\n",
              "      <td>$27.57</td>\n",
              "      <td>B000G2TLIO</td>\n",
              "    </tr>\n",
              "    <tr>\n",
              "      <th>4170</th>\n",
              "      <td>4170</td>\n",
              "      <td>['Cell Phones &amp; Accessories', 'Cell Phones', '...</td>\n",
              "      <td>[\"The Moto Razr V3 is expertly crafted to deli...</td>\n",
              "      <td>Motorola RAZR V3 Unlocked Phone with Camera, V...</td>\n",
              "      <td>[]</td>\n",
              "      <td>['https://images-na.ssl-images-amazon.com/imag...</td>\n",
              "      <td>Motorola</td>\n",
              "      <td>['This unlocked cell phone is compatible with ...</td>\n",
              "      <td>['&gt;#335,739 in Cell Phones &amp; Accessories (See ...</td>\n",
              "      <td>['B0009FCAJA', 'B0016JDBYG', 'B002UHS0UI', 'B0...</td>\n",
              "      <td>{}</td>\n",
              "      <td>Cell Phones &amp; Accessories</td>\n",
              "      <td>class=\"a-bordered a-horizontal-stripes  a-spa...</td>\n",
              "      <td>$105.99</td>\n",
              "      <td>B000G7LZCO</td>\n",
              "    </tr>\n",
              "    <tr>\n",
              "      <th>5767</th>\n",
              "      <td>5767</td>\n",
              "      <td>['Cell Phones &amp; Accessories', 'Cell Phones', '...</td>\n",
              "      <td>['GSM/EDGE coverage (900/1800/1900 MHz))\\\\n\\\\n...</td>\n",
              "      <td>Nokia 6300 Unlocked Triband Camera Business Phone</td>\n",
              "      <td>['B002LSHZPM']</td>\n",
              "      <td>['https://images-na.ssl-images-amazon.com/imag...</td>\n",
              "      <td>Nokia</td>\n",
              "      <td>['Nokia 6300 - Silver black (Unlocked) Mobile ...</td>\n",
              "      <td>['&gt;#456,762 in Cell Phones &amp; Accessories (See ...</td>\n",
              "      <td>['B075FL4H89', 'B0757B64H2', 'B0172EEAQQ', 'B0...</td>\n",
              "      <td>{}</td>\n",
              "      <td>Cell Phones &amp; Accessories</td>\n",
              "      <td>class=\"a-bordered a-horizontal-stripes  a-spa...</td>\n",
              "      <td>$40.08</td>\n",
              "      <td>B000MXF2IK</td>\n",
              "    </tr>\n",
              "  </tbody>\n",
              "</table>\n",
              "</div>\n",
              "      <button class=\"colab-df-convert\" onclick=\"convertToInteractive('df-44613ba8-a68e-4cdb-acb7-ac5b3b3eb90f')\"\n",
              "              title=\"Convert this dataframe to an interactive table.\"\n",
              "              style=\"display:none;\">\n",
              "\n",
              "  <svg xmlns=\"http://www.w3.org/2000/svg\" height=\"24px\"viewBox=\"0 0 24 24\"\n",
              "       width=\"24px\">\n",
              "    <path d=\"M0 0h24v24H0V0z\" fill=\"none\"/>\n",
              "    <path d=\"M18.56 5.44l.94 2.06.94-2.06 2.06-.94-2.06-.94-.94-2.06-.94 2.06-2.06.94zm-11 1L8.5 8.5l.94-2.06 2.06-.94-2.06-.94L8.5 2.5l-.94 2.06-2.06.94zm10 10l.94 2.06.94-2.06 2.06-.94-2.06-.94-.94-2.06-.94 2.06-2.06.94z\"/><path d=\"M17.41 7.96l-1.37-1.37c-.4-.4-.92-.59-1.43-.59-.52 0-1.04.2-1.43.59L10.3 9.45l-7.72 7.72c-.78.78-.78 2.05 0 2.83L4 21.41c.39.39.9.59 1.41.59.51 0 1.02-.2 1.41-.59l7.78-7.78 2.81-2.81c.8-.78.8-2.07 0-2.86zM5.41 20L4 18.59l7.72-7.72 1.47 1.35L5.41 20z\"/>\n",
              "  </svg>\n",
              "      </button>\n",
              "\n",
              "\n",
              "\n",
              "    <div id=\"df-6d34dc6d-37fd-4f5c-b694-cf172430b014\">\n",
              "      <button class=\"colab-df-quickchart\" onclick=\"quickchart('df-6d34dc6d-37fd-4f5c-b694-cf172430b014')\"\n",
              "              title=\"Suggest charts.\"\n",
              "              style=\"display:none;\">\n",
              "\n",
              "<svg xmlns=\"http://www.w3.org/2000/svg\" height=\"24px\"viewBox=\"0 0 24 24\"\n",
              "     width=\"24px\">\n",
              "    <g>\n",
              "        <path d=\"M19 3H5c-1.1 0-2 .9-2 2v14c0 1.1.9 2 2 2h14c1.1 0 2-.9 2-2V5c0-1.1-.9-2-2-2zM9 17H7v-7h2v7zm4 0h-2V7h2v10zm4 0h-2v-4h2v4z\"/>\n",
              "    </g>\n",
              "</svg>\n",
              "      </button>\n",
              "    </div>\n",
              "\n",
              "<style>\n",
              "  .colab-df-quickchart {\n",
              "    background-color: #E8F0FE;\n",
              "    border: none;\n",
              "    border-radius: 50%;\n",
              "    cursor: pointer;\n",
              "    display: none;\n",
              "    fill: #1967D2;\n",
              "    height: 32px;\n",
              "    padding: 0 0 0 0;\n",
              "    width: 32px;\n",
              "  }\n",
              "\n",
              "  .colab-df-quickchart:hover {\n",
              "    background-color: #E2EBFA;\n",
              "    box-shadow: 0px 1px 2px rgba(60, 64, 67, 0.3), 0px 1px 3px 1px rgba(60, 64, 67, 0.15);\n",
              "    fill: #174EA6;\n",
              "  }\n",
              "\n",
              "  [theme=dark] .colab-df-quickchart {\n",
              "    background-color: #3B4455;\n",
              "    fill: #D2E3FC;\n",
              "  }\n",
              "\n",
              "  [theme=dark] .colab-df-quickchart:hover {\n",
              "    background-color: #434B5C;\n",
              "    box-shadow: 0px 1px 3px 1px rgba(0, 0, 0, 0.15);\n",
              "    filter: drop-shadow(0px 1px 2px rgba(0, 0, 0, 0.3));\n",
              "    fill: #FFFFFF;\n",
              "  }\n",
              "</style>\n",
              "\n",
              "    <script>\n",
              "      async function quickchart(key) {\n",
              "        const containerElement = document.querySelector('#' + key);\n",
              "        const charts = await google.colab.kernel.invokeFunction(\n",
              "            'suggestCharts', [key], {});\n",
              "      }\n",
              "    </script>\n",
              "\n",
              "      <script>\n",
              "\n",
              "function displayQuickchartButton(domScope) {\n",
              "  let quickchartButtonEl =\n",
              "    domScope.querySelector('#df-6d34dc6d-37fd-4f5c-b694-cf172430b014 button.colab-df-quickchart');\n",
              "  quickchartButtonEl.style.display =\n",
              "    google.colab.kernel.accessAllowed ? 'block' : 'none';\n",
              "}\n",
              "\n",
              "        displayQuickchartButton(document);\n",
              "      </script>\n",
              "      <style>\n",
              "    .colab-df-container {\n",
              "      display:flex;\n",
              "      flex-wrap:wrap;\n",
              "      gap: 12px;\n",
              "    }\n",
              "\n",
              "    .colab-df-convert {\n",
              "      background-color: #E8F0FE;\n",
              "      border: none;\n",
              "      border-radius: 50%;\n",
              "      cursor: pointer;\n",
              "      display: none;\n",
              "      fill: #1967D2;\n",
              "      height: 32px;\n",
              "      padding: 0 0 0 0;\n",
              "      width: 32px;\n",
              "    }\n",
              "\n",
              "    .colab-df-convert:hover {\n",
              "      background-color: #E2EBFA;\n",
              "      box-shadow: 0px 1px 2px rgba(60, 64, 67, 0.3), 0px 1px 3px 1px rgba(60, 64, 67, 0.15);\n",
              "      fill: #174EA6;\n",
              "    }\n",
              "\n",
              "    [theme=dark] .colab-df-convert {\n",
              "      background-color: #3B4455;\n",
              "      fill: #D2E3FC;\n",
              "    }\n",
              "\n",
              "    [theme=dark] .colab-df-convert:hover {\n",
              "      background-color: #434B5C;\n",
              "      box-shadow: 0px 1px 3px 1px rgba(0, 0, 0, 0.15);\n",
              "      filter: drop-shadow(0px 1px 2px rgba(0, 0, 0, 0.3));\n",
              "      fill: #FFFFFF;\n",
              "    }\n",
              "  </style>\n",
              "\n",
              "      <script>\n",
              "        const buttonEl =\n",
              "          document.querySelector('#df-44613ba8-a68e-4cdb-acb7-ac5b3b3eb90f button.colab-df-convert');\n",
              "        buttonEl.style.display =\n",
              "          google.colab.kernel.accessAllowed ? 'block' : 'none';\n",
              "\n",
              "        async function convertToInteractive(key) {\n",
              "          const element = document.querySelector('#df-44613ba8-a68e-4cdb-acb7-ac5b3b3eb90f');\n",
              "          const dataTable =\n",
              "            await google.colab.kernel.invokeFunction('convertToInteractive',\n",
              "                                                     [key], {});\n",
              "          if (!dataTable) return;\n",
              "\n",
              "          const docLinkHtml = 'Like what you see? Visit the ' +\n",
              "            '<a target=\"_blank\" href=https://colab.research.google.com/notebooks/data_table.ipynb>data table notebook</a>'\n",
              "            + ' to learn more about interactive tables.';\n",
              "          element.innerHTML = '';\n",
              "          dataTable['output_type'] = 'display_data';\n",
              "          await google.colab.output.renderOutput(dataTable, element);\n",
              "          const docLink = document.createElement('div');\n",
              "          docLink.innerHTML = docLinkHtml;\n",
              "          element.appendChild(docLink);\n",
              "        }\n",
              "      </script>\n",
              "    </div>\n",
              "  </div>\n"
            ]
          },
          "metadata": {},
          "execution_count": 137
        }
      ]
    },
    {
      "cell_type": "code",
      "source": [
        "#Replace $ to none and convert price to float\n",
        "meta['price']= meta['price'].str.replace(\"$\",'')\n",
        "meta['price']= meta['price'].str.replace(\",\",'')\n",
        "meta['price']= pd.to_numeric(meta['price'], errors='coerce')"
      ],
      "metadata": {
        "colab": {
          "base_uri": "https://localhost:8080/"
        },
        "id": "ni8ih3rOTzPn",
        "outputId": "954214a2-2b4f-48cd-d6cc-af90f417007a"
      },
      "execution_count": 138,
      "outputs": [
        {
          "output_type": "stream",
          "name": "stderr",
          "text": [
            "<ipython-input-138-09613ebc1d19>:2: FutureWarning: The default value of regex will change from True to False in a future version. In addition, single character regular expressions will *not* be treated as literal strings when regex=True.\n",
            "  meta['price']= meta['price'].str.replace(\"$\",'')\n",
            "<ipython-input-138-09613ebc1d19>:2: SettingWithCopyWarning: \n",
            "A value is trying to be set on a copy of a slice from a DataFrame.\n",
            "Try using .loc[row_indexer,col_indexer] = value instead\n",
            "\n",
            "See the caveats in the documentation: https://pandas.pydata.org/pandas-docs/stable/user_guide/indexing.html#returning-a-view-versus-a-copy\n",
            "  meta['price']= meta['price'].str.replace(\"$\",'')\n",
            "<ipython-input-138-09613ebc1d19>:3: SettingWithCopyWarning: \n",
            "A value is trying to be set on a copy of a slice from a DataFrame.\n",
            "Try using .loc[row_indexer,col_indexer] = value instead\n",
            "\n",
            "See the caveats in the documentation: https://pandas.pydata.org/pandas-docs/stable/user_guide/indexing.html#returning-a-view-versus-a-copy\n",
            "  meta['price']= meta['price'].str.replace(\",\",'')\n",
            "<ipython-input-138-09613ebc1d19>:4: SettingWithCopyWarning: \n",
            "A value is trying to be set on a copy of a slice from a DataFrame.\n",
            "Try using .loc[row_indexer,col_indexer] = value instead\n",
            "\n",
            "See the caveats in the documentation: https://pandas.pydata.org/pandas-docs/stable/user_guide/indexing.html#returning-a-view-versus-a-copy\n",
            "  meta['price']= pd.to_numeric(meta['price'], errors='coerce')\n"
          ]
        }
      ]
    },
    {
      "cell_type": "code",
      "source": [
        "#Extracting rank in cellphones and acessories\n",
        "meta['rank']=meta['rank'].str.extract(pat='([^>#](\\d{0,3},)?(\\d{3},)?\\d{0,3}\\s*in Cell Phones & Accessories)')[0]\n",
        "meta['rank']=meta['rank'].str.replace(\">#\",\"\").str.replace(\"in Cell Phones & Accessories\",\"\").str.replace(\",\",\"\")\n",
        "meta['rank'] = meta['rank'].astype(\"float\")"
      ],
      "metadata": {
        "id": "nu_228SIVnXE",
        "colab": {
          "base_uri": "https://localhost:8080/"
        },
        "outputId": "252dea9f-b697-4c97-8601-4964677860e9"
      },
      "execution_count": 139,
      "outputs": [
        {
          "output_type": "stream",
          "name": "stderr",
          "text": [
            "<ipython-input-139-b225a51e4c47>:2: SettingWithCopyWarning: \n",
            "A value is trying to be set on a copy of a slice from a DataFrame.\n",
            "Try using .loc[row_indexer,col_indexer] = value instead\n",
            "\n",
            "See the caveats in the documentation: https://pandas.pydata.org/pandas-docs/stable/user_guide/indexing.html#returning-a-view-versus-a-copy\n",
            "  meta['rank']=meta['rank'].str.extract(pat='([^>#](\\d{0,3},)?(\\d{3},)?\\d{0,3}\\s*in Cell Phones & Accessories)')[0]\n",
            "<ipython-input-139-b225a51e4c47>:3: SettingWithCopyWarning: \n",
            "A value is trying to be set on a copy of a slice from a DataFrame.\n",
            "Try using .loc[row_indexer,col_indexer] = value instead\n",
            "\n",
            "See the caveats in the documentation: https://pandas.pydata.org/pandas-docs/stable/user_guide/indexing.html#returning-a-view-versus-a-copy\n",
            "  meta['rank']=meta['rank'].str.replace(\">#\",\"\").str.replace(\"in Cell Phones & Accessories\",\"\").str.replace(\",\",\"\")\n",
            "<ipython-input-139-b225a51e4c47>:4: SettingWithCopyWarning: \n",
            "A value is trying to be set on a copy of a slice from a DataFrame.\n",
            "Try using .loc[row_indexer,col_indexer] = value instead\n",
            "\n",
            "See the caveats in the documentation: https://pandas.pydata.org/pandas-docs/stable/user_guide/indexing.html#returning-a-view-versus-a-copy\n",
            "  meta['rank'] = meta['rank'].astype(\"float\")\n"
          ]
        }
      ]
    },
    {
      "cell_type": "code",
      "source": [
        "#creating new .csv file for cleaned meta\n",
        "meta.to_csv('/content/drive/MyDrive/metadata.csv')"
      ],
      "metadata": {
        "id": "Hsd7_XooiHi4"
      },
      "execution_count": 140,
      "outputs": []
    },
    {
      "cell_type": "code",
      "source": [
        "#reading metadata.csv file\n",
        "metadata=pd.read_csv('/content/drive/MyDrive/metadata.csv')"
      ],
      "metadata": {
        "id": "oXWzES2fiHgX"
      },
      "execution_count": 141,
      "outputs": []
    },
    {
      "cell_type": "code",
      "source": [
        "metadata.head(5)"
      ],
      "metadata": {
        "colab": {
          "base_uri": "https://localhost:8080/",
          "height": 704
        },
        "id": "O2cmiGMoiHdv",
        "outputId": "bd4941ee-48a5-4603-ff4f-aac00651a711"
      },
      "execution_count": 142,
      "outputs": [
        {
          "output_type": "execute_result",
          "data": {
            "text/plain": [
              "   Unnamed: 0.1  Unnamed: 0  \\\n",
              "0          4018        4018   \n",
              "1          4130        4130   \n",
              "2          4148        4148   \n",
              "3          4170        4170   \n",
              "4          5767        5767   \n",
              "\n",
              "                                            category  \\\n",
              "0  ['Cell Phones & Accessories', 'Cell Phones', '...   \n",
              "1  ['Cell Phones & Accessories', 'Cell Phones', '...   \n",
              "2  ['Cell Phones & Accessories', 'Cell Phones', '...   \n",
              "3  ['Cell Phones & Accessories', 'Cell Phones', '...   \n",
              "4  ['Cell Phones & Accessories', 'Cell Phones', '...   \n",
              "\n",
              "                                         description  \\\n",
              "0  ['The Nokia 1100 phone lets you conduct busine...   \n",
              "1  ['Like new in box great looking phone get it b...   \n",
              "2  ['The sleek VX8300 is built for serious mobile...   \n",
              "3  [\"The Moto Razr V3 is expertly crafted to deli...   \n",
              "4  ['GSM/EDGE coverage (900/1800/1900 MHz))\\\\n\\\\n...   \n",
              "\n",
              "                                               title  \\\n",
              "0                                Unlocked Nokia 1100   \n",
              "1  Motorola Moto Q - Smartphone - CDMA2000 1X - b...   \n",
              "2  Verizon or PagePlus LG VX8300 Great Condition ...   \n",
              "3  Motorola RAZR V3 Unlocked Phone with Camera, V...   \n",
              "4  Nokia 6300 Unlocked Triband Camera Business Phone   \n",
              "\n",
              "                                            also_buy  \\\n",
              "0                       ['B00095MR5W', 'B00R25GJJW']   \n",
              "1                                                 []   \n",
              "2  ['B000HHIUOE', 'B0021KAD3Q', 'B000SCGYKK', 'B0...   \n",
              "3                                                 []   \n",
              "4                                     ['B002LSHZPM']   \n",
              "\n",
              "                                               image     brand  \\\n",
              "0  ['https://images-na.ssl-images-amazon.com/imag...     Nokia   \n",
              "1  ['https://images-na.ssl-images-amazon.com/imag...  Motorola   \n",
              "2  ['https://images-na.ssl-images-amazon.com/imag...        LG   \n",
              "3  ['https://images-na.ssl-images-amazon.com/imag...  Motorola   \n",
              "4  ['https://images-na.ssl-images-amazon.com/imag...     Nokia   \n",
              "\n",
              "                                             feature      rank  \\\n",
              "0                            ['Unlocked Nokia 1100']  510212.0   \n",
              "1                                                 []  503104.0   \n",
              "2  ['This product has been carefully audited and ...  149915.0   \n",
              "3  ['This unlocked cell phone is compatible with ...  335739.0   \n",
              "4  ['Nokia 6300 - Silver black (Unlocked) Mobile ...  456762.0   \n",
              "\n",
              "                                           also_view details  \\\n",
              "0  ['B075FL4H89', 'B0757B64H2', 'B0757BT4C8', 'B0...      {}   \n",
              "1  ['B014VM1CYU', 'B00O5EU7TQ', 'B00NSRC4Y2', 'B0...      {}   \n",
              "2                                                 []      {}   \n",
              "3  ['B0009FCAJA', 'B0016JDBYG', 'B002UHS0UI', 'B0...      {}   \n",
              "4  ['B075FL4H89', 'B0757B64H2', 'B0172EEAQQ', 'B0...      {}   \n",
              "\n",
              "                    main_cat  \\\n",
              "0  Cell Phones & Accessories   \n",
              "1  Cell Phones & Accessories   \n",
              "2  Cell Phones & Accessories   \n",
              "3  Cell Phones & Accessories   \n",
              "4  Cell Phones & Accessories   \n",
              "\n",
              "                                        similar_item   price        asin  \n",
              "0   class=\"a-bordered a-horizontal-stripes  a-spa...   40.08  B000FJ1XWA  \n",
              "1   class=\"a-bordered a-horizontal-stripes  a-spa...   17.99  B000FYU4SO  \n",
              "2   class=\"a-bordered a-horizontal-stripes  a-spa...   27.57  B000G2TLIO  \n",
              "3   class=\"a-bordered a-horizontal-stripes  a-spa...  105.99  B000G7LZCO  \n",
              "4   class=\"a-bordered a-horizontal-stripes  a-spa...   40.08  B000MXF2IK  "
            ],
            "text/html": [
              "\n",
              "\n",
              "  <div id=\"df-f15152c6-d32a-4616-8fa1-3fb69e0d1fb4\">\n",
              "    <div class=\"colab-df-container\">\n",
              "      <div>\n",
              "<style scoped>\n",
              "    .dataframe tbody tr th:only-of-type {\n",
              "        vertical-align: middle;\n",
              "    }\n",
              "\n",
              "    .dataframe tbody tr th {\n",
              "        vertical-align: top;\n",
              "    }\n",
              "\n",
              "    .dataframe thead th {\n",
              "        text-align: right;\n",
              "    }\n",
              "</style>\n",
              "<table border=\"1\" class=\"dataframe\">\n",
              "  <thead>\n",
              "    <tr style=\"text-align: right;\">\n",
              "      <th></th>\n",
              "      <th>Unnamed: 0.1</th>\n",
              "      <th>Unnamed: 0</th>\n",
              "      <th>category</th>\n",
              "      <th>description</th>\n",
              "      <th>title</th>\n",
              "      <th>also_buy</th>\n",
              "      <th>image</th>\n",
              "      <th>brand</th>\n",
              "      <th>feature</th>\n",
              "      <th>rank</th>\n",
              "      <th>also_view</th>\n",
              "      <th>details</th>\n",
              "      <th>main_cat</th>\n",
              "      <th>similar_item</th>\n",
              "      <th>price</th>\n",
              "      <th>asin</th>\n",
              "    </tr>\n",
              "  </thead>\n",
              "  <tbody>\n",
              "    <tr>\n",
              "      <th>0</th>\n",
              "      <td>4018</td>\n",
              "      <td>4018</td>\n",
              "      <td>['Cell Phones &amp; Accessories', 'Cell Phones', '...</td>\n",
              "      <td>['The Nokia 1100 phone lets you conduct busine...</td>\n",
              "      <td>Unlocked Nokia 1100</td>\n",
              "      <td>['B00095MR5W', 'B00R25GJJW']</td>\n",
              "      <td>['https://images-na.ssl-images-amazon.com/imag...</td>\n",
              "      <td>Nokia</td>\n",
              "      <td>['Unlocked Nokia 1100']</td>\n",
              "      <td>510212.0</td>\n",
              "      <td>['B075FL4H89', 'B0757B64H2', 'B0757BT4C8', 'B0...</td>\n",
              "      <td>{}</td>\n",
              "      <td>Cell Phones &amp; Accessories</td>\n",
              "      <td>class=\"a-bordered a-horizontal-stripes  a-spa...</td>\n",
              "      <td>40.08</td>\n",
              "      <td>B000FJ1XWA</td>\n",
              "    </tr>\n",
              "    <tr>\n",
              "      <th>1</th>\n",
              "      <td>4130</td>\n",
              "      <td>4130</td>\n",
              "      <td>['Cell Phones &amp; Accessories', 'Cell Phones', '...</td>\n",
              "      <td>['Like new in box great looking phone get it b...</td>\n",
              "      <td>Motorola Moto Q - Smartphone - CDMA2000 1X - b...</td>\n",
              "      <td>[]</td>\n",
              "      <td>['https://images-na.ssl-images-amazon.com/imag...</td>\n",
              "      <td>Motorola</td>\n",
              "      <td>[]</td>\n",
              "      <td>503104.0</td>\n",
              "      <td>['B014VM1CYU', 'B00O5EU7TQ', 'B00NSRC4Y2', 'B0...</td>\n",
              "      <td>{}</td>\n",
              "      <td>Cell Phones &amp; Accessories</td>\n",
              "      <td>class=\"a-bordered a-horizontal-stripes  a-spa...</td>\n",
              "      <td>17.99</td>\n",
              "      <td>B000FYU4SO</td>\n",
              "    </tr>\n",
              "    <tr>\n",
              "      <th>2</th>\n",
              "      <td>4148</td>\n",
              "      <td>4148</td>\n",
              "      <td>['Cell Phones &amp; Accessories', 'Cell Phones', '...</td>\n",
              "      <td>['The sleek VX8300 is built for serious mobile...</td>\n",
              "      <td>Verizon or PagePlus LG VX8300 Great Condition ...</td>\n",
              "      <td>['B000HHIUOE', 'B0021KAD3Q', 'B000SCGYKK', 'B0...</td>\n",
              "      <td>['https://images-na.ssl-images-amazon.com/imag...</td>\n",
              "      <td>LG</td>\n",
              "      <td>['This product has been carefully audited and ...</td>\n",
              "      <td>149915.0</td>\n",
              "      <td>[]</td>\n",
              "      <td>{}</td>\n",
              "      <td>Cell Phones &amp; Accessories</td>\n",
              "      <td>class=\"a-bordered a-horizontal-stripes  a-spa...</td>\n",
              "      <td>27.57</td>\n",
              "      <td>B000G2TLIO</td>\n",
              "    </tr>\n",
              "    <tr>\n",
              "      <th>3</th>\n",
              "      <td>4170</td>\n",
              "      <td>4170</td>\n",
              "      <td>['Cell Phones &amp; Accessories', 'Cell Phones', '...</td>\n",
              "      <td>[\"The Moto Razr V3 is expertly crafted to deli...</td>\n",
              "      <td>Motorola RAZR V3 Unlocked Phone with Camera, V...</td>\n",
              "      <td>[]</td>\n",
              "      <td>['https://images-na.ssl-images-amazon.com/imag...</td>\n",
              "      <td>Motorola</td>\n",
              "      <td>['This unlocked cell phone is compatible with ...</td>\n",
              "      <td>335739.0</td>\n",
              "      <td>['B0009FCAJA', 'B0016JDBYG', 'B002UHS0UI', 'B0...</td>\n",
              "      <td>{}</td>\n",
              "      <td>Cell Phones &amp; Accessories</td>\n",
              "      <td>class=\"a-bordered a-horizontal-stripes  a-spa...</td>\n",
              "      <td>105.99</td>\n",
              "      <td>B000G7LZCO</td>\n",
              "    </tr>\n",
              "    <tr>\n",
              "      <th>4</th>\n",
              "      <td>5767</td>\n",
              "      <td>5767</td>\n",
              "      <td>['Cell Phones &amp; Accessories', 'Cell Phones', '...</td>\n",
              "      <td>['GSM/EDGE coverage (900/1800/1900 MHz))\\\\n\\\\n...</td>\n",
              "      <td>Nokia 6300 Unlocked Triband Camera Business Phone</td>\n",
              "      <td>['B002LSHZPM']</td>\n",
              "      <td>['https://images-na.ssl-images-amazon.com/imag...</td>\n",
              "      <td>Nokia</td>\n",
              "      <td>['Nokia 6300 - Silver black (Unlocked) Mobile ...</td>\n",
              "      <td>456762.0</td>\n",
              "      <td>['B075FL4H89', 'B0757B64H2', 'B0172EEAQQ', 'B0...</td>\n",
              "      <td>{}</td>\n",
              "      <td>Cell Phones &amp; Accessories</td>\n",
              "      <td>class=\"a-bordered a-horizontal-stripes  a-spa...</td>\n",
              "      <td>40.08</td>\n",
              "      <td>B000MXF2IK</td>\n",
              "    </tr>\n",
              "  </tbody>\n",
              "</table>\n",
              "</div>\n",
              "      <button class=\"colab-df-convert\" onclick=\"convertToInteractive('df-f15152c6-d32a-4616-8fa1-3fb69e0d1fb4')\"\n",
              "              title=\"Convert this dataframe to an interactive table.\"\n",
              "              style=\"display:none;\">\n",
              "\n",
              "  <svg xmlns=\"http://www.w3.org/2000/svg\" height=\"24px\"viewBox=\"0 0 24 24\"\n",
              "       width=\"24px\">\n",
              "    <path d=\"M0 0h24v24H0V0z\" fill=\"none\"/>\n",
              "    <path d=\"M18.56 5.44l.94 2.06.94-2.06 2.06-.94-2.06-.94-.94-2.06-.94 2.06-2.06.94zm-11 1L8.5 8.5l.94-2.06 2.06-.94-2.06-.94L8.5 2.5l-.94 2.06-2.06.94zm10 10l.94 2.06.94-2.06 2.06-.94-2.06-.94-.94-2.06-.94 2.06-2.06.94z\"/><path d=\"M17.41 7.96l-1.37-1.37c-.4-.4-.92-.59-1.43-.59-.52 0-1.04.2-1.43.59L10.3 9.45l-7.72 7.72c-.78.78-.78 2.05 0 2.83L4 21.41c.39.39.9.59 1.41.59.51 0 1.02-.2 1.41-.59l7.78-7.78 2.81-2.81c.8-.78.8-2.07 0-2.86zM5.41 20L4 18.59l7.72-7.72 1.47 1.35L5.41 20z\"/>\n",
              "  </svg>\n",
              "      </button>\n",
              "\n",
              "\n",
              "\n",
              "    <div id=\"df-94eda786-b697-4541-9ce5-cf102eb30aaf\">\n",
              "      <button class=\"colab-df-quickchart\" onclick=\"quickchart('df-94eda786-b697-4541-9ce5-cf102eb30aaf')\"\n",
              "              title=\"Suggest charts.\"\n",
              "              style=\"display:none;\">\n",
              "\n",
              "<svg xmlns=\"http://www.w3.org/2000/svg\" height=\"24px\"viewBox=\"0 0 24 24\"\n",
              "     width=\"24px\">\n",
              "    <g>\n",
              "        <path d=\"M19 3H5c-1.1 0-2 .9-2 2v14c0 1.1.9 2 2 2h14c1.1 0 2-.9 2-2V5c0-1.1-.9-2-2-2zM9 17H7v-7h2v7zm4 0h-2V7h2v10zm4 0h-2v-4h2v4z\"/>\n",
              "    </g>\n",
              "</svg>\n",
              "      </button>\n",
              "    </div>\n",
              "\n",
              "<style>\n",
              "  .colab-df-quickchart {\n",
              "    background-color: #E8F0FE;\n",
              "    border: none;\n",
              "    border-radius: 50%;\n",
              "    cursor: pointer;\n",
              "    display: none;\n",
              "    fill: #1967D2;\n",
              "    height: 32px;\n",
              "    padding: 0 0 0 0;\n",
              "    width: 32px;\n",
              "  }\n",
              "\n",
              "  .colab-df-quickchart:hover {\n",
              "    background-color: #E2EBFA;\n",
              "    box-shadow: 0px 1px 2px rgba(60, 64, 67, 0.3), 0px 1px 3px 1px rgba(60, 64, 67, 0.15);\n",
              "    fill: #174EA6;\n",
              "  }\n",
              "\n",
              "  [theme=dark] .colab-df-quickchart {\n",
              "    background-color: #3B4455;\n",
              "    fill: #D2E3FC;\n",
              "  }\n",
              "\n",
              "  [theme=dark] .colab-df-quickchart:hover {\n",
              "    background-color: #434B5C;\n",
              "    box-shadow: 0px 1px 3px 1px rgba(0, 0, 0, 0.15);\n",
              "    filter: drop-shadow(0px 1px 2px rgba(0, 0, 0, 0.3));\n",
              "    fill: #FFFFFF;\n",
              "  }\n",
              "</style>\n",
              "\n",
              "    <script>\n",
              "      async function quickchart(key) {\n",
              "        const containerElement = document.querySelector('#' + key);\n",
              "        const charts = await google.colab.kernel.invokeFunction(\n",
              "            'suggestCharts', [key], {});\n",
              "      }\n",
              "    </script>\n",
              "\n",
              "      <script>\n",
              "\n",
              "function displayQuickchartButton(domScope) {\n",
              "  let quickchartButtonEl =\n",
              "    domScope.querySelector('#df-94eda786-b697-4541-9ce5-cf102eb30aaf button.colab-df-quickchart');\n",
              "  quickchartButtonEl.style.display =\n",
              "    google.colab.kernel.accessAllowed ? 'block' : 'none';\n",
              "}\n",
              "\n",
              "        displayQuickchartButton(document);\n",
              "      </script>\n",
              "      <style>\n",
              "    .colab-df-container {\n",
              "      display:flex;\n",
              "      flex-wrap:wrap;\n",
              "      gap: 12px;\n",
              "    }\n",
              "\n",
              "    .colab-df-convert {\n",
              "      background-color: #E8F0FE;\n",
              "      border: none;\n",
              "      border-radius: 50%;\n",
              "      cursor: pointer;\n",
              "      display: none;\n",
              "      fill: #1967D2;\n",
              "      height: 32px;\n",
              "      padding: 0 0 0 0;\n",
              "      width: 32px;\n",
              "    }\n",
              "\n",
              "    .colab-df-convert:hover {\n",
              "      background-color: #E2EBFA;\n",
              "      box-shadow: 0px 1px 2px rgba(60, 64, 67, 0.3), 0px 1px 3px 1px rgba(60, 64, 67, 0.15);\n",
              "      fill: #174EA6;\n",
              "    }\n",
              "\n",
              "    [theme=dark] .colab-df-convert {\n",
              "      background-color: #3B4455;\n",
              "      fill: #D2E3FC;\n",
              "    }\n",
              "\n",
              "    [theme=dark] .colab-df-convert:hover {\n",
              "      background-color: #434B5C;\n",
              "      box-shadow: 0px 1px 3px 1px rgba(0, 0, 0, 0.15);\n",
              "      filter: drop-shadow(0px 1px 2px rgba(0, 0, 0, 0.3));\n",
              "      fill: #FFFFFF;\n",
              "    }\n",
              "  </style>\n",
              "\n",
              "      <script>\n",
              "        const buttonEl =\n",
              "          document.querySelector('#df-f15152c6-d32a-4616-8fa1-3fb69e0d1fb4 button.colab-df-convert');\n",
              "        buttonEl.style.display =\n",
              "          google.colab.kernel.accessAllowed ? 'block' : 'none';\n",
              "\n",
              "        async function convertToInteractive(key) {\n",
              "          const element = document.querySelector('#df-f15152c6-d32a-4616-8fa1-3fb69e0d1fb4');\n",
              "          const dataTable =\n",
              "            await google.colab.kernel.invokeFunction('convertToInteractive',\n",
              "                                                     [key], {});\n",
              "          if (!dataTable) return;\n",
              "\n",
              "          const docLinkHtml = 'Like what you see? Visit the ' +\n",
              "            '<a target=\"_blank\" href=https://colab.research.google.com/notebooks/data_table.ipynb>data table notebook</a>'\n",
              "            + ' to learn more about interactive tables.';\n",
              "          element.innerHTML = '';\n",
              "          dataTable['output_type'] = 'display_data';\n",
              "          await google.colab.output.renderOutput(dataTable, element);\n",
              "          const docLink = document.createElement('div');\n",
              "          docLink.innerHTML = docLinkHtml;\n",
              "          element.appendChild(docLink);\n",
              "        }\n",
              "      </script>\n",
              "    </div>\n",
              "  </div>\n"
            ]
          },
          "metadata": {},
          "execution_count": 142
        }
      ]
    },
    {
      "cell_type": "code",
      "source": [
        "#Merging phonedata and metadata using asin\n",
        "df = pd.merge(phonedata, metadata, how=\"inner\", on=[\"asin\"])"
      ],
      "metadata": {
        "id": "eZe05M8uiHbN"
      },
      "execution_count": 143,
      "outputs": []
    },
    {
      "cell_type": "code",
      "source": [
        "df.head(5)"
      ],
      "metadata": {
        "colab": {
          "base_uri": "https://localhost:8080/",
          "height": 733
        },
        "id": "-lCMzWb8iHY2",
        "outputId": "36243b7e-2449-4a23-bc85-aa127f6a51d9"
      },
      "execution_count": 144,
      "outputs": [
        {
          "output_type": "execute_result",
          "data": {
            "text/plain": [
              "   overall  verified      reviewerID        asin                 style  \\\n",
              "0      4.0     False  A1ICOB5XZ9GK3R  B002KQLUVU  {'Color:': ' Black'}   \n",
              "1      5.0      True  A2O0XNK7T4KASU  B002KQLUVU  {'Color:': ' Black'}   \n",
              "2      5.0      True  A3CB1J66JA929L  B002KQLUVU  {'Color:': ' Black'}   \n",
              "3      5.0      True  A1H8OJ4PPV9R12  B002KQLUVU  {'Color:': ' Black'}   \n",
              "4      1.0      True  A2H6U09YBWFYPJ  B002KQLUVU  {'Color:': ' Black'}   \n",
              "\n",
              "       reviewerName                                         reviewText  \\\n",
              "0          pinknblu  I gave it a four because when I first got it, ...   \n",
              "1                JR                                               Good   \n",
              "2         Idelfonzo                                                 ok   \n",
              "3  Daniel Garanton.                                         Excelente!   \n",
              "4       Donysius R.  unhappy with the product ... is not what I wan...   \n",
              "\n",
              "               summary review_sentiment    DateTime  ...  \\\n",
              "0  Blackberry Rim 8520         POSITIVE  06-09-2009  ...   \n",
              "1                 Good         POSITIVE  17-08-2017  ...   \n",
              "2           Five Stars         POSITIVE  14-07-2017  ...   \n",
              "3           Five Stars         NEGATIVE  16-02-2017  ...   \n",
              "4             One Star         NEGATIVE  24-12-2016  ...   \n",
              "\n",
              "                                            also_buy  \\\n",
              "0  ['B004G8QNDA', 'B002LDHF2K', 'B0085EIE38', 'B0...   \n",
              "1  ['B004G8QNDA', 'B002LDHF2K', 'B0085EIE38', 'B0...   \n",
              "2  ['B004G8QNDA', 'B002LDHF2K', 'B0085EIE38', 'B0...   \n",
              "3  ['B004G8QNDA', 'B002LDHF2K', 'B0085EIE38', 'B0...   \n",
              "4  ['B004G8QNDA', 'B002LDHF2K', 'B0085EIE38', 'B0...   \n",
              "\n",
              "                                               image       brand  \\\n",
              "0  ['https://images-na.ssl-images-amazon.com/imag...  BlackBerry   \n",
              "1  ['https://images-na.ssl-images-amazon.com/imag...  BlackBerry   \n",
              "2  ['https://images-na.ssl-images-amazon.com/imag...  BlackBerry   \n",
              "3  ['https://images-na.ssl-images-amazon.com/imag...  BlackBerry   \n",
              "4  ['https://images-na.ssl-images-amazon.com/imag...  BlackBerry   \n",
              "\n",
              "                                             feature      rank also_view  \\\n",
              "0  ['2.0MP Digital Camera, High-resolution displa...  228047.0        []   \n",
              "1  ['2.0MP Digital Camera, High-resolution displa...  228047.0        []   \n",
              "2  ['2.0MP Digital Camera, High-resolution displa...  228047.0        []   \n",
              "3  ['2.0MP Digital Camera, High-resolution displa...  228047.0        []   \n",
              "4  ['2.0MP Digital Camera, High-resolution displa...  228047.0        []   \n",
              "\n",
              "  details                   main_cat  \\\n",
              "0      {}  Cell Phones & Accessories   \n",
              "1      {}  Cell Phones & Accessories   \n",
              "2      {}  Cell Phones & Accessories   \n",
              "3      {}  Cell Phones & Accessories   \n",
              "4      {}  Cell Phones & Accessories   \n",
              "\n",
              "                                        similar_item  price  \n",
              "0   class=\"a-bordered a-horizontal-stripes  a-spa...   16.0  \n",
              "1   class=\"a-bordered a-horizontal-stripes  a-spa...   16.0  \n",
              "2   class=\"a-bordered a-horizontal-stripes  a-spa...   16.0  \n",
              "3   class=\"a-bordered a-horizontal-stripes  a-spa...   16.0  \n",
              "4   class=\"a-bordered a-horizontal-stripes  a-spa...   16.0  \n",
              "\n",
              "[5 rows x 25 columns]"
            ],
            "text/html": [
              "\n",
              "\n",
              "  <div id=\"df-8985a6b1-6ed2-419c-881e-19c4a9443618\">\n",
              "    <div class=\"colab-df-container\">\n",
              "      <div>\n",
              "<style scoped>\n",
              "    .dataframe tbody tr th:only-of-type {\n",
              "        vertical-align: middle;\n",
              "    }\n",
              "\n",
              "    .dataframe tbody tr th {\n",
              "        vertical-align: top;\n",
              "    }\n",
              "\n",
              "    .dataframe thead th {\n",
              "        text-align: right;\n",
              "    }\n",
              "</style>\n",
              "<table border=\"1\" class=\"dataframe\">\n",
              "  <thead>\n",
              "    <tr style=\"text-align: right;\">\n",
              "      <th></th>\n",
              "      <th>overall</th>\n",
              "      <th>verified</th>\n",
              "      <th>reviewerID</th>\n",
              "      <th>asin</th>\n",
              "      <th>style</th>\n",
              "      <th>reviewerName</th>\n",
              "      <th>reviewText</th>\n",
              "      <th>summary</th>\n",
              "      <th>review_sentiment</th>\n",
              "      <th>DateTime</th>\n",
              "      <th>...</th>\n",
              "      <th>also_buy</th>\n",
              "      <th>image</th>\n",
              "      <th>brand</th>\n",
              "      <th>feature</th>\n",
              "      <th>rank</th>\n",
              "      <th>also_view</th>\n",
              "      <th>details</th>\n",
              "      <th>main_cat</th>\n",
              "      <th>similar_item</th>\n",
              "      <th>price</th>\n",
              "    </tr>\n",
              "  </thead>\n",
              "  <tbody>\n",
              "    <tr>\n",
              "      <th>0</th>\n",
              "      <td>4.0</td>\n",
              "      <td>False</td>\n",
              "      <td>A1ICOB5XZ9GK3R</td>\n",
              "      <td>B002KQLUVU</td>\n",
              "      <td>{'Color:': ' Black'}</td>\n",
              "      <td>pinknblu</td>\n",
              "      <td>I gave it a four because when I first got it, ...</td>\n",
              "      <td>Blackberry Rim 8520</td>\n",
              "      <td>POSITIVE</td>\n",
              "      <td>06-09-2009</td>\n",
              "      <td>...</td>\n",
              "      <td>['B004G8QNDA', 'B002LDHF2K', 'B0085EIE38', 'B0...</td>\n",
              "      <td>['https://images-na.ssl-images-amazon.com/imag...</td>\n",
              "      <td>BlackBerry</td>\n",
              "      <td>['2.0MP Digital Camera, High-resolution displa...</td>\n",
              "      <td>228047.0</td>\n",
              "      <td>[]</td>\n",
              "      <td>{}</td>\n",
              "      <td>Cell Phones &amp; Accessories</td>\n",
              "      <td>class=\"a-bordered a-horizontal-stripes  a-spa...</td>\n",
              "      <td>16.0</td>\n",
              "    </tr>\n",
              "    <tr>\n",
              "      <th>1</th>\n",
              "      <td>5.0</td>\n",
              "      <td>True</td>\n",
              "      <td>A2O0XNK7T4KASU</td>\n",
              "      <td>B002KQLUVU</td>\n",
              "      <td>{'Color:': ' Black'}</td>\n",
              "      <td>JR</td>\n",
              "      <td>Good</td>\n",
              "      <td>Good</td>\n",
              "      <td>POSITIVE</td>\n",
              "      <td>17-08-2017</td>\n",
              "      <td>...</td>\n",
              "      <td>['B004G8QNDA', 'B002LDHF2K', 'B0085EIE38', 'B0...</td>\n",
              "      <td>['https://images-na.ssl-images-amazon.com/imag...</td>\n",
              "      <td>BlackBerry</td>\n",
              "      <td>['2.0MP Digital Camera, High-resolution displa...</td>\n",
              "      <td>228047.0</td>\n",
              "      <td>[]</td>\n",
              "      <td>{}</td>\n",
              "      <td>Cell Phones &amp; Accessories</td>\n",
              "      <td>class=\"a-bordered a-horizontal-stripes  a-spa...</td>\n",
              "      <td>16.0</td>\n",
              "    </tr>\n",
              "    <tr>\n",
              "      <th>2</th>\n",
              "      <td>5.0</td>\n",
              "      <td>True</td>\n",
              "      <td>A3CB1J66JA929L</td>\n",
              "      <td>B002KQLUVU</td>\n",
              "      <td>{'Color:': ' Black'}</td>\n",
              "      <td>Idelfonzo</td>\n",
              "      <td>ok</td>\n",
              "      <td>Five Stars</td>\n",
              "      <td>POSITIVE</td>\n",
              "      <td>14-07-2017</td>\n",
              "      <td>...</td>\n",
              "      <td>['B004G8QNDA', 'B002LDHF2K', 'B0085EIE38', 'B0...</td>\n",
              "      <td>['https://images-na.ssl-images-amazon.com/imag...</td>\n",
              "      <td>BlackBerry</td>\n",
              "      <td>['2.0MP Digital Camera, High-resolution displa...</td>\n",
              "      <td>228047.0</td>\n",
              "      <td>[]</td>\n",
              "      <td>{}</td>\n",
              "      <td>Cell Phones &amp; Accessories</td>\n",
              "      <td>class=\"a-bordered a-horizontal-stripes  a-spa...</td>\n",
              "      <td>16.0</td>\n",
              "    </tr>\n",
              "    <tr>\n",
              "      <th>3</th>\n",
              "      <td>5.0</td>\n",
              "      <td>True</td>\n",
              "      <td>A1H8OJ4PPV9R12</td>\n",
              "      <td>B002KQLUVU</td>\n",
              "      <td>{'Color:': ' Black'}</td>\n",
              "      <td>Daniel Garanton.</td>\n",
              "      <td>Excelente!</td>\n",
              "      <td>Five Stars</td>\n",
              "      <td>NEGATIVE</td>\n",
              "      <td>16-02-2017</td>\n",
              "      <td>...</td>\n",
              "      <td>['B004G8QNDA', 'B002LDHF2K', 'B0085EIE38', 'B0...</td>\n",
              "      <td>['https://images-na.ssl-images-amazon.com/imag...</td>\n",
              "      <td>BlackBerry</td>\n",
              "      <td>['2.0MP Digital Camera, High-resolution displa...</td>\n",
              "      <td>228047.0</td>\n",
              "      <td>[]</td>\n",
              "      <td>{}</td>\n",
              "      <td>Cell Phones &amp; Accessories</td>\n",
              "      <td>class=\"a-bordered a-horizontal-stripes  a-spa...</td>\n",
              "      <td>16.0</td>\n",
              "    </tr>\n",
              "    <tr>\n",
              "      <th>4</th>\n",
              "      <td>1.0</td>\n",
              "      <td>True</td>\n",
              "      <td>A2H6U09YBWFYPJ</td>\n",
              "      <td>B002KQLUVU</td>\n",
              "      <td>{'Color:': ' Black'}</td>\n",
              "      <td>Donysius R.</td>\n",
              "      <td>unhappy with the product ... is not what I wan...</td>\n",
              "      <td>One Star</td>\n",
              "      <td>NEGATIVE</td>\n",
              "      <td>24-12-2016</td>\n",
              "      <td>...</td>\n",
              "      <td>['B004G8QNDA', 'B002LDHF2K', 'B0085EIE38', 'B0...</td>\n",
              "      <td>['https://images-na.ssl-images-amazon.com/imag...</td>\n",
              "      <td>BlackBerry</td>\n",
              "      <td>['2.0MP Digital Camera, High-resolution displa...</td>\n",
              "      <td>228047.0</td>\n",
              "      <td>[]</td>\n",
              "      <td>{}</td>\n",
              "      <td>Cell Phones &amp; Accessories</td>\n",
              "      <td>class=\"a-bordered a-horizontal-stripes  a-spa...</td>\n",
              "      <td>16.0</td>\n",
              "    </tr>\n",
              "  </tbody>\n",
              "</table>\n",
              "<p>5 rows × 25 columns</p>\n",
              "</div>\n",
              "      <button class=\"colab-df-convert\" onclick=\"convertToInteractive('df-8985a6b1-6ed2-419c-881e-19c4a9443618')\"\n",
              "              title=\"Convert this dataframe to an interactive table.\"\n",
              "              style=\"display:none;\">\n",
              "\n",
              "  <svg xmlns=\"http://www.w3.org/2000/svg\" height=\"24px\"viewBox=\"0 0 24 24\"\n",
              "       width=\"24px\">\n",
              "    <path d=\"M0 0h24v24H0V0z\" fill=\"none\"/>\n",
              "    <path d=\"M18.56 5.44l.94 2.06.94-2.06 2.06-.94-2.06-.94-.94-2.06-.94 2.06-2.06.94zm-11 1L8.5 8.5l.94-2.06 2.06-.94-2.06-.94L8.5 2.5l-.94 2.06-2.06.94zm10 10l.94 2.06.94-2.06 2.06-.94-2.06-.94-.94-2.06-.94 2.06-2.06.94z\"/><path d=\"M17.41 7.96l-1.37-1.37c-.4-.4-.92-.59-1.43-.59-.52 0-1.04.2-1.43.59L10.3 9.45l-7.72 7.72c-.78.78-.78 2.05 0 2.83L4 21.41c.39.39.9.59 1.41.59.51 0 1.02-.2 1.41-.59l7.78-7.78 2.81-2.81c.8-.78.8-2.07 0-2.86zM5.41 20L4 18.59l7.72-7.72 1.47 1.35L5.41 20z\"/>\n",
              "  </svg>\n",
              "      </button>\n",
              "\n",
              "\n",
              "\n",
              "    <div id=\"df-85b942b2-8a19-41a4-8ba3-7cfc7985566f\">\n",
              "      <button class=\"colab-df-quickchart\" onclick=\"quickchart('df-85b942b2-8a19-41a4-8ba3-7cfc7985566f')\"\n",
              "              title=\"Suggest charts.\"\n",
              "              style=\"display:none;\">\n",
              "\n",
              "<svg xmlns=\"http://www.w3.org/2000/svg\" height=\"24px\"viewBox=\"0 0 24 24\"\n",
              "     width=\"24px\">\n",
              "    <g>\n",
              "        <path d=\"M19 3H5c-1.1 0-2 .9-2 2v14c0 1.1.9 2 2 2h14c1.1 0 2-.9 2-2V5c0-1.1-.9-2-2-2zM9 17H7v-7h2v7zm4 0h-2V7h2v10zm4 0h-2v-4h2v4z\"/>\n",
              "    </g>\n",
              "</svg>\n",
              "      </button>\n",
              "    </div>\n",
              "\n",
              "<style>\n",
              "  .colab-df-quickchart {\n",
              "    background-color: #E8F0FE;\n",
              "    border: none;\n",
              "    border-radius: 50%;\n",
              "    cursor: pointer;\n",
              "    display: none;\n",
              "    fill: #1967D2;\n",
              "    height: 32px;\n",
              "    padding: 0 0 0 0;\n",
              "    width: 32px;\n",
              "  }\n",
              "\n",
              "  .colab-df-quickchart:hover {\n",
              "    background-color: #E2EBFA;\n",
              "    box-shadow: 0px 1px 2px rgba(60, 64, 67, 0.3), 0px 1px 3px 1px rgba(60, 64, 67, 0.15);\n",
              "    fill: #174EA6;\n",
              "  }\n",
              "\n",
              "  [theme=dark] .colab-df-quickchart {\n",
              "    background-color: #3B4455;\n",
              "    fill: #D2E3FC;\n",
              "  }\n",
              "\n",
              "  [theme=dark] .colab-df-quickchart:hover {\n",
              "    background-color: #434B5C;\n",
              "    box-shadow: 0px 1px 3px 1px rgba(0, 0, 0, 0.15);\n",
              "    filter: drop-shadow(0px 1px 2px rgba(0, 0, 0, 0.3));\n",
              "    fill: #FFFFFF;\n",
              "  }\n",
              "</style>\n",
              "\n",
              "    <script>\n",
              "      async function quickchart(key) {\n",
              "        const containerElement = document.querySelector('#' + key);\n",
              "        const charts = await google.colab.kernel.invokeFunction(\n",
              "            'suggestCharts', [key], {});\n",
              "      }\n",
              "    </script>\n",
              "\n",
              "      <script>\n",
              "\n",
              "function displayQuickchartButton(domScope) {\n",
              "  let quickchartButtonEl =\n",
              "    domScope.querySelector('#df-85b942b2-8a19-41a4-8ba3-7cfc7985566f button.colab-df-quickchart');\n",
              "  quickchartButtonEl.style.display =\n",
              "    google.colab.kernel.accessAllowed ? 'block' : 'none';\n",
              "}\n",
              "\n",
              "        displayQuickchartButton(document);\n",
              "      </script>\n",
              "      <style>\n",
              "    .colab-df-container {\n",
              "      display:flex;\n",
              "      flex-wrap:wrap;\n",
              "      gap: 12px;\n",
              "    }\n",
              "\n",
              "    .colab-df-convert {\n",
              "      background-color: #E8F0FE;\n",
              "      border: none;\n",
              "      border-radius: 50%;\n",
              "      cursor: pointer;\n",
              "      display: none;\n",
              "      fill: #1967D2;\n",
              "      height: 32px;\n",
              "      padding: 0 0 0 0;\n",
              "      width: 32px;\n",
              "    }\n",
              "\n",
              "    .colab-df-convert:hover {\n",
              "      background-color: #E2EBFA;\n",
              "      box-shadow: 0px 1px 2px rgba(60, 64, 67, 0.3), 0px 1px 3px 1px rgba(60, 64, 67, 0.15);\n",
              "      fill: #174EA6;\n",
              "    }\n",
              "\n",
              "    [theme=dark] .colab-df-convert {\n",
              "      background-color: #3B4455;\n",
              "      fill: #D2E3FC;\n",
              "    }\n",
              "\n",
              "    [theme=dark] .colab-df-convert:hover {\n",
              "      background-color: #434B5C;\n",
              "      box-shadow: 0px 1px 3px 1px rgba(0, 0, 0, 0.15);\n",
              "      filter: drop-shadow(0px 1px 2px rgba(0, 0, 0, 0.3));\n",
              "      fill: #FFFFFF;\n",
              "    }\n",
              "  </style>\n",
              "\n",
              "      <script>\n",
              "        const buttonEl =\n",
              "          document.querySelector('#df-8985a6b1-6ed2-419c-881e-19c4a9443618 button.colab-df-convert');\n",
              "        buttonEl.style.display =\n",
              "          google.colab.kernel.accessAllowed ? 'block' : 'none';\n",
              "\n",
              "        async function convertToInteractive(key) {\n",
              "          const element = document.querySelector('#df-8985a6b1-6ed2-419c-881e-19c4a9443618');\n",
              "          const dataTable =\n",
              "            await google.colab.kernel.invokeFunction('convertToInteractive',\n",
              "                                                     [key], {});\n",
              "          if (!dataTable) return;\n",
              "\n",
              "          const docLinkHtml = 'Like what you see? Visit the ' +\n",
              "            '<a target=\"_blank\" href=https://colab.research.google.com/notebooks/data_table.ipynb>data table notebook</a>'\n",
              "            + ' to learn more about interactive tables.';\n",
              "          element.innerHTML = '';\n",
              "          dataTable['output_type'] = 'display_data';\n",
              "          await google.colab.output.renderOutput(dataTable, element);\n",
              "          const docLink = document.createElement('div');\n",
              "          docLink.innerHTML = docLinkHtml;\n",
              "          element.appendChild(docLink);\n",
              "        }\n",
              "      </script>\n",
              "    </div>\n",
              "  </div>\n"
            ]
          },
          "metadata": {},
          "execution_count": 144
        }
      ]
    },
    {
      "cell_type": "code",
      "source": [
        "#creating new .csv for merged data\n",
        "df.to_csv('/content/drive/MyDrive/finaldata.csv')"
      ],
      "metadata": {
        "id": "VGnqZkZ4iHV8"
      },
      "execution_count": 145,
      "outputs": []
    },
    {
      "cell_type": "code",
      "source": [
        "pip install xlsxwriter"
      ],
      "metadata": {
        "colab": {
          "base_uri": "https://localhost:8080/"
        },
        "id": "_GdWaQcyiHRD",
        "outputId": "761e9345-eff9-4591-ec57-d67401b29321"
      },
      "execution_count": 146,
      "outputs": [
        {
          "output_type": "stream",
          "name": "stdout",
          "text": [
            "Requirement already satisfied: xlsxwriter in /usr/local/lib/python3.10/dist-packages (3.1.2)\n"
          ]
        }
      ]
    },
    {
      "cell_type": "markdown",
      "source": [
        "### **Text Analytics**"
      ],
      "metadata": {
        "id": "t9eKqo9epVp3"
      }
    },
    {
      "cell_type": "code",
      "source": [
        "# Changes the overall category to categorical from numerical for easier visualizations\n",
        "df[\"overall_rating\"] = df[\"overall\"]\n",
        "df[\"overall_rating\"].replace({5.0: \"positive\",4.0:\"positive\",3.0:\"neutral\",2.0:\"negative\",1.0:\"negative\"}, inplace=True)\n",
        "df[\"overall_rating\"].unique()"
      ],
      "metadata": {
        "colab": {
          "base_uri": "https://localhost:8080/"
        },
        "id": "0bWXKxwNiHMQ",
        "outputId": "5d87cb1d-7d7d-4aa1-c1ef-ef5df10b2596"
      },
      "execution_count": 147,
      "outputs": [
        {
          "output_type": "execute_result",
          "data": {
            "text/plain": [
              "array(['positive', 'negative', 'neutral'], dtype=object)"
            ]
          },
          "metadata": {},
          "execution_count": 147
        }
      ]
    },
    {
      "cell_type": "code",
      "source": [
        "nltk.download(\"stopwords\")"
      ],
      "metadata": {
        "colab": {
          "base_uri": "https://localhost:8080/"
        },
        "id": "XX4Ddj6EiHF4",
        "outputId": "87002e62-af2f-4618-d01d-4f48f74f69cc"
      },
      "execution_count": 148,
      "outputs": [
        {
          "output_type": "stream",
          "name": "stderr",
          "text": [
            "[nltk_data] Downloading package stopwords to /root/nltk_data...\n",
            "[nltk_data]   Package stopwords is already up-to-date!\n"
          ]
        },
        {
          "output_type": "execute_result",
          "data": {
            "text/plain": [
              "True"
            ]
          },
          "metadata": {},
          "execution_count": 148
        }
      ]
    },
    {
      "cell_type": "code",
      "source": [
        "# Reading stop words from a text file in to a list\n",
        "stop_words = [line.rstrip('\\n') for line in open('/content/drive/My Drive/Web_and_social_media_analytics/stop_words_long.txt')]"
      ],
      "metadata": {
        "id": "NvrdQVBXoW08"
      },
      "execution_count": 149,
      "outputs": []
    },
    {
      "cell_type": "code",
      "source": [
        "# splits review rating into different classes, say positive = 1 and negative = 0.\n",
        "def classify(x):\n",
        "    if x == 'POSITIVE':\n",
        "        return 1\n",
        "    return 0"
      ],
      "metadata": {
        "id": "j__tydZaoWyQ"
      },
      "execution_count": 150,
      "outputs": []
    },
    {
      "cell_type": "code",
      "source": [
        "#Creating new column with corresponding class labels, the output variable.\n",
        "df['y'] = df['review_sentiment'].apply(classify)"
      ],
      "metadata": {
        "id": "ewd1TA-xoWv7"
      },
      "execution_count": 151,
      "outputs": []
    },
    {
      "cell_type": "code",
      "source": [
        "df.head(2)"
      ],
      "metadata": {
        "colab": {
          "base_uri": "https://localhost:8080/",
          "height": 379
        },
        "id": "F3nTqbr76FjN",
        "outputId": "a0b1a390-ad17-4639-800e-6d0e62319f4f"
      },
      "execution_count": 152,
      "outputs": [
        {
          "output_type": "execute_result",
          "data": {
            "text/plain": [
              "   overall  verified      reviewerID        asin                 style  \\\n",
              "0      4.0     False  A1ICOB5XZ9GK3R  B002KQLUVU  {'Color:': ' Black'}   \n",
              "1      5.0      True  A2O0XNK7T4KASU  B002KQLUVU  {'Color:': ' Black'}   \n",
              "\n",
              "  reviewerName                                         reviewText  \\\n",
              "0     pinknblu  I gave it a four because when I first got it, ...   \n",
              "1           JR                                               Good   \n",
              "\n",
              "               summary review_sentiment    DateTime  ...       brand  \\\n",
              "0  Blackberry Rim 8520         POSITIVE  06-09-2009  ...  BlackBerry   \n",
              "1                 Good         POSITIVE  17-08-2017  ...  BlackBerry   \n",
              "\n",
              "                                             feature      rank also_view  \\\n",
              "0  ['2.0MP Digital Camera, High-resolution displa...  228047.0        []   \n",
              "1  ['2.0MP Digital Camera, High-resolution displa...  228047.0        []   \n",
              "\n",
              "  details                   main_cat  \\\n",
              "0      {}  Cell Phones & Accessories   \n",
              "1      {}  Cell Phones & Accessories   \n",
              "\n",
              "                                        similar_item price overall_rating  y  \n",
              "0   class=\"a-bordered a-horizontal-stripes  a-spa...  16.0       positive  1  \n",
              "1   class=\"a-bordered a-horizontal-stripes  a-spa...  16.0       positive  1  \n",
              "\n",
              "[2 rows x 27 columns]"
            ],
            "text/html": [
              "\n",
              "\n",
              "  <div id=\"df-ef1ee284-4b8f-4487-ba66-208a0eefc38d\">\n",
              "    <div class=\"colab-df-container\">\n",
              "      <div>\n",
              "<style scoped>\n",
              "    .dataframe tbody tr th:only-of-type {\n",
              "        vertical-align: middle;\n",
              "    }\n",
              "\n",
              "    .dataframe tbody tr th {\n",
              "        vertical-align: top;\n",
              "    }\n",
              "\n",
              "    .dataframe thead th {\n",
              "        text-align: right;\n",
              "    }\n",
              "</style>\n",
              "<table border=\"1\" class=\"dataframe\">\n",
              "  <thead>\n",
              "    <tr style=\"text-align: right;\">\n",
              "      <th></th>\n",
              "      <th>overall</th>\n",
              "      <th>verified</th>\n",
              "      <th>reviewerID</th>\n",
              "      <th>asin</th>\n",
              "      <th>style</th>\n",
              "      <th>reviewerName</th>\n",
              "      <th>reviewText</th>\n",
              "      <th>summary</th>\n",
              "      <th>review_sentiment</th>\n",
              "      <th>DateTime</th>\n",
              "      <th>...</th>\n",
              "      <th>brand</th>\n",
              "      <th>feature</th>\n",
              "      <th>rank</th>\n",
              "      <th>also_view</th>\n",
              "      <th>details</th>\n",
              "      <th>main_cat</th>\n",
              "      <th>similar_item</th>\n",
              "      <th>price</th>\n",
              "      <th>overall_rating</th>\n",
              "      <th>y</th>\n",
              "    </tr>\n",
              "  </thead>\n",
              "  <tbody>\n",
              "    <tr>\n",
              "      <th>0</th>\n",
              "      <td>4.0</td>\n",
              "      <td>False</td>\n",
              "      <td>A1ICOB5XZ9GK3R</td>\n",
              "      <td>B002KQLUVU</td>\n",
              "      <td>{'Color:': ' Black'}</td>\n",
              "      <td>pinknblu</td>\n",
              "      <td>I gave it a four because when I first got it, ...</td>\n",
              "      <td>Blackberry Rim 8520</td>\n",
              "      <td>POSITIVE</td>\n",
              "      <td>06-09-2009</td>\n",
              "      <td>...</td>\n",
              "      <td>BlackBerry</td>\n",
              "      <td>['2.0MP Digital Camera, High-resolution displa...</td>\n",
              "      <td>228047.0</td>\n",
              "      <td>[]</td>\n",
              "      <td>{}</td>\n",
              "      <td>Cell Phones &amp; Accessories</td>\n",
              "      <td>class=\"a-bordered a-horizontal-stripes  a-spa...</td>\n",
              "      <td>16.0</td>\n",
              "      <td>positive</td>\n",
              "      <td>1</td>\n",
              "    </tr>\n",
              "    <tr>\n",
              "      <th>1</th>\n",
              "      <td>5.0</td>\n",
              "      <td>True</td>\n",
              "      <td>A2O0XNK7T4KASU</td>\n",
              "      <td>B002KQLUVU</td>\n",
              "      <td>{'Color:': ' Black'}</td>\n",
              "      <td>JR</td>\n",
              "      <td>Good</td>\n",
              "      <td>Good</td>\n",
              "      <td>POSITIVE</td>\n",
              "      <td>17-08-2017</td>\n",
              "      <td>...</td>\n",
              "      <td>BlackBerry</td>\n",
              "      <td>['2.0MP Digital Camera, High-resolution displa...</td>\n",
              "      <td>228047.0</td>\n",
              "      <td>[]</td>\n",
              "      <td>{}</td>\n",
              "      <td>Cell Phones &amp; Accessories</td>\n",
              "      <td>class=\"a-bordered a-horizontal-stripes  a-spa...</td>\n",
              "      <td>16.0</td>\n",
              "      <td>positive</td>\n",
              "      <td>1</td>\n",
              "    </tr>\n",
              "  </tbody>\n",
              "</table>\n",
              "<p>2 rows × 27 columns</p>\n",
              "</div>\n",
              "      <button class=\"colab-df-convert\" onclick=\"convertToInteractive('df-ef1ee284-4b8f-4487-ba66-208a0eefc38d')\"\n",
              "              title=\"Convert this dataframe to an interactive table.\"\n",
              "              style=\"display:none;\">\n",
              "\n",
              "  <svg xmlns=\"http://www.w3.org/2000/svg\" height=\"24px\"viewBox=\"0 0 24 24\"\n",
              "       width=\"24px\">\n",
              "    <path d=\"M0 0h24v24H0V0z\" fill=\"none\"/>\n",
              "    <path d=\"M18.56 5.44l.94 2.06.94-2.06 2.06-.94-2.06-.94-.94-2.06-.94 2.06-2.06.94zm-11 1L8.5 8.5l.94-2.06 2.06-.94-2.06-.94L8.5 2.5l-.94 2.06-2.06.94zm10 10l.94 2.06.94-2.06 2.06-.94-2.06-.94-.94-2.06-.94 2.06-2.06.94z\"/><path d=\"M17.41 7.96l-1.37-1.37c-.4-.4-.92-.59-1.43-.59-.52 0-1.04.2-1.43.59L10.3 9.45l-7.72 7.72c-.78.78-.78 2.05 0 2.83L4 21.41c.39.39.9.59 1.41.59.51 0 1.02-.2 1.41-.59l7.78-7.78 2.81-2.81c.8-.78.8-2.07 0-2.86zM5.41 20L4 18.59l7.72-7.72 1.47 1.35L5.41 20z\"/>\n",
              "  </svg>\n",
              "      </button>\n",
              "\n",
              "\n",
              "\n",
              "    <div id=\"df-704c7418-c742-40f2-a59d-74e848ffd562\">\n",
              "      <button class=\"colab-df-quickchart\" onclick=\"quickchart('df-704c7418-c742-40f2-a59d-74e848ffd562')\"\n",
              "              title=\"Suggest charts.\"\n",
              "              style=\"display:none;\">\n",
              "\n",
              "<svg xmlns=\"http://www.w3.org/2000/svg\" height=\"24px\"viewBox=\"0 0 24 24\"\n",
              "     width=\"24px\">\n",
              "    <g>\n",
              "        <path d=\"M19 3H5c-1.1 0-2 .9-2 2v14c0 1.1.9 2 2 2h14c1.1 0 2-.9 2-2V5c0-1.1-.9-2-2-2zM9 17H7v-7h2v7zm4 0h-2V7h2v10zm4 0h-2v-4h2v4z\"/>\n",
              "    </g>\n",
              "</svg>\n",
              "      </button>\n",
              "    </div>\n",
              "\n",
              "<style>\n",
              "  .colab-df-quickchart {\n",
              "    background-color: #E8F0FE;\n",
              "    border: none;\n",
              "    border-radius: 50%;\n",
              "    cursor: pointer;\n",
              "    display: none;\n",
              "    fill: #1967D2;\n",
              "    height: 32px;\n",
              "    padding: 0 0 0 0;\n",
              "    width: 32px;\n",
              "  }\n",
              "\n",
              "  .colab-df-quickchart:hover {\n",
              "    background-color: #E2EBFA;\n",
              "    box-shadow: 0px 1px 2px rgba(60, 64, 67, 0.3), 0px 1px 3px 1px rgba(60, 64, 67, 0.15);\n",
              "    fill: #174EA6;\n",
              "  }\n",
              "\n",
              "  [theme=dark] .colab-df-quickchart {\n",
              "    background-color: #3B4455;\n",
              "    fill: #D2E3FC;\n",
              "  }\n",
              "\n",
              "  [theme=dark] .colab-df-quickchart:hover {\n",
              "    background-color: #434B5C;\n",
              "    box-shadow: 0px 1px 3px 1px rgba(0, 0, 0, 0.15);\n",
              "    filter: drop-shadow(0px 1px 2px rgba(0, 0, 0, 0.3));\n",
              "    fill: #FFFFFF;\n",
              "  }\n",
              "</style>\n",
              "\n",
              "    <script>\n",
              "      async function quickchart(key) {\n",
              "        const containerElement = document.querySelector('#' + key);\n",
              "        const charts = await google.colab.kernel.invokeFunction(\n",
              "            'suggestCharts', [key], {});\n",
              "      }\n",
              "    </script>\n",
              "\n",
              "      <script>\n",
              "\n",
              "function displayQuickchartButton(domScope) {\n",
              "  let quickchartButtonEl =\n",
              "    domScope.querySelector('#df-704c7418-c742-40f2-a59d-74e848ffd562 button.colab-df-quickchart');\n",
              "  quickchartButtonEl.style.display =\n",
              "    google.colab.kernel.accessAllowed ? 'block' : 'none';\n",
              "}\n",
              "\n",
              "        displayQuickchartButton(document);\n",
              "      </script>\n",
              "      <style>\n",
              "    .colab-df-container {\n",
              "      display:flex;\n",
              "      flex-wrap:wrap;\n",
              "      gap: 12px;\n",
              "    }\n",
              "\n",
              "    .colab-df-convert {\n",
              "      background-color: #E8F0FE;\n",
              "      border: none;\n",
              "      border-radius: 50%;\n",
              "      cursor: pointer;\n",
              "      display: none;\n",
              "      fill: #1967D2;\n",
              "      height: 32px;\n",
              "      padding: 0 0 0 0;\n",
              "      width: 32px;\n",
              "    }\n",
              "\n",
              "    .colab-df-convert:hover {\n",
              "      background-color: #E2EBFA;\n",
              "      box-shadow: 0px 1px 2px rgba(60, 64, 67, 0.3), 0px 1px 3px 1px rgba(60, 64, 67, 0.15);\n",
              "      fill: #174EA6;\n",
              "    }\n",
              "\n",
              "    [theme=dark] .colab-df-convert {\n",
              "      background-color: #3B4455;\n",
              "      fill: #D2E3FC;\n",
              "    }\n",
              "\n",
              "    [theme=dark] .colab-df-convert:hover {\n",
              "      background-color: #434B5C;\n",
              "      box-shadow: 0px 1px 3px 1px rgba(0, 0, 0, 0.15);\n",
              "      filter: drop-shadow(0px 1px 2px rgba(0, 0, 0, 0.3));\n",
              "      fill: #FFFFFF;\n",
              "    }\n",
              "  </style>\n",
              "\n",
              "      <script>\n",
              "        const buttonEl =\n",
              "          document.querySelector('#df-ef1ee284-4b8f-4487-ba66-208a0eefc38d button.colab-df-convert');\n",
              "        buttonEl.style.display =\n",
              "          google.colab.kernel.accessAllowed ? 'block' : 'none';\n",
              "\n",
              "        async function convertToInteractive(key) {\n",
              "          const element = document.querySelector('#df-ef1ee284-4b8f-4487-ba66-208a0eefc38d');\n",
              "          const dataTable =\n",
              "            await google.colab.kernel.invokeFunction('convertToInteractive',\n",
              "                                                     [key], {});\n",
              "          if (!dataTable) return;\n",
              "\n",
              "          const docLinkHtml = 'Like what you see? Visit the ' +\n",
              "            '<a target=\"_blank\" href=https://colab.research.google.com/notebooks/data_table.ipynb>data table notebook</a>'\n",
              "            + ' to learn more about interactive tables.';\n",
              "          element.innerHTML = '';\n",
              "          dataTable['output_type'] = 'display_data';\n",
              "          await google.colab.output.renderOutput(dataTable, element);\n",
              "          const docLink = document.createElement('div');\n",
              "          docLink.innerHTML = docLinkHtml;\n",
              "          element.appendChild(docLink);\n",
              "        }\n",
              "      </script>\n",
              "    </div>\n",
              "  </div>\n"
            ]
          },
          "metadata": {},
          "execution_count": 152
        }
      ]
    },
    {
      "cell_type": "code",
      "source": [
        "#Dropping all NaN values from the column reviewText\n",
        "df = df.dropna(axis=0, subset=['reviewText'])"
      ],
      "metadata": {
        "id": "k8rDzbYgoWpn"
      },
      "execution_count": 153,
      "outputs": []
    },
    {
      "cell_type": "code",
      "source": [
        "df.isnull().sum()"
      ],
      "metadata": {
        "colab": {
          "base_uri": "https://localhost:8080/"
        },
        "id": "PdipiGbHoWnd",
        "outputId": "7a9df6ad-d422-4a0b-b877-843c3f3f152a"
      },
      "execution_count": 154,
      "outputs": [
        {
          "output_type": "execute_result",
          "data": {
            "text/plain": [
              "overall              0\n",
              "verified             0\n",
              "reviewerID           0\n",
              "asin                 0\n",
              "style                0\n",
              "reviewerName         2\n",
              "reviewText           0\n",
              "summary              5\n",
              "review_sentiment     0\n",
              "DateTime             0\n",
              "Unnamed: 0.1         0\n",
              "Unnamed: 0           0\n",
              "category             0\n",
              "description          0\n",
              "title                0\n",
              "also_buy             0\n",
              "image                0\n",
              "brand                0\n",
              "feature              0\n",
              "rank                24\n",
              "also_view            0\n",
              "details              0\n",
              "main_cat             0\n",
              "similar_item         0\n",
              "price                0\n",
              "overall_rating       0\n",
              "y                    0\n",
              "dtype: int64"
            ]
          },
          "metadata": {},
          "execution_count": 154
        }
      ]
    },
    {
      "cell_type": "code",
      "source": [
        "#Dropping uneccesary columns for the analysis\n",
        "df = df.drop(labels=['Unnamed: 0','Unnamed: 0.1','verified','asin' ,'style','reviewerName','description','title', 'main_cat' ],axis=1)"
      ],
      "metadata": {
        "id": "Sz9dYvYSoWku"
      },
      "execution_count": 155,
      "outputs": []
    },
    {
      "cell_type": "code",
      "source": [
        "#Removes all the punctuations for the strings of reviewText, ie '!\"#$%&\\'()*+,-./:;<=>?@[\\\\]^_`{|}~'\n",
        "def remove_punctuation(text):\n",
        "    no_punctuation=[words for words in text if words not in string.punctuation]\n",
        "    without_punct=''.join(no_punctuation)\n",
        "    return without_punct"
      ],
      "metadata": {
        "id": "20licodsoWiF"
      },
      "execution_count": 156,
      "outputs": []
    },
    {
      "cell_type": "code",
      "source": [
        "#Removing all the punctuations from the words, and changing the words to lower case to maintain uniformity\n",
        "df['reviewText']=df['reviewText'].apply(lambda x: remove_punctuation(x.lower()))"
      ],
      "metadata": {
        "id": "sYIxGCWzoWfU"
      },
      "execution_count": 157,
      "outputs": []
    },
    {
      "cell_type": "code",
      "source": [
        "#Stemming\n",
        "stemmer = PorterStemmer()"
      ],
      "metadata": {
        "id": "GvbuG3XyoWce"
      },
      "execution_count": 158,
      "outputs": []
    },
    {
      "cell_type": "code",
      "source": [
        "#Removing stop words from review\n",
        "words = stopwords.words(\"english\")\n",
        "df['clean_reviews'] = df['reviewText'].apply(lambda x: \" \".join([stemmer.stem(i) for i in re.sub(\"[^a-zA-Z]\", \" \", x).split() if i not in words]).lower())"
      ],
      "metadata": {
        "id": "F65D_0g4oWZK"
      },
      "execution_count": 159,
      "outputs": []
    },
    {
      "cell_type": "code",
      "source": [
        "#Dropping null values in the cleaned dataset\n",
        "df = df.dropna(subset=['clean_reviews'])"
      ],
      "metadata": {
        "id": "xMcQ1Se0BwwB"
      },
      "execution_count": 160,
      "outputs": []
    },
    {
      "cell_type": "code",
      "source": [
        "#Excel file for final tableau analysis\n",
        "df.to_excel(\"/content/drive/MyDrive/final_for_tableau.xlsx\", engine='xlsxwriter')"
      ],
      "metadata": {
        "id": "n0VsIjeyBwtl"
      },
      "execution_count": 161,
      "outputs": []
    },
    {
      "cell_type": "code",
      "source": [
        "df.head(5)"
      ],
      "metadata": {
        "colab": {
          "base_uri": "https://localhost:8080/",
          "height": 704
        },
        "id": "ClP_SBxIBwrk",
        "outputId": "d8f65945-1c1b-4af8-ac22-ce79a4af0d38"
      },
      "execution_count": 162,
      "outputs": [
        {
          "output_type": "execute_result",
          "data": {
            "text/plain": [
              "   overall      reviewerID                                         reviewText  \\\n",
              "0      4.0  A1ICOB5XZ9GK3R  i gave it a four because when i first got it i...   \n",
              "1      5.0  A2O0XNK7T4KASU                                               good   \n",
              "2      5.0  A3CB1J66JA929L                                                 ok   \n",
              "3      5.0  A1H8OJ4PPV9R12                                          excelente   \n",
              "4      1.0  A2H6U09YBWFYPJ  unhappy with the product  is not what i want a...   \n",
              "\n",
              "               summary review_sentiment    DateTime  \\\n",
              "0  Blackberry Rim 8520         POSITIVE  06-09-2009   \n",
              "1                 Good         POSITIVE  17-08-2017   \n",
              "2           Five Stars         POSITIVE  14-07-2017   \n",
              "3           Five Stars         NEGATIVE  16-02-2017   \n",
              "4             One Star         NEGATIVE  24-12-2016   \n",
              "\n",
              "                                            category  \\\n",
              "0  ['Cell Phones & Accessories', 'Cell Phones', '...   \n",
              "1  ['Cell Phones & Accessories', 'Cell Phones', '...   \n",
              "2  ['Cell Phones & Accessories', 'Cell Phones', '...   \n",
              "3  ['Cell Phones & Accessories', 'Cell Phones', '...   \n",
              "4  ['Cell Phones & Accessories', 'Cell Phones', '...   \n",
              "\n",
              "                                            also_buy  \\\n",
              "0  ['B004G8QNDA', 'B002LDHF2K', 'B0085EIE38', 'B0...   \n",
              "1  ['B004G8QNDA', 'B002LDHF2K', 'B0085EIE38', 'B0...   \n",
              "2  ['B004G8QNDA', 'B002LDHF2K', 'B0085EIE38', 'B0...   \n",
              "3  ['B004G8QNDA', 'B002LDHF2K', 'B0085EIE38', 'B0...   \n",
              "4  ['B004G8QNDA', 'B002LDHF2K', 'B0085EIE38', 'B0...   \n",
              "\n",
              "                                               image       brand  \\\n",
              "0  ['https://images-na.ssl-images-amazon.com/imag...  BlackBerry   \n",
              "1  ['https://images-na.ssl-images-amazon.com/imag...  BlackBerry   \n",
              "2  ['https://images-na.ssl-images-amazon.com/imag...  BlackBerry   \n",
              "3  ['https://images-na.ssl-images-amazon.com/imag...  BlackBerry   \n",
              "4  ['https://images-na.ssl-images-amazon.com/imag...  BlackBerry   \n",
              "\n",
              "                                             feature      rank also_view  \\\n",
              "0  ['2.0MP Digital Camera, High-resolution displa...  228047.0        []   \n",
              "1  ['2.0MP Digital Camera, High-resolution displa...  228047.0        []   \n",
              "2  ['2.0MP Digital Camera, High-resolution displa...  228047.0        []   \n",
              "3  ['2.0MP Digital Camera, High-resolution displa...  228047.0        []   \n",
              "4  ['2.0MP Digital Camera, High-resolution displa...  228047.0        []   \n",
              "\n",
              "  details                                       similar_item  price  \\\n",
              "0      {}   class=\"a-bordered a-horizontal-stripes  a-spa...   16.0   \n",
              "1      {}   class=\"a-bordered a-horizontal-stripes  a-spa...   16.0   \n",
              "2      {}   class=\"a-bordered a-horizontal-stripes  a-spa...   16.0   \n",
              "3      {}   class=\"a-bordered a-horizontal-stripes  a-spa...   16.0   \n",
              "4      {}   class=\"a-bordered a-horizontal-stripes  a-spa...   16.0   \n",
              "\n",
              "  overall_rating  y                                      clean_reviews  \n",
              "0       positive  1  gave four first got took time see get use key ...  \n",
              "1       positive  1                                               good  \n",
              "2       positive  1                                                 ok  \n",
              "3       positive  0                                           excelent  \n",
              "4       negative  0                   unhappi product want read amazon  "
            ],
            "text/html": [
              "\n",
              "\n",
              "  <div id=\"df-13f80640-837f-4f6a-ae3e-2f33fd715577\">\n",
              "    <div class=\"colab-df-container\">\n",
              "      <div>\n",
              "<style scoped>\n",
              "    .dataframe tbody tr th:only-of-type {\n",
              "        vertical-align: middle;\n",
              "    }\n",
              "\n",
              "    .dataframe tbody tr th {\n",
              "        vertical-align: top;\n",
              "    }\n",
              "\n",
              "    .dataframe thead th {\n",
              "        text-align: right;\n",
              "    }\n",
              "</style>\n",
              "<table border=\"1\" class=\"dataframe\">\n",
              "  <thead>\n",
              "    <tr style=\"text-align: right;\">\n",
              "      <th></th>\n",
              "      <th>overall</th>\n",
              "      <th>reviewerID</th>\n",
              "      <th>reviewText</th>\n",
              "      <th>summary</th>\n",
              "      <th>review_sentiment</th>\n",
              "      <th>DateTime</th>\n",
              "      <th>category</th>\n",
              "      <th>also_buy</th>\n",
              "      <th>image</th>\n",
              "      <th>brand</th>\n",
              "      <th>feature</th>\n",
              "      <th>rank</th>\n",
              "      <th>also_view</th>\n",
              "      <th>details</th>\n",
              "      <th>similar_item</th>\n",
              "      <th>price</th>\n",
              "      <th>overall_rating</th>\n",
              "      <th>y</th>\n",
              "      <th>clean_reviews</th>\n",
              "    </tr>\n",
              "  </thead>\n",
              "  <tbody>\n",
              "    <tr>\n",
              "      <th>0</th>\n",
              "      <td>4.0</td>\n",
              "      <td>A1ICOB5XZ9GK3R</td>\n",
              "      <td>i gave it a four because when i first got it i...</td>\n",
              "      <td>Blackberry Rim 8520</td>\n",
              "      <td>POSITIVE</td>\n",
              "      <td>06-09-2009</td>\n",
              "      <td>['Cell Phones &amp; Accessories', 'Cell Phones', '...</td>\n",
              "      <td>['B004G8QNDA', 'B002LDHF2K', 'B0085EIE38', 'B0...</td>\n",
              "      <td>['https://images-na.ssl-images-amazon.com/imag...</td>\n",
              "      <td>BlackBerry</td>\n",
              "      <td>['2.0MP Digital Camera, High-resolution displa...</td>\n",
              "      <td>228047.0</td>\n",
              "      <td>[]</td>\n",
              "      <td>{}</td>\n",
              "      <td>class=\"a-bordered a-horizontal-stripes  a-spa...</td>\n",
              "      <td>16.0</td>\n",
              "      <td>positive</td>\n",
              "      <td>1</td>\n",
              "      <td>gave four first got took time see get use key ...</td>\n",
              "    </tr>\n",
              "    <tr>\n",
              "      <th>1</th>\n",
              "      <td>5.0</td>\n",
              "      <td>A2O0XNK7T4KASU</td>\n",
              "      <td>good</td>\n",
              "      <td>Good</td>\n",
              "      <td>POSITIVE</td>\n",
              "      <td>17-08-2017</td>\n",
              "      <td>['Cell Phones &amp; Accessories', 'Cell Phones', '...</td>\n",
              "      <td>['B004G8QNDA', 'B002LDHF2K', 'B0085EIE38', 'B0...</td>\n",
              "      <td>['https://images-na.ssl-images-amazon.com/imag...</td>\n",
              "      <td>BlackBerry</td>\n",
              "      <td>['2.0MP Digital Camera, High-resolution displa...</td>\n",
              "      <td>228047.0</td>\n",
              "      <td>[]</td>\n",
              "      <td>{}</td>\n",
              "      <td>class=\"a-bordered a-horizontal-stripes  a-spa...</td>\n",
              "      <td>16.0</td>\n",
              "      <td>positive</td>\n",
              "      <td>1</td>\n",
              "      <td>good</td>\n",
              "    </tr>\n",
              "    <tr>\n",
              "      <th>2</th>\n",
              "      <td>5.0</td>\n",
              "      <td>A3CB1J66JA929L</td>\n",
              "      <td>ok</td>\n",
              "      <td>Five Stars</td>\n",
              "      <td>POSITIVE</td>\n",
              "      <td>14-07-2017</td>\n",
              "      <td>['Cell Phones &amp; Accessories', 'Cell Phones', '...</td>\n",
              "      <td>['B004G8QNDA', 'B002LDHF2K', 'B0085EIE38', 'B0...</td>\n",
              "      <td>['https://images-na.ssl-images-amazon.com/imag...</td>\n",
              "      <td>BlackBerry</td>\n",
              "      <td>['2.0MP Digital Camera, High-resolution displa...</td>\n",
              "      <td>228047.0</td>\n",
              "      <td>[]</td>\n",
              "      <td>{}</td>\n",
              "      <td>class=\"a-bordered a-horizontal-stripes  a-spa...</td>\n",
              "      <td>16.0</td>\n",
              "      <td>positive</td>\n",
              "      <td>1</td>\n",
              "      <td>ok</td>\n",
              "    </tr>\n",
              "    <tr>\n",
              "      <th>3</th>\n",
              "      <td>5.0</td>\n",
              "      <td>A1H8OJ4PPV9R12</td>\n",
              "      <td>excelente</td>\n",
              "      <td>Five Stars</td>\n",
              "      <td>NEGATIVE</td>\n",
              "      <td>16-02-2017</td>\n",
              "      <td>['Cell Phones &amp; Accessories', 'Cell Phones', '...</td>\n",
              "      <td>['B004G8QNDA', 'B002LDHF2K', 'B0085EIE38', 'B0...</td>\n",
              "      <td>['https://images-na.ssl-images-amazon.com/imag...</td>\n",
              "      <td>BlackBerry</td>\n",
              "      <td>['2.0MP Digital Camera, High-resolution displa...</td>\n",
              "      <td>228047.0</td>\n",
              "      <td>[]</td>\n",
              "      <td>{}</td>\n",
              "      <td>class=\"a-bordered a-horizontal-stripes  a-spa...</td>\n",
              "      <td>16.0</td>\n",
              "      <td>positive</td>\n",
              "      <td>0</td>\n",
              "      <td>excelent</td>\n",
              "    </tr>\n",
              "    <tr>\n",
              "      <th>4</th>\n",
              "      <td>1.0</td>\n",
              "      <td>A2H6U09YBWFYPJ</td>\n",
              "      <td>unhappy with the product  is not what i want a...</td>\n",
              "      <td>One Star</td>\n",
              "      <td>NEGATIVE</td>\n",
              "      <td>24-12-2016</td>\n",
              "      <td>['Cell Phones &amp; Accessories', 'Cell Phones', '...</td>\n",
              "      <td>['B004G8QNDA', 'B002LDHF2K', 'B0085EIE38', 'B0...</td>\n",
              "      <td>['https://images-na.ssl-images-amazon.com/imag...</td>\n",
              "      <td>BlackBerry</td>\n",
              "      <td>['2.0MP Digital Camera, High-resolution displa...</td>\n",
              "      <td>228047.0</td>\n",
              "      <td>[]</td>\n",
              "      <td>{}</td>\n",
              "      <td>class=\"a-bordered a-horizontal-stripes  a-spa...</td>\n",
              "      <td>16.0</td>\n",
              "      <td>negative</td>\n",
              "      <td>0</td>\n",
              "      <td>unhappi product want read amazon</td>\n",
              "    </tr>\n",
              "  </tbody>\n",
              "</table>\n",
              "</div>\n",
              "      <button class=\"colab-df-convert\" onclick=\"convertToInteractive('df-13f80640-837f-4f6a-ae3e-2f33fd715577')\"\n",
              "              title=\"Convert this dataframe to an interactive table.\"\n",
              "              style=\"display:none;\">\n",
              "\n",
              "  <svg xmlns=\"http://www.w3.org/2000/svg\" height=\"24px\"viewBox=\"0 0 24 24\"\n",
              "       width=\"24px\">\n",
              "    <path d=\"M0 0h24v24H0V0z\" fill=\"none\"/>\n",
              "    <path d=\"M18.56 5.44l.94 2.06.94-2.06 2.06-.94-2.06-.94-.94-2.06-.94 2.06-2.06.94zm-11 1L8.5 8.5l.94-2.06 2.06-.94-2.06-.94L8.5 2.5l-.94 2.06-2.06.94zm10 10l.94 2.06.94-2.06 2.06-.94-2.06-.94-.94-2.06-.94 2.06-2.06.94z\"/><path d=\"M17.41 7.96l-1.37-1.37c-.4-.4-.92-.59-1.43-.59-.52 0-1.04.2-1.43.59L10.3 9.45l-7.72 7.72c-.78.78-.78 2.05 0 2.83L4 21.41c.39.39.9.59 1.41.59.51 0 1.02-.2 1.41-.59l7.78-7.78 2.81-2.81c.8-.78.8-2.07 0-2.86zM5.41 20L4 18.59l7.72-7.72 1.47 1.35L5.41 20z\"/>\n",
              "  </svg>\n",
              "      </button>\n",
              "\n",
              "\n",
              "\n",
              "    <div id=\"df-6de7b45f-5c25-4dd0-8544-ef4d12a21c7d\">\n",
              "      <button class=\"colab-df-quickchart\" onclick=\"quickchart('df-6de7b45f-5c25-4dd0-8544-ef4d12a21c7d')\"\n",
              "              title=\"Suggest charts.\"\n",
              "              style=\"display:none;\">\n",
              "\n",
              "<svg xmlns=\"http://www.w3.org/2000/svg\" height=\"24px\"viewBox=\"0 0 24 24\"\n",
              "     width=\"24px\">\n",
              "    <g>\n",
              "        <path d=\"M19 3H5c-1.1 0-2 .9-2 2v14c0 1.1.9 2 2 2h14c1.1 0 2-.9 2-2V5c0-1.1-.9-2-2-2zM9 17H7v-7h2v7zm4 0h-2V7h2v10zm4 0h-2v-4h2v4z\"/>\n",
              "    </g>\n",
              "</svg>\n",
              "      </button>\n",
              "    </div>\n",
              "\n",
              "<style>\n",
              "  .colab-df-quickchart {\n",
              "    background-color: #E8F0FE;\n",
              "    border: none;\n",
              "    border-radius: 50%;\n",
              "    cursor: pointer;\n",
              "    display: none;\n",
              "    fill: #1967D2;\n",
              "    height: 32px;\n",
              "    padding: 0 0 0 0;\n",
              "    width: 32px;\n",
              "  }\n",
              "\n",
              "  .colab-df-quickchart:hover {\n",
              "    background-color: #E2EBFA;\n",
              "    box-shadow: 0px 1px 2px rgba(60, 64, 67, 0.3), 0px 1px 3px 1px rgba(60, 64, 67, 0.15);\n",
              "    fill: #174EA6;\n",
              "  }\n",
              "\n",
              "  [theme=dark] .colab-df-quickchart {\n",
              "    background-color: #3B4455;\n",
              "    fill: #D2E3FC;\n",
              "  }\n",
              "\n",
              "  [theme=dark] .colab-df-quickchart:hover {\n",
              "    background-color: #434B5C;\n",
              "    box-shadow: 0px 1px 3px 1px rgba(0, 0, 0, 0.15);\n",
              "    filter: drop-shadow(0px 1px 2px rgba(0, 0, 0, 0.3));\n",
              "    fill: #FFFFFF;\n",
              "  }\n",
              "</style>\n",
              "\n",
              "    <script>\n",
              "      async function quickchart(key) {\n",
              "        const containerElement = document.querySelector('#' + key);\n",
              "        const charts = await google.colab.kernel.invokeFunction(\n",
              "            'suggestCharts', [key], {});\n",
              "      }\n",
              "    </script>\n",
              "\n",
              "      <script>\n",
              "\n",
              "function displayQuickchartButton(domScope) {\n",
              "  let quickchartButtonEl =\n",
              "    domScope.querySelector('#df-6de7b45f-5c25-4dd0-8544-ef4d12a21c7d button.colab-df-quickchart');\n",
              "  quickchartButtonEl.style.display =\n",
              "    google.colab.kernel.accessAllowed ? 'block' : 'none';\n",
              "}\n",
              "\n",
              "        displayQuickchartButton(document);\n",
              "      </script>\n",
              "      <style>\n",
              "    .colab-df-container {\n",
              "      display:flex;\n",
              "      flex-wrap:wrap;\n",
              "      gap: 12px;\n",
              "    }\n",
              "\n",
              "    .colab-df-convert {\n",
              "      background-color: #E8F0FE;\n",
              "      border: none;\n",
              "      border-radius: 50%;\n",
              "      cursor: pointer;\n",
              "      display: none;\n",
              "      fill: #1967D2;\n",
              "      height: 32px;\n",
              "      padding: 0 0 0 0;\n",
              "      width: 32px;\n",
              "    }\n",
              "\n",
              "    .colab-df-convert:hover {\n",
              "      background-color: #E2EBFA;\n",
              "      box-shadow: 0px 1px 2px rgba(60, 64, 67, 0.3), 0px 1px 3px 1px rgba(60, 64, 67, 0.15);\n",
              "      fill: #174EA6;\n",
              "    }\n",
              "\n",
              "    [theme=dark] .colab-df-convert {\n",
              "      background-color: #3B4455;\n",
              "      fill: #D2E3FC;\n",
              "    }\n",
              "\n",
              "    [theme=dark] .colab-df-convert:hover {\n",
              "      background-color: #434B5C;\n",
              "      box-shadow: 0px 1px 3px 1px rgba(0, 0, 0, 0.15);\n",
              "      filter: drop-shadow(0px 1px 2px rgba(0, 0, 0, 0.3));\n",
              "      fill: #FFFFFF;\n",
              "    }\n",
              "  </style>\n",
              "\n",
              "      <script>\n",
              "        const buttonEl =\n",
              "          document.querySelector('#df-13f80640-837f-4f6a-ae3e-2f33fd715577 button.colab-df-convert');\n",
              "        buttonEl.style.display =\n",
              "          google.colab.kernel.accessAllowed ? 'block' : 'none';\n",
              "\n",
              "        async function convertToInteractive(key) {\n",
              "          const element = document.querySelector('#df-13f80640-837f-4f6a-ae3e-2f33fd715577');\n",
              "          const dataTable =\n",
              "            await google.colab.kernel.invokeFunction('convertToInteractive',\n",
              "                                                     [key], {});\n",
              "          if (!dataTable) return;\n",
              "\n",
              "          const docLinkHtml = 'Like what you see? Visit the ' +\n",
              "            '<a target=\"_blank\" href=https://colab.research.google.com/notebooks/data_table.ipynb>data table notebook</a>'\n",
              "            + ' to learn more about interactive tables.';\n",
              "          element.innerHTML = '';\n",
              "          dataTable['output_type'] = 'display_data';\n",
              "          await google.colab.output.renderOutput(dataTable, element);\n",
              "          const docLink = document.createElement('div');\n",
              "          docLink.innerHTML = docLinkHtml;\n",
              "          element.appendChild(docLink);\n",
              "        }\n",
              "      </script>\n",
              "    </div>\n",
              "  </div>\n"
            ]
          },
          "metadata": {},
          "execution_count": 162
        }
      ]
    },
    {
      "cell_type": "markdown",
      "source": [
        "### **Visualization**"
      ],
      "metadata": {
        "id": "gbwbjA30CxSz"
      }
    },
    {
      "cell_type": "code",
      "source": [
        "#Distribution of sentiment across the dataset using classes column\n",
        "fig, axes = plt.subplots(1, figsize=(5,5))\n",
        "fig.suptitle(\"Disrtibution of Positive, Neutral and Negative Rating\", fontsize = 15)\n",
        "plt.tight_layout(pad = 3.5)\n",
        "sns.countplot(x = \"overall_rating\", data = df)\n",
        "axes.set_xlabel(\"Overall Rating\", fontsize = 10)\n",
        "axes.set_ylabel(\"Count\", fontsize = 10)\n",
        "sns.despine()"
      ],
      "metadata": {
        "colab": {
          "base_uri": "https://localhost:8080/",
          "height": 488
        },
        "id": "Bvd1WUkgBwov",
        "outputId": "f47e8d44-4c70-430c-c23f-e03719ae7bfa"
      },
      "execution_count": 163,
      "outputs": [
        {
          "output_type": "display_data",
          "data": {
            "text/plain": [
              "<Figure size 500x500 with 1 Axes>"
            ],
            "image/png": "[encoded data removed]"
          },
          "metadata": {}
        }
      ]
    },
    {
      "cell_type": "code",
      "source": [
        "#Calculate the percentage for each value\n",
        "percentage_values = (df['overall_rating'].value_counts() / len(df)) * 100\n",
        "percentage_values = percentage_values.round(2)"
      ],
      "metadata": {
        "id": "0lnhsR_cBwjN"
      },
      "execution_count": 164,
      "outputs": []
    },
    {
      "cell_type": "code",
      "source": [
        "print(percentage_values)"
      ],
      "metadata": {
        "colab": {
          "base_uri": "https://localhost:8080/"
        },
        "id": "jSAMj12RFZYe",
        "outputId": "92e96842-4d1d-4b1a-fa5c-104ee56f7c6c"
      },
      "execution_count": 165,
      "outputs": [
        {
          "output_type": "stream",
          "name": "stdout",
          "text": [
            "positive    80.01\n",
            "negative    13.54\n",
            "neutral      6.46\n",
            "Name: overall_rating, dtype: float64\n"
          ]
        }
      ]
    },
    {
      "cell_type": "code",
      "source": [
        "#Top 7 brand having more count of reviews\n",
        "df['brand'].value_counts()[:7]"
      ],
      "metadata": {
        "colab": {
          "base_uri": "https://localhost:8080/"
        },
        "id": "9U2_EQDrIIb7",
        "outputId": "b1fb775c-37d6-4948-9577-118db9c40a6f"
      },
      "execution_count": 166,
      "outputs": [
        {
          "output_type": "execute_result",
          "data": {
            "text/plain": [
              "Samsung       4735\n",
              "LG            1239\n",
              "BlackBerry    1057\n",
              "Motorola       770\n",
              "BLU            619\n",
              "Huawei         583\n",
              "HTC            434\n",
              "Name: brand, dtype: int64"
            ]
          },
          "metadata": {},
          "execution_count": 166
        }
      ]
    },
    {
      "cell_type": "code",
      "source": [
        "#Visualizing Top brands and reviews\n",
        "plt.figure()\n",
        "sns.countplot(data=df,x=df['brand'],hue=df['overall_rating'],order=df['brand'].value_counts().iloc[:7].index)\n",
        "plt.xticks(rotation=90)\n",
        "plt.tight_layout()\n",
        "plt.title(\"Top 7 brand v/s Overall Rating\")\n",
        "plt.show()"
      ],
      "metadata": {
        "colab": {
          "base_uri": "https://localhost:8080/",
          "height": 503
        },
        "id": "lykIrTSiFZXM",
        "outputId": "5c119447-93fe-4f1a-bca9-ea77e495cfae"
      },
      "execution_count": 167,
      "outputs": [
        {
          "output_type": "display_data",
          "data": {
            "text/plain": [
              "<Figure size 640x480 with 1 Axes>"
            ],
            "image/png": "[encoded data removed]"
          },
          "metadata": {}
        }
      ]
    },
    {
      "cell_type": "code",
      "source": [
        "df['price'].dtype"
      ],
      "metadata": {
        "colab": {
          "base_uri": "https://localhost:8080/"
        },
        "id": "8TcPlWroJ_VR",
        "outputId": "21e264ec-6248-47e4-9eaf-e2d3bb17dd8a"
      },
      "execution_count": 168,
      "outputs": [
        {
          "output_type": "execute_result",
          "data": {
            "text/plain": [
              "dtype('float64')"
            ]
          },
          "metadata": {},
          "execution_count": 168
        }
      ]
    },
    {
      "cell_type": "code",
      "source": [
        "#Prices of Top 7 brands\n",
        "plt.figure(figsize=[12,6])\n",
        "plt.title(\"Prices of top 7 brands\")\n",
        "sns.boxplot(data=df,x='brand',y='price',order=df['brand'].value_counts().iloc[:7].index)\n",
        "plt.show()"
      ],
      "metadata": {
        "colab": {
          "base_uri": "https://localhost:8080/",
          "height": 487
        },
        "id": "tfJboUF0FZTn",
        "outputId": "508a8628-dc34-44df-a45a-abdcc41d3dbf"
      },
      "execution_count": 169,
      "outputs": [
        {
          "output_type": "display_data",
          "data": {
            "text/plain": [
              "<Figure size 1200x600 with 1 Axes>"
            ],
            "image/png": "[encoded data removed]"
          },
          "metadata": {}
        }
      ]
    },
    {
      "cell_type": "code",
      "source": [
        "#Price v/s Overall Rating\n",
        "fig = plt.figure(figsize=(12,4))\n",
        "ax1 = fig.add_subplot(1, 3, 1, title=\"Positive\")\n",
        "ax2 = fig.add_subplot(1, 3, 2, title=\"Negative\")\n",
        "ax3 = fig.add_subplot(1, 3, 3, title=\"Neurtal\")\n",
        "sns.kdeplot(df[df['overall_rating'] == \"positive\"]['price'], ax=ax1)\n",
        "sns.kdeplot(df[df['overall_rating'] == \"negative\"]['price'], ax=ax2)\n",
        "sns.kdeplot(df[df['overall_rating'] == \"neutral\"]['price'], ax=ax3)\n",
        "plt.show()"
      ],
      "metadata": {
        "colab": {
          "base_uri": "https://localhost:8080/",
          "height": 352
        },
        "id": "O7tcMiAHFZRU",
        "outputId": "0c119ba3-8d7c-4160-ee82-787f76ebbe44"
      },
      "execution_count": 170,
      "outputs": [
        {
          "output_type": "display_data",
          "data": {
            "text/plain": [
              "<Figure size 1200x400 with 3 Axes>"
            ],
            "image/png": "[encoded data removed]"
          },
          "metadata": {}
        }
      ]
    },
    {
      "cell_type": "code",
      "source": [
        "# Most repeated words in reviews\n",
        "stopwords = set(STOPWORDS)\n",
        "def word_cloud(data, title):\n",
        "    wordcloud = WordCloud(\n",
        "    background_color = \"white\",\n",
        "    max_font_size = 40,\n",
        "    max_words = 200,\n",
        "    stopwords = stopwords,\n",
        "    scale = 3).generate(str(data))\n",
        "    fig = plt.figure(figsize = (6, 6))\n",
        "    plt.axis(\"on\")\n",
        "    if title:\n",
        "        fig.suptitle(title, fontsize=15)\n",
        "        fig.subplots_adjust(top=2.35)\n",
        "    plt.imshow(wordcloud)\n",
        "    plt.show()"
      ],
      "metadata": {
        "id": "9ynyLqHxFZPT"
      },
      "execution_count": 171,
      "outputs": []
    },
    {
      "cell_type": "code",
      "source": [
        "# seperating all records into a different variable to generate wordcloud based on overall rating\n",
        "neg=df[df['overall_rating'] == \"negative\"]['clean_reviews']\n",
        "pos=df[df['overall_rating'] == \"positive\"]['clean_reviews']\n",
        "neu=df[df['overall_rating'] == \"neutral\"]['clean_reviews']"
      ],
      "metadata": {
        "id": "mhzRXbJ-FZMT"
      },
      "execution_count": 172,
      "outputs": []
    },
    {
      "cell_type": "code",
      "source": [
        "word_cloud(pos, \"Most Repeated words in positive rating\")"
      ],
      "metadata": {
        "colab": {
          "base_uri": "https://localhost:8080/",
          "height": 329
        },
        "id": "5z4UH5yBFZHI",
        "outputId": "40a771e7-fe44-4c26-fedc-e66b2c118a69"
      },
      "execution_count": 173,
      "outputs": [
        {
          "output_type": "display_data",
          "data": {
            "text/plain": [
              "<Figure size 600x600 with 1 Axes>"
            ],
            "image/png": "[encoded data removed]"
          },
          "metadata": {}
        }
      ]
    },
    {
      "cell_type": "code",
      "source": [
        "word_cloud(neg, \"Most Repeated words in negative rating\")"
      ],
      "metadata": {
        "colab": {
          "base_uri": "https://localhost:8080/",
          "height": 329
        },
        "id": "A4a36ZbucRjh",
        "outputId": "88751081-20e8-4e77-b322-21ba38377517"
      },
      "execution_count": 174,
      "outputs": [
        {
          "output_type": "display_data",
          "data": {
            "text/plain": [
              "<Figure size 600x600 with 1 Axes>"
            ],
            "image/png": "[encoded data removed]"
          },
          "metadata": {}
        }
      ]
    },
    {
      "cell_type": "code",
      "source": [
        "word_cloud(neu, \"Most Repeated words in neutral rating\")"
      ],
      "metadata": {
        "colab": {
          "base_uri": "https://localhost:8080/",
          "height": 329
        },
        "id": "LS9yUl8BAPeQ",
        "outputId": "fb5e1e89-bd04-4006-8239-fe4970e602fc"
      },
      "execution_count": 175,
      "outputs": [
        {
          "output_type": "display_data",
          "data": {
            "text/plain": [
              "<Figure size 600x600 with 1 Axes>"
            ],
            "image/png": "[encoded data removed]"
          },
          "metadata": {}
        }
      ]
    },
    {
      "cell_type": "markdown",
      "source": [
        "### **Model Building**"
      ],
      "metadata": {
        "id": "o3R9HDn_sI_q"
      }
    },
    {
      "cell_type": "code",
      "source": [
        "stemmer = PorterStemmer()\n",
        "wordnet_lemmatizer = WordNetLemmatizer()"
      ],
      "metadata": {
        "id": "EFNgWpRoq7st"
      },
      "execution_count": 176,
      "outputs": []
    },
    {
      "cell_type": "code",
      "source": [
        "def preprocessText(document):\n",
        "     # tokenize into words\n",
        "         # change sentence to lower case\n",
        "    document = document.lower()\n",
        "    words = word_tokenize(document)\n",
        "\n",
        "    # remove stop words\n",
        "    words = [word for word in words if word not in stop_words]\n",
        "\n",
        "    #apply lemmatization\n",
        "    words = [wordnet_lemmatizer.lemmatize(word, pos='v') for word in words]\n",
        "\n",
        "    words=[word for word in words if len(word)>2]\n",
        "    # join words to make sentence\n",
        "    document = \" \".join(words)\n",
        "\n",
        "    return document"
      ],
      "metadata": {
        "id": "tHdFzOc2q7o4"
      },
      "execution_count": 177,
      "outputs": []
    },
    {
      "cell_type": "code",
      "source": [
        "import nltk\n",
        "nltk.download('punkt')\n",
        "nltk.download('wordnet')\n",
        "df['clean_reviews']=[preprocessText(str(x)) for x in df['clean_reviews']]"
      ],
      "metadata": {
        "colab": {
          "base_uri": "https://localhost:8080/"
        },
        "id": "pJXQsTPwq7lj",
        "outputId": "64e59ba4-cf36-4e06-c140-2411308363d6"
      },
      "execution_count": 178,
      "outputs": [
        {
          "output_type": "stream",
          "name": "stderr",
          "text": [
            "[nltk_data] Downloading package punkt to /root/nltk_data...\n",
            "[nltk_data]   Package punkt is already up-to-date!\n",
            "[nltk_data] Downloading package wordnet to /root/nltk_data...\n",
            "[nltk_data]   Package wordnet is already up-to-date!\n"
          ]
        }
      ]
    },
    {
      "cell_type": "code",
      "source": [
        "#Creating X and y\n",
        "X = df['clean_reviews']\n",
        "y = df['y']"
      ],
      "metadata": {
        "id": "AmyAyLp3q7jU"
      },
      "execution_count": 179,
      "outputs": []
    },
    {
      "cell_type": "code",
      "source": [
        "# splitting into test and train\n",
        "X_train, X_test, y_train, y_test = train_test_split(X, y, test_size=0.2, random_state=42)"
      ],
      "metadata": {
        "id": "PmcQ2Whaq7e1"
      },
      "execution_count": 180,
      "outputs": []
    },
    {
      "cell_type": "code",
      "source": [
        "# vectorizing the sentences\n",
        "vect = CountVectorizer()\n",
        "vect.fit(X_train)"
      ],
      "metadata": {
        "colab": {
          "base_uri": "https://localhost:8080/",
          "height": 74
        },
        "id": "K9COGZulzHtf",
        "outputId": "0aee8d26-cf29-405e-c054-82d4498b1358"
      },
      "execution_count": 181,
      "outputs": [
        {
          "output_type": "execute_result",
          "data": {
            "text/plain": [
              "CountVectorizer()"
            ],
            "text/html": [
              "<style>#sk-container-id-2 {color: black;background-color: white;}#sk-container-id-2 pre{padding: 0;}#sk-container-id-2 div.sk-toggleable {background-color: white;}#sk-container-id-2 label.sk-toggleable__label {cursor: pointer;display: block;width: 100%;margin-bottom: 0;padding: 0.3em;box-sizing: border-box;text-align: center;}#sk-container-id-2 label.sk-toggleable__label-arrow:before {content: \"▸\";float: left;margin-right: 0.25em;color: #696969;}#sk-container-id-2 label.sk-toggleable__label-arrow:hover:before {color: black;}#sk-container-id-2 div.sk-estimator:hover label.sk-toggleable__label-arrow:before {color: black;}#sk-container-id-2 div.sk-toggleable__content {max-height: 0;max-width: 0;overflow: hidden;text-align: left;background-color: #f0f8ff;}#sk-container-id-2 div.sk-toggleable__content pre {margin: 0.2em;color: black;border-radius: 0.25em;background-color: #f0f8ff;}#sk-container-id-2 input.sk-toggleable__control:checked~div.sk-toggleable__content {max-height: 200px;max-width: 100%;overflow: auto;}#sk-container-id-2 input.sk-toggleable__control:checked~label.sk-toggleable__label-arrow:before {content: \"▾\";}#sk-container-id-2 div.sk-estimator input.sk-toggleable__control:checked~label.sk-toggleable__label {background-color: #d4ebff;}#sk-container-id-2 div.sk-label input.sk-toggleable__control:checked~label.sk-toggleable__label {background-color: #d4ebff;}#sk-container-id-2 input.sk-hidden--visually {border: 0;clip: rect(1px 1px 1px 1px);clip: rect(1px, 1px, 1px, 1px);height: 1px;margin: -1px;overflow: hidden;padding: 0;position: absolute;width: 1px;}#sk-container-id-2 div.sk-estimator {font-family: monospace;background-color: #f0f8ff;border: 1px dotted black;border-radius: 0.25em;box-sizing: border-box;margin-bottom: 0.5em;}#sk-container-id-2 div.sk-estimator:hover {background-color: #d4ebff;}#sk-container-id-2 div.sk-parallel-item::after {content: \"\";width: 100%;border-bottom: 1px solid gray;flex-grow: 1;}#sk-container-id-2 div.sk-label:hover label.sk-toggleable__label {background-color: #d4ebff;}#sk-container-id-2 div.sk-serial::before {content: \"\";position: absolute;border-left: 1px solid gray;box-sizing: border-box;top: 0;bottom: 0;left: 50%;z-index: 0;}#sk-container-id-2 div.sk-serial {display: flex;flex-direction: column;align-items: center;background-color: white;padding-right: 0.2em;padding-left: 0.2em;position: relative;}#sk-container-id-2 div.sk-item {position: relative;z-index: 1;}#sk-container-id-2 div.sk-parallel {display: flex;align-items: stretch;justify-content: center;background-color: white;position: relative;}#sk-container-id-2 div.sk-item::before, #sk-container-id-2 div.sk-parallel-item::before {content: \"\";position: absolute;border-left: 1px solid gray;box-sizing: border-box;top: 0;bottom: 0;left: 50%;z-index: -1;}#sk-container-id-2 div.sk-parallel-item {display: flex;flex-direction: column;z-index: 1;position: relative;background-color: white;}#sk-container-id-2 div.sk-parallel-item:first-child::after {align-self: flex-end;width: 50%;}#sk-container-id-2 div.sk-parallel-item:last-child::after {align-self: flex-start;width: 50%;}#sk-container-id-2 div.sk-parallel-item:only-child::after {width: 0;}#sk-container-id-2 div.sk-dashed-wrapped {border: 1px dashed gray;margin: 0 0.4em 0.5em 0.4em;box-sizing: border-box;padding-bottom: 0.4em;background-color: white;}#sk-container-id-2 div.sk-label label {font-family: monospace;font-weight: bold;display: inline-block;line-height: 1.2em;}#sk-container-id-2 div.sk-label-container {text-align: center;}#sk-container-id-2 div.sk-container {/* jupyter's `normalize.less` sets `[hidden] { display: none; }` but bootstrap.min.css set `[hidden] { display: none !important; }` so we also need the `!important` here to be able to override the default hidden behavior on the sphinx rendered scikit-learn.org. See: https://github.com/scikit-learn/scikit-learn/issues/21755 */display: inline-block !important;position: relative;}#sk-container-id-2 div.sk-text-repr-fallback {display: none;}</style><div id=\"sk-container-id-2\" class=\"sk-top-container\"><div class=\"sk-text-repr-fallback\"><pre>CountVectorizer()</pre><b>In a Jupyter environment, please rerun this cell to show the HTML representation or trust the notebook. <br />On GitHub, the HTML representation is unable to render, please try loading this page with nbviewer.org.</b></div><div class=\"sk-container\" hidden><div class=\"sk-item\"><div class=\"sk-estimator sk-toggleable\"><input class=\"sk-toggleable__control sk-hidden--visually\" id=\"sk-estimator-id-2\" type=\"checkbox\" checked><label for=\"sk-estimator-id-2\" class=\"sk-toggleable__label sk-toggleable__label-arrow\">CountVectorizer</label><div class=\"sk-toggleable__content\"><pre>CountVectorizer()</pre></div></div></div></div></div>"
            ]
          },
          "metadata": {},
          "execution_count": 181
        }
      ]
    },
    {
      "cell_type": "code",
      "source": [
        "#Transforming the train and test datasets\n",
        "X_train_transformed = vect.transform(X_train)\n",
        "X_test_transformed = vect.transform(X_test)"
      ],
      "metadata": {
        "id": "3HSHGl7HzHrk"
      },
      "execution_count": 182,
      "outputs": []
    },
    {
      "cell_type": "code",
      "source": [
        "#Training the NB model\n",
        "mnb = MultinomialNB()\n",
        "\n",
        "# fit\n",
        "mnb.fit(X_train_transformed,y_train)\n",
        "\n",
        "#Applying the model on train set too\n",
        "y_pred_train = mnb.predict(X_train_transformed)\n",
        "\n",
        "#Returns the probability of a review being positive\n",
        "y_pred_prob_tr = mnb.predict_proba(X_train_transformed)\n",
        "\n",
        "# predict class\n",
        "y_pred_class = mnb.predict(X_test_transformed)\n",
        "\n",
        "# predict probabilities\n",
        "y_pred_prob = mnb.predict_proba(X_test_transformed)"
      ],
      "metadata": {
        "id": "_s2BrUTHzHow"
      },
      "execution_count": 183,
      "outputs": []
    },
    {
      "cell_type": "code",
      "source": [
        "# printing  accuracy on train dataset\n",
        "y_pred_train = mnb.predict(X_train_transformed)\n",
        "\n",
        "print (\"Accuracy on train dataset :\")\n",
        "metrics.accuracy_score( y_train, y_pred_train)"
      ],
      "metadata": {
        "colab": {
          "base_uri": "https://localhost:8080/"
        },
        "id": "KTuy1oHizHmQ",
        "outputId": "5db5d422-51a2-4536-829e-0fca777c3e67"
      },
      "execution_count": 184,
      "outputs": [
        {
          "output_type": "stream",
          "name": "stdout",
          "text": [
            "Accuracy on train dataset :\n"
          ]
        },
        {
          "output_type": "execute_result",
          "data": {
            "text/plain": [
              "0.8750854798267609"
            ]
          },
          "metadata": {},
          "execution_count": 184
        }
      ]
    },
    {
      "cell_type": "code",
      "source": [
        "print (\"Accuracy on test dataset :\")\n",
        "metrics.accuracy_score(y_test, y_pred_class)"
      ],
      "metadata": {
        "colab": {
          "base_uri": "https://localhost:8080/"
        },
        "id": "cZO25RJwzHkQ",
        "outputId": "70467c44-eabd-497e-a5e8-b41e5244b1ba"
      },
      "execution_count": 185,
      "outputs": [
        {
          "output_type": "stream",
          "name": "stdout",
          "text": [
            "Accuracy on test dataset :\n"
          ]
        },
        {
          "output_type": "execute_result",
          "data": {
            "text/plain": [
              "0.8482224247948952"
            ]
          },
          "metadata": {},
          "execution_count": 185
        }
      ]
    },
    {
      "cell_type": "code",
      "source": [
        "#Confusion matrix for Train dataset\n",
        "confusion_train =metrics.confusion_matrix(y_train, y_pred_train)\n",
        "print(confusion_train)"
      ],
      "metadata": {
        "colab": {
          "base_uri": "https://localhost:8080/"
        },
        "id": "PTQfoVefzHhM",
        "outputId": "fec60b1e-1e30-4a1f-945b-61be50fd0c57"
      },
      "execution_count": 186,
      "outputs": [
        {
          "output_type": "stream",
          "name": "stdout",
          "text": [
            "[[1113  894]\n",
            " [ 202 6565]]\n"
          ]
        }
      ]
    },
    {
      "cell_type": "code",
      "source": [
        "#Function to plot confusion matrix\n",
        "def plot_confusion_matrix(confusion_matrix, class_names):\n",
        "    plt.figure(figsize=(5, 5))\n",
        "    sns.set(font_scale=1)\n",
        "    sns.heatmap(confusion_matrix, annot=True, fmt='d', cmap='Blues', cbar=False,\n",
        "                annot_kws={\"size\": 14}, xticklabels=class_names, yticklabels=class_names)\n",
        "    plt.xlabel('Predicted')\n",
        "    plt.ylabel('Actual')\n",
        "    plt.title('Confusion Matrix')\n",
        "    plt.show()"
      ],
      "metadata": {
        "id": "QaUVKeN61qRw"
      },
      "execution_count": 187,
      "outputs": []
    },
    {
      "cell_type": "code",
      "source": [
        "# ploting confusion matrix for Train dataset\n",
        "plot_confusion_matrix(confusion_train, df['review_sentiment'].unique().tolist())"
      ],
      "metadata": {
        "colab": {
          "base_uri": "https://localhost:8080/",
          "height": 496
        },
        "id": "C2X3JvEW13g8",
        "outputId": "7e01f07c-83cd-48d7-b097-f08de69ee7d9"
      },
      "execution_count": 188,
      "outputs": [
        {
          "output_type": "display_data",
          "data": {
            "text/plain": [
              "<Figure size 500x500 with 1 Axes>"
            ],
            "image/png": "[encoded data removed]"
          },
          "metadata": {}
        }
      ]
    },
    {
      "cell_type": "code",
      "source": [
        "#Confusion matrix for Test Dataset\n",
        "confusion_test =metrics.confusion_matrix(y_test, y_pred_class)\n",
        "print(confusion_test)"
      ],
      "metadata": {
        "colab": {
          "base_uri": "https://localhost:8080/"
        },
        "id": "5IPLHdc313eW",
        "outputId": "0cbcaa16-48a0-46f4-ffc0-81af0635e781"
      },
      "execution_count": 189,
      "outputs": [
        {
          "output_type": "stream",
          "name": "stdout",
          "text": [
            "[[ 236  283]\n",
            " [  50 1625]]\n"
          ]
        }
      ]
    },
    {
      "cell_type": "code",
      "source": [
        "plot_confusion_matrix(confusion_test, df['review_sentiment'].unique().tolist())"
      ],
      "metadata": {
        "colab": {
          "base_uri": "https://localhost:8080/",
          "height": 496
        },
        "id": "kWTe8_9o13b_",
        "outputId": "5f49a5e6-4d7b-47f8-8b75-9adb3c473292"
      },
      "execution_count": 190,
      "outputs": [
        {
          "output_type": "display_data",
          "data": {
            "text/plain": [
              "<Figure size 500x500 with 1 Axes>"
            ],
            "image/png": "[encoded data removed]"
          },
          "metadata": {}
        }
      ]
    },
    {
      "cell_type": "code",
      "source": [
        "#Sensitivity, Specificity, Precision, Recall for Train dataset\n",
        "TN_train = confusion_train[0, 0]\n",
        "FP_train = confusion_train[0, 1]\n",
        "FN_train = confusion_train[1, 0]\n",
        "TP_train = confusion_train[1, 1]"
      ],
      "metadata": {
        "id": "bCaG6a4D13Z2"
      },
      "execution_count": 191,
      "outputs": []
    },
    {
      "cell_type": "code",
      "source": [
        "sensitivity_train = TP_train / float(FN_train + TP_train)\n",
        "specificity_train = TN_train / float(TN_train + FP_train)\n",
        "precision_train = TP_train / float(TP_train + FP_train)\n",
        "print(\"sensitivity on train dataset\",sensitivity_train)\n",
        "print(\"specificity on train dataset\",specificity_train)\n",
        "print(\"precision on train dataset\",precision_train)\n",
        "print(\"RECALL SCORE on train dataset :\", metrics.recall_score(y_train, y_pred_train))"
      ],
      "metadata": {
        "colab": {
          "base_uri": "https://localhost:8080/"
        },
        "id": "4zb_cZfjFrbh",
        "outputId": "9b28b1f7-635e-4e65-9c3d-4c8a4969889f"
      },
      "execution_count": 192,
      "outputs": [
        {
          "output_type": "stream",
          "name": "stdout",
          "text": [
            "sensitivity on train dataset 0.9701492537313433\n",
            "specificity on train dataset 0.554559043348281\n",
            "precision on train dataset 0.8801447915270143\n",
            "RECALL SCORE on train dataset : 0.9701492537313433\n"
          ]
        }
      ]
    },
    {
      "cell_type": "code",
      "source": [
        "#Sensitivity, Specificity, Precision, Recall for test datset\n",
        "TN_test = confusion_test[0, 0]\n",
        "FP_test = confusion_test[0, 1]\n",
        "FN_test = confusion_test[1, 0]\n",
        "TP_test = confusion_test[1, 1]"
      ],
      "metadata": {
        "id": "iphbou1oFraG"
      },
      "execution_count": 193,
      "outputs": []
    },
    {
      "cell_type": "code",
      "source": [
        "sensitivity_test = TP_test / float(FN_test + TP_test)\n",
        "specificity_test = TN_test / float(TN_test + FP_test)\n",
        "precision_test = TP_test / float(TP_test + FP_test)\n",
        "print(\"sensitivity on test dataset\",sensitivity_test)\n",
        "print(\"specificity on train dataset\",specificity_test)\n",
        "print(\"precision on test dataset\",precision_test)\n",
        "print(\"RECALL SCORE on test dataset :\", metrics.recall_score(y_test, y_pred_class))"
      ],
      "metadata": {
        "colab": {
          "base_uri": "https://localhost:8080/"
        },
        "id": "aqbX7gDbFrYu",
        "outputId": "2c34ef7a-4dd8-4ded-a989-835413bce6a0"
      },
      "execution_count": 194,
      "outputs": [
        {
          "output_type": "stream",
          "name": "stdout",
          "text": [
            "sensitivity on test dataset 0.9701492537313433\n",
            "specificity on train dataset 0.45472061657032753\n",
            "precision on test dataset 0.8516771488469602\n",
            "RECALL SCORE on test dataset : 0.9701492537313433\n"
          ]
        }
      ]
    },
    {
      "cell_type": "code",
      "source": [
        "#F1 SCORE\n",
        "print(\"F1 SCORE for train dataset :\",metrics.f1_score(y_train, y_pred_train))\n",
        "print(\"F1 SCORE for test dataset :\",metrics.f1_score(y_test, y_pred_class))"
      ],
      "metadata": {
        "colab": {
          "base_uri": "https://localhost:8080/"
        },
        "id": "Ym3BRXSEFrT_",
        "outputId": "46e7d299-5f9a-4415-c842-52f4af1f4176"
      },
      "execution_count": 195,
      "outputs": [
        {
          "output_type": "stream",
          "name": "stdout",
          "text": [
            "F1 SCORE for train dataset : 0.9229579642907353\n",
            "F1 SCORE for test dataset : 0.907061121964834\n"
          ]
        }
      ]
    },
    {
      "cell_type": "markdown",
      "source": [
        "### **Plotting ROC Curve**"
      ],
      "metadata": {
        "id": "iJPKc2gFGpxX"
      }
    },
    {
      "cell_type": "code",
      "source": [
        "def draw_roc( actual, probs ):\n",
        "    fpr, tpr, thresholds = metrics.roc_curve( actual, probs,\n",
        "                                              drop_intermediate = False )\n",
        "    auc_score = metrics.roc_auc_score( actual, probs )\n",
        "    plt.figure(figsize=(5, 5))\n",
        "    plt.plot( fpr, tpr, label='ROC curve (area = %0.2f)' % auc_score )\n",
        "    plt.plot([0, 1], [0, 1], 'k--')\n",
        "    plt.xlim([0.0, 1.0])\n",
        "    plt.ylim([0.0, 1.05])\n",
        "    plt.xlabel('False Positive Rate')\n",
        "    plt.ylabel('True Positive Rate')\n",
        "    plt.title('Receiver Operating Characteristic Curve')\n",
        "    plt.legend(loc=\"lower right\")\n",
        "    plt.show()\n",
        "\n",
        "    return None"
      ],
      "metadata": {
        "id": "eSgq4FyUFrRO"
      },
      "execution_count": 196,
      "outputs": []
    },
    {
      "cell_type": "code",
      "source": [
        "fpr, tpr, thresholds = metrics.roc_curve(y_train, y_pred_prob_tr[:,1], drop_intermediate = False)\n",
        "draw_roc(y_train, y_pred_prob_tr[:,1])"
      ],
      "metadata": {
        "colab": {
          "base_uri": "https://localhost:8080/",
          "height": 496
        },
        "id": "BVnM4n0sFrO6",
        "outputId": "0bb114df-12f8-465b-89de-bfc68340c5f3"
      },
      "execution_count": 197,
      "outputs": [
        {
          "output_type": "display_data",
          "data": {
            "text/plain": [
              "<Figure size 500x500 with 1 Axes>"
            ],
            "image/png": "[encoded data removed]"
          },
          "metadata": {}
        }
      ]
    },
    {
      "cell_type": "code",
      "source": [
        "def predict_sentiment(input_text):\n",
        "    # Preprocess the input text (clean and preprocess similar to your training data)\n",
        "    cleaned_text = preprocessText(input_text)\n",
        "\n",
        "    # Vectorize the cleaned text using the fitted CountVectorizer\n",
        "    input_vector = vect.transform([cleaned_text])\n",
        "\n",
        "    # Make a prediction using the trained MNB model\n",
        "    predicted_class = mnb.predict(input_vector)[0]\n",
        "\n",
        "    # Return the predicted class\n",
        "    return predicted_class"
      ],
      "metadata": {
        "id": "ipxZGUge13XO"
      },
      "execution_count": 198,
      "outputs": []
    },
    {
      "cell_type": "code",
      "source": [
        "input_review = \"This product is great! I love it.\"\n",
        "predicted_sentiment = predict_sentiment(input_review)\n",
        "print(predicted_sentiment)"
      ],
      "metadata": {
        "colab": {
          "base_uri": "https://localhost:8080/"
        },
        "id": "n7NpBvhwJz8I",
        "outputId": "4f3071f4-2eb4-448a-da21-5e2632353374"
      },
      "execution_count": 199,
      "outputs": [
        {
          "output_type": "stream",
          "name": "stdout",
          "text": [
            "1\n"
          ]
        }
      ]
    },
    {
      "cell_type": "code",
      "source": [
        "input_review = \"Bad quality. Charge does not last.\"\n",
        "predicted_sentiment = predict_sentiment(input_review)\n",
        "print(predicted_sentiment)"
      ],
      "metadata": {
        "colab": {
          "base_uri": "https://localhost:8080/"
        },
        "id": "9NsB8ZUBJ23R",
        "outputId": "f0099766-6f4b-4b3a-90d7-df26e4891e32"
      },
      "execution_count": 200,
      "outputs": [
        {
          "output_type": "stream",
          "name": "stdout",
          "text": [
            "0\n"
          ]
        }
      ]
    },
    {
      "cell_type": "code",
      "source": [
        "df.shape"
      ],
      "metadata": {
        "colab": {
          "base_uri": "https://localhost:8080/"
        },
        "id": "NvNau5X_4-Tf",
        "outputId": "c2ff2cc0-f6ff-40ec-c646-0b6c2855ffcb"
      },
      "execution_count": 201,
      "outputs": [
        {
          "output_type": "execute_result",
          "data": {
            "text/plain": [
              "(10968, 19)"
            ]
          },
          "metadata": {},
          "execution_count": 201
        }
      ]
    }
  ]
}